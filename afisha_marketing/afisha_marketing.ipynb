{
 "cells": [
  {
   "cell_type": "markdown",
   "metadata": {},
   "source": [
    "\n",
    "# Описание данных\n",
    "\n",
    "**Таблица `visits` (лог сервера с информацией о посещениях сайта)**:\n",
    "\n",
    "- *Uid* — уникальный идентификатор пользователя\n",
    "- *Device* — категория устройства пользователя\n",
    "- *Start Ts* — дата и время начала сессии\n",
    "- *End Ts* — дата и время окончания сессии\n",
    "- *Source Id* — идентификатор рекламного источника, из которого пришел пользователь\n",
    "\n",
    "**Таблица `orders` (информация о заказах)**:\n",
    "\n",
    "- *Uid* — уникальный id пользователя, который сделал заказ\n",
    "- *Buy Ts* — дата и время заказа\n",
    "- *Revenue* — выручка Яндекс.Афиши с этого заказа\n",
    "\n",
    "**Таблица `costs` (информация о затратах на маркетинг)**:\n",
    "\n",
    "- *source_id* — идентификатор рекламного источника\n",
    "- *dt* — дата\n",
    "- *costs* — затраты на этот рекламный источник в этот день\n",
    "    \n",
    "### План работы:\n",
    "1. Загрузить датасеты\n",
    "2. Подготовить данные для исследования\n",
    "3. По данным о продукте, продажах и маркетинге построить отчеты и посчитать метрики. Результаты визуализировать\n",
    "4. Составить рекомендацию для отдела маркетинга"
   ]
  },
  {
   "cell_type": "markdown",
   "metadata": {},
   "source": [
    "<a id=\"info\"></a>\n",
    "# 1. Загрузить данные и изучить общую информацию"
   ]
  },
  {
   "cell_type": "markdown",
   "metadata": {},
   "source": [
    "### Загрузка библиотек и файлов"
   ]
  },
  {
   "cell_type": "code",
   "execution_count": 1,
   "metadata": {},
   "outputs": [],
   "source": [
    "# загрузим необходимые библиотеки\n",
    "import pandas as pd\n",
    "import matplotlib.pyplot as plt\n",
    "import numpy as np\n",
    "import seaborn as sns"
   ]
  },
  {
   "cell_type": "code",
   "execution_count": 2,
   "metadata": {},
   "outputs": [],
   "source": [
    "# прочитаем датасеты\n",
    "visits = pd.read_csv('/datasets/visits_log.csv')\n",
    "orders = pd.read_csv('/datasets/orders_log.csv')\n",
    "costs = pd.read_csv('/datasets/costs.csv')"
   ]
  },
  {
   "cell_type": "code",
   "execution_count": 3,
   "metadata": {
    "scrolled": true
   },
   "outputs": [
    {
     "data": {
      "text/html": [
       "<div>\n",
       "<style scoped>\n",
       "    .dataframe tbody tr th:only-of-type {\n",
       "        vertical-align: middle;\n",
       "    }\n",
       "\n",
       "    .dataframe tbody tr th {\n",
       "        vertical-align: top;\n",
       "    }\n",
       "\n",
       "    .dataframe thead th {\n",
       "        text-align: right;\n",
       "    }\n",
       "</style>\n",
       "<table border=\"1\" class=\"dataframe\">\n",
       "  <thead>\n",
       "    <tr style=\"text-align: right;\">\n",
       "      <th></th>\n",
       "      <th>Device</th>\n",
       "      <th>End Ts</th>\n",
       "      <th>Source Id</th>\n",
       "      <th>Start Ts</th>\n",
       "      <th>Uid</th>\n",
       "    </tr>\n",
       "  </thead>\n",
       "  <tbody>\n",
       "    <tr>\n",
       "      <th>0</th>\n",
       "      <td>touch</td>\n",
       "      <td>2017-12-20 17:38:00</td>\n",
       "      <td>4</td>\n",
       "      <td>2017-12-20 17:20:00</td>\n",
       "      <td>16879256277535980062</td>\n",
       "    </tr>\n",
       "    <tr>\n",
       "      <th>1</th>\n",
       "      <td>desktop</td>\n",
       "      <td>2018-02-19 17:21:00</td>\n",
       "      <td>2</td>\n",
       "      <td>2018-02-19 16:53:00</td>\n",
       "      <td>104060357244891740</td>\n",
       "    </tr>\n",
       "    <tr>\n",
       "      <th>2</th>\n",
       "      <td>touch</td>\n",
       "      <td>2017-07-01 01:54:00</td>\n",
       "      <td>5</td>\n",
       "      <td>2017-07-01 01:54:00</td>\n",
       "      <td>7459035603376831527</td>\n",
       "    </tr>\n",
       "    <tr>\n",
       "      <th>3</th>\n",
       "      <td>desktop</td>\n",
       "      <td>2018-05-20 11:23:00</td>\n",
       "      <td>9</td>\n",
       "      <td>2018-05-20 10:59:00</td>\n",
       "      <td>16174680259334210214</td>\n",
       "    </tr>\n",
       "    <tr>\n",
       "      <th>4</th>\n",
       "      <td>desktop</td>\n",
       "      <td>2017-12-27 14:06:00</td>\n",
       "      <td>3</td>\n",
       "      <td>2017-12-27 14:06:00</td>\n",
       "      <td>9969694820036681168</td>\n",
       "    </tr>\n",
       "  </tbody>\n",
       "</table>\n",
       "</div>"
      ],
      "text/plain": [
       "    Device               End Ts  Source Id             Start Ts  \\\n",
       "0    touch  2017-12-20 17:38:00          4  2017-12-20 17:20:00   \n",
       "1  desktop  2018-02-19 17:21:00          2  2018-02-19 16:53:00   \n",
       "2    touch  2017-07-01 01:54:00          5  2017-07-01 01:54:00   \n",
       "3  desktop  2018-05-20 11:23:00          9  2018-05-20 10:59:00   \n",
       "4  desktop  2017-12-27 14:06:00          3  2017-12-27 14:06:00   \n",
       "\n",
       "                    Uid  \n",
       "0  16879256277535980062  \n",
       "1    104060357244891740  \n",
       "2   7459035603376831527  \n",
       "3  16174680259334210214  \n",
       "4   9969694820036681168  "
      ]
     },
     "execution_count": 3,
     "metadata": {},
     "output_type": "execute_result"
    }
   ],
   "source": [
    "visits.head()"
   ]
  },
  {
   "cell_type": "code",
   "execution_count": 4,
   "metadata": {},
   "outputs": [
    {
     "name": "stdout",
     "output_type": "stream",
     "text": [
      "<class 'pandas.core.frame.DataFrame'>\n",
      "RangeIndex: 359400 entries, 0 to 359399\n",
      "Data columns (total 5 columns):\n",
      " #   Column     Non-Null Count   Dtype \n",
      "---  ------     --------------   ----- \n",
      " 0   Device     359400 non-null  object\n",
      " 1   End Ts     359400 non-null  object\n",
      " 2   Source Id  359400 non-null  int64 \n",
      " 3   Start Ts   359400 non-null  object\n",
      " 4   Uid        359400 non-null  uint64\n",
      "dtypes: int64(1), object(3), uint64(1)\n",
      "memory usage: 13.7+ MB\n"
     ]
    }
   ],
   "source": [
    "visits.info()"
   ]
  },
  {
   "cell_type": "code",
   "execution_count": 5,
   "metadata": {},
   "outputs": [
    {
     "data": {
      "text/html": [
       "<div>\n",
       "<style scoped>\n",
       "    .dataframe tbody tr th:only-of-type {\n",
       "        vertical-align: middle;\n",
       "    }\n",
       "\n",
       "    .dataframe tbody tr th {\n",
       "        vertical-align: top;\n",
       "    }\n",
       "\n",
       "    .dataframe thead th {\n",
       "        text-align: right;\n",
       "    }\n",
       "</style>\n",
       "<table border=\"1\" class=\"dataframe\">\n",
       "  <thead>\n",
       "    <tr style=\"text-align: right;\">\n",
       "      <th></th>\n",
       "      <th>Buy Ts</th>\n",
       "      <th>Revenue</th>\n",
       "      <th>Uid</th>\n",
       "    </tr>\n",
       "  </thead>\n",
       "  <tbody>\n",
       "    <tr>\n",
       "      <th>0</th>\n",
       "      <td>2017-06-01 00:10:00</td>\n",
       "      <td>17.00</td>\n",
       "      <td>10329302124590727494</td>\n",
       "    </tr>\n",
       "    <tr>\n",
       "      <th>1</th>\n",
       "      <td>2017-06-01 00:25:00</td>\n",
       "      <td>0.55</td>\n",
       "      <td>11627257723692907447</td>\n",
       "    </tr>\n",
       "    <tr>\n",
       "      <th>2</th>\n",
       "      <td>2017-06-01 00:27:00</td>\n",
       "      <td>0.37</td>\n",
       "      <td>17903680561304213844</td>\n",
       "    </tr>\n",
       "    <tr>\n",
       "      <th>3</th>\n",
       "      <td>2017-06-01 00:29:00</td>\n",
       "      <td>0.55</td>\n",
       "      <td>16109239769442553005</td>\n",
       "    </tr>\n",
       "    <tr>\n",
       "      <th>4</th>\n",
       "      <td>2017-06-01 07:58:00</td>\n",
       "      <td>0.37</td>\n",
       "      <td>14200605875248379450</td>\n",
       "    </tr>\n",
       "  </tbody>\n",
       "</table>\n",
       "</div>"
      ],
      "text/plain": [
       "                Buy Ts  Revenue                   Uid\n",
       "0  2017-06-01 00:10:00    17.00  10329302124590727494\n",
       "1  2017-06-01 00:25:00     0.55  11627257723692907447\n",
       "2  2017-06-01 00:27:00     0.37  17903680561304213844\n",
       "3  2017-06-01 00:29:00     0.55  16109239769442553005\n",
       "4  2017-06-01 07:58:00     0.37  14200605875248379450"
      ]
     },
     "execution_count": 5,
     "metadata": {},
     "output_type": "execute_result"
    }
   ],
   "source": [
    "orders.head()"
   ]
  },
  {
   "cell_type": "code",
   "execution_count": 6,
   "metadata": {},
   "outputs": [
    {
     "name": "stdout",
     "output_type": "stream",
     "text": [
      "<class 'pandas.core.frame.DataFrame'>\n",
      "RangeIndex: 50415 entries, 0 to 50414\n",
      "Data columns (total 3 columns):\n",
      " #   Column   Non-Null Count  Dtype  \n",
      "---  ------   --------------  -----  \n",
      " 0   Buy Ts   50415 non-null  object \n",
      " 1   Revenue  50415 non-null  float64\n",
      " 2   Uid      50415 non-null  uint64 \n",
      "dtypes: float64(1), object(1), uint64(1)\n",
      "memory usage: 1.2+ MB\n"
     ]
    }
   ],
   "source": [
    "orders.info()"
   ]
  },
  {
   "cell_type": "code",
   "execution_count": 7,
   "metadata": {},
   "outputs": [
    {
     "data": {
      "text/html": [
       "<div>\n",
       "<style scoped>\n",
       "    .dataframe tbody tr th:only-of-type {\n",
       "        vertical-align: middle;\n",
       "    }\n",
       "\n",
       "    .dataframe tbody tr th {\n",
       "        vertical-align: top;\n",
       "    }\n",
       "\n",
       "    .dataframe thead th {\n",
       "        text-align: right;\n",
       "    }\n",
       "</style>\n",
       "<table border=\"1\" class=\"dataframe\">\n",
       "  <thead>\n",
       "    <tr style=\"text-align: right;\">\n",
       "      <th></th>\n",
       "      <th>source_id</th>\n",
       "      <th>dt</th>\n",
       "      <th>costs</th>\n",
       "    </tr>\n",
       "  </thead>\n",
       "  <tbody>\n",
       "    <tr>\n",
       "      <th>0</th>\n",
       "      <td>1</td>\n",
       "      <td>2017-06-01</td>\n",
       "      <td>75.20</td>\n",
       "    </tr>\n",
       "    <tr>\n",
       "      <th>1</th>\n",
       "      <td>1</td>\n",
       "      <td>2017-06-02</td>\n",
       "      <td>62.25</td>\n",
       "    </tr>\n",
       "    <tr>\n",
       "      <th>2</th>\n",
       "      <td>1</td>\n",
       "      <td>2017-06-03</td>\n",
       "      <td>36.53</td>\n",
       "    </tr>\n",
       "    <tr>\n",
       "      <th>3</th>\n",
       "      <td>1</td>\n",
       "      <td>2017-06-04</td>\n",
       "      <td>55.00</td>\n",
       "    </tr>\n",
       "    <tr>\n",
       "      <th>4</th>\n",
       "      <td>1</td>\n",
       "      <td>2017-06-05</td>\n",
       "      <td>57.08</td>\n",
       "    </tr>\n",
       "  </tbody>\n",
       "</table>\n",
       "</div>"
      ],
      "text/plain": [
       "   source_id          dt  costs\n",
       "0          1  2017-06-01  75.20\n",
       "1          1  2017-06-02  62.25\n",
       "2          1  2017-06-03  36.53\n",
       "3          1  2017-06-04  55.00\n",
       "4          1  2017-06-05  57.08"
      ]
     },
     "execution_count": 7,
     "metadata": {},
     "output_type": "execute_result"
    }
   ],
   "source": [
    "costs.head()"
   ]
  },
  {
   "cell_type": "code",
   "execution_count": 8,
   "metadata": {
    "scrolled": true
   },
   "outputs": [
    {
     "name": "stdout",
     "output_type": "stream",
     "text": [
      "<class 'pandas.core.frame.DataFrame'>\n",
      "RangeIndex: 2542 entries, 0 to 2541\n",
      "Data columns (total 3 columns):\n",
      " #   Column     Non-Null Count  Dtype  \n",
      "---  ------     --------------  -----  \n",
      " 0   source_id  2542 non-null   int64  \n",
      " 1   dt         2542 non-null   object \n",
      " 2   costs      2542 non-null   float64\n",
      "dtypes: float64(1), int64(1), object(1)\n",
      "memory usage: 59.7+ KB\n"
     ]
    }
   ],
   "source": [
    "costs.info()"
   ]
  },
  {
   "cell_type": "markdown",
   "metadata": {},
   "source": [
    "### Вывод"
   ]
  },
  {
   "cell_type": "markdown",
   "metadata": {},
   "source": [
    "- Первый этап работы с данными состоит из подготовки необходимых библоиотек и загрузки файлов.\n",
    "- В трех датасетах `orders, visits, costs` содержится информация о пользовательской активности, продажах и тратах."
   ]
  },
  {
   "cell_type": "markdown",
   "metadata": {},
   "source": [
    "<a id=\"data\"></a>\n",
    "# 2. Подготовить данные для исследования"
   ]
  },
  {
   "cell_type": "markdown",
   "metadata": {},
   "source": [
    "#### Датасет `costs`"
   ]
  },
  {
   "cell_type": "code",
   "execution_count": 9,
   "metadata": {},
   "outputs": [
    {
     "name": "stdout",
     "output_type": "stream",
     "text": [
      "source_id             int64\n",
      "dt           datetime64[ns]\n",
      "costs               float64\n",
      "dtype: object\n"
     ]
    },
    {
     "data": {
      "text/html": [
       "<div>\n",
       "<style scoped>\n",
       "    .dataframe tbody tr th:only-of-type {\n",
       "        vertical-align: middle;\n",
       "    }\n",
       "\n",
       "    .dataframe tbody tr th {\n",
       "        vertical-align: top;\n",
       "    }\n",
       "\n",
       "    .dataframe thead th {\n",
       "        text-align: right;\n",
       "    }\n",
       "</style>\n",
       "<table border=\"1\" class=\"dataframe\">\n",
       "  <thead>\n",
       "    <tr style=\"text-align: right;\">\n",
       "      <th></th>\n",
       "      <th>source_id</th>\n",
       "      <th>dt</th>\n",
       "      <th>costs</th>\n",
       "    </tr>\n",
       "  </thead>\n",
       "  <tbody>\n",
       "    <tr>\n",
       "      <th>0</th>\n",
       "      <td>1</td>\n",
       "      <td>2017-06-01</td>\n",
       "      <td>75.20</td>\n",
       "    </tr>\n",
       "    <tr>\n",
       "      <th>1</th>\n",
       "      <td>1</td>\n",
       "      <td>2017-06-02</td>\n",
       "      <td>62.25</td>\n",
       "    </tr>\n",
       "    <tr>\n",
       "      <th>2</th>\n",
       "      <td>1</td>\n",
       "      <td>2017-06-03</td>\n",
       "      <td>36.53</td>\n",
       "    </tr>\n",
       "    <tr>\n",
       "      <th>3</th>\n",
       "      <td>1</td>\n",
       "      <td>2017-06-04</td>\n",
       "      <td>55.00</td>\n",
       "    </tr>\n",
       "    <tr>\n",
       "      <th>4</th>\n",
       "      <td>1</td>\n",
       "      <td>2017-06-05</td>\n",
       "      <td>57.08</td>\n",
       "    </tr>\n",
       "  </tbody>\n",
       "</table>\n",
       "</div>"
      ],
      "text/plain": [
       "   source_id         dt  costs\n",
       "0          1 2017-06-01  75.20\n",
       "1          1 2017-06-02  62.25\n",
       "2          1 2017-06-03  36.53\n",
       "3          1 2017-06-04  55.00\n",
       "4          1 2017-06-05  57.08"
      ]
     },
     "execution_count": 9,
     "metadata": {},
     "output_type": "execute_result"
    }
   ],
   "source": [
    "# изменим формат данных в столбце dt\n",
    "costs['dt'] = pd.to_datetime(costs['dt'], format='%Y-%m-%d')\n",
    "print(costs.dtypes)\n",
    "costs.head()"
   ]
  },
  {
   "cell_type": "markdown",
   "metadata": {},
   "source": [
    "#### Датасет `visits`"
   ]
  },
  {
   "cell_type": "code",
   "execution_count": 10,
   "metadata": {},
   "outputs": [
    {
     "data": {
      "text/html": [
       "<div>\n",
       "<style scoped>\n",
       "    .dataframe tbody tr th:only-of-type {\n",
       "        vertical-align: middle;\n",
       "    }\n",
       "\n",
       "    .dataframe tbody tr th {\n",
       "        vertical-align: top;\n",
       "    }\n",
       "\n",
       "    .dataframe thead th {\n",
       "        text-align: right;\n",
       "    }\n",
       "</style>\n",
       "<table border=\"1\" class=\"dataframe\">\n",
       "  <thead>\n",
       "    <tr style=\"text-align: right;\">\n",
       "      <th></th>\n",
       "      <th>device</th>\n",
       "      <th>end_ts</th>\n",
       "      <th>source_id</th>\n",
       "      <th>start_ts</th>\n",
       "      <th>uid</th>\n",
       "    </tr>\n",
       "  </thead>\n",
       "  <tbody>\n",
       "    <tr>\n",
       "      <th>0</th>\n",
       "      <td>touch</td>\n",
       "      <td>2017-12-20 17:38:00</td>\n",
       "      <td>4</td>\n",
       "      <td>2017-12-20 17:20:00</td>\n",
       "      <td>16879256277535980062</td>\n",
       "    </tr>\n",
       "    <tr>\n",
       "      <th>1</th>\n",
       "      <td>desktop</td>\n",
       "      <td>2018-02-19 17:21:00</td>\n",
       "      <td>2</td>\n",
       "      <td>2018-02-19 16:53:00</td>\n",
       "      <td>104060357244891740</td>\n",
       "    </tr>\n",
       "    <tr>\n",
       "      <th>2</th>\n",
       "      <td>touch</td>\n",
       "      <td>2017-07-01 01:54:00</td>\n",
       "      <td>5</td>\n",
       "      <td>2017-07-01 01:54:00</td>\n",
       "      <td>7459035603376831527</td>\n",
       "    </tr>\n",
       "    <tr>\n",
       "      <th>3</th>\n",
       "      <td>desktop</td>\n",
       "      <td>2018-05-20 11:23:00</td>\n",
       "      <td>9</td>\n",
       "      <td>2018-05-20 10:59:00</td>\n",
       "      <td>16174680259334210214</td>\n",
       "    </tr>\n",
       "    <tr>\n",
       "      <th>4</th>\n",
       "      <td>desktop</td>\n",
       "      <td>2017-12-27 14:06:00</td>\n",
       "      <td>3</td>\n",
       "      <td>2017-12-27 14:06:00</td>\n",
       "      <td>9969694820036681168</td>\n",
       "    </tr>\n",
       "  </tbody>\n",
       "</table>\n",
       "</div>"
      ],
      "text/plain": [
       "    device               end_ts  source_id             start_ts  \\\n",
       "0    touch  2017-12-20 17:38:00          4  2017-12-20 17:20:00   \n",
       "1  desktop  2018-02-19 17:21:00          2  2018-02-19 16:53:00   \n",
       "2    touch  2017-07-01 01:54:00          5  2017-07-01 01:54:00   \n",
       "3  desktop  2018-05-20 11:23:00          9  2018-05-20 10:59:00   \n",
       "4  desktop  2017-12-27 14:06:00          3  2017-12-27 14:06:00   \n",
       "\n",
       "                    uid  \n",
       "0  16879256277535980062  \n",
       "1    104060357244891740  \n",
       "2   7459035603376831527  \n",
       "3  16174680259334210214  \n",
       "4   9969694820036681168  "
      ]
     },
     "execution_count": 10,
     "metadata": {},
     "output_type": "execute_result"
    }
   ],
   "source": [
    "# Переименуем названия столбцов датасета visits\n",
    "visits.columns = map(str.lower, visits.columns)\n",
    "visits.columns = visits.columns.str.replace(' ', '_')\n",
    "visits.head()"
   ]
  },
  {
   "cell_type": "code",
   "execution_count": 11,
   "metadata": {},
   "outputs": [
    {
     "name": "stdout",
     "output_type": "stream",
     "text": [
      "device               object\n",
      "end_ts       datetime64[ns]\n",
      "source_id             int64\n",
      "start_ts     datetime64[ns]\n",
      "uid                  uint64\n",
      "dtype: object\n"
     ]
    },
    {
     "data": {
      "text/html": [
       "<div>\n",
       "<style scoped>\n",
       "    .dataframe tbody tr th:only-of-type {\n",
       "        vertical-align: middle;\n",
       "    }\n",
       "\n",
       "    .dataframe tbody tr th {\n",
       "        vertical-align: top;\n",
       "    }\n",
       "\n",
       "    .dataframe thead th {\n",
       "        text-align: right;\n",
       "    }\n",
       "</style>\n",
       "<table border=\"1\" class=\"dataframe\">\n",
       "  <thead>\n",
       "    <tr style=\"text-align: right;\">\n",
       "      <th></th>\n",
       "      <th>device</th>\n",
       "      <th>end_ts</th>\n",
       "      <th>source_id</th>\n",
       "      <th>start_ts</th>\n",
       "      <th>uid</th>\n",
       "    </tr>\n",
       "  </thead>\n",
       "  <tbody>\n",
       "    <tr>\n",
       "      <th>0</th>\n",
       "      <td>touch</td>\n",
       "      <td>2017-12-20 17:38:00</td>\n",
       "      <td>4</td>\n",
       "      <td>2017-12-20 17:20:00</td>\n",
       "      <td>16879256277535980062</td>\n",
       "    </tr>\n",
       "    <tr>\n",
       "      <th>1</th>\n",
       "      <td>desktop</td>\n",
       "      <td>2018-02-19 17:21:00</td>\n",
       "      <td>2</td>\n",
       "      <td>2018-02-19 16:53:00</td>\n",
       "      <td>104060357244891740</td>\n",
       "    </tr>\n",
       "    <tr>\n",
       "      <th>2</th>\n",
       "      <td>touch</td>\n",
       "      <td>2017-07-01 01:54:00</td>\n",
       "      <td>5</td>\n",
       "      <td>2017-07-01 01:54:00</td>\n",
       "      <td>7459035603376831527</td>\n",
       "    </tr>\n",
       "    <tr>\n",
       "      <th>3</th>\n",
       "      <td>desktop</td>\n",
       "      <td>2018-05-20 11:23:00</td>\n",
       "      <td>9</td>\n",
       "      <td>2018-05-20 10:59:00</td>\n",
       "      <td>16174680259334210214</td>\n",
       "    </tr>\n",
       "    <tr>\n",
       "      <th>4</th>\n",
       "      <td>desktop</td>\n",
       "      <td>2017-12-27 14:06:00</td>\n",
       "      <td>3</td>\n",
       "      <td>2017-12-27 14:06:00</td>\n",
       "      <td>9969694820036681168</td>\n",
       "    </tr>\n",
       "  </tbody>\n",
       "</table>\n",
       "</div>"
      ],
      "text/plain": [
       "    device              end_ts  source_id            start_ts  \\\n",
       "0    touch 2017-12-20 17:38:00          4 2017-12-20 17:20:00   \n",
       "1  desktop 2018-02-19 17:21:00          2 2018-02-19 16:53:00   \n",
       "2    touch 2017-07-01 01:54:00          5 2017-07-01 01:54:00   \n",
       "3  desktop 2018-05-20 11:23:00          9 2018-05-20 10:59:00   \n",
       "4  desktop 2017-12-27 14:06:00          3 2017-12-27 14:06:00   \n",
       "\n",
       "                    uid  \n",
       "0  16879256277535980062  \n",
       "1    104060357244891740  \n",
       "2   7459035603376831527  \n",
       "3  16174680259334210214  \n",
       "4   9969694820036681168  "
      ]
     },
     "execution_count": 11,
     "metadata": {},
     "output_type": "execute_result"
    }
   ],
   "source": [
    "# изменим формат данных в столбцах end_ts и start_ts\n",
    "visits['end_ts'] = pd.to_datetime(visits['end_ts'], format='%Y-%m-%d %H:%M')\n",
    "visits['start_ts'] = pd.to_datetime(visits['start_ts'], format='%Y-%m-%d %H:%M')\n",
    "print(visits.dtypes)\n",
    "visits.head()"
   ]
  },
  {
   "cell_type": "markdown",
   "metadata": {},
   "source": [
    "#### Датасет `orders`"
   ]
  },
  {
   "cell_type": "code",
   "execution_count": 12,
   "metadata": {},
   "outputs": [
    {
     "data": {
      "text/html": [
       "<div>\n",
       "<style scoped>\n",
       "    .dataframe tbody tr th:only-of-type {\n",
       "        vertical-align: middle;\n",
       "    }\n",
       "\n",
       "    .dataframe tbody tr th {\n",
       "        vertical-align: top;\n",
       "    }\n",
       "\n",
       "    .dataframe thead th {\n",
       "        text-align: right;\n",
       "    }\n",
       "</style>\n",
       "<table border=\"1\" class=\"dataframe\">\n",
       "  <thead>\n",
       "    <tr style=\"text-align: right;\">\n",
       "      <th></th>\n",
       "      <th>buy_ts</th>\n",
       "      <th>revenue</th>\n",
       "      <th>uid</th>\n",
       "    </tr>\n",
       "  </thead>\n",
       "  <tbody>\n",
       "    <tr>\n",
       "      <th>0</th>\n",
       "      <td>2017-06-01 00:10:00</td>\n",
       "      <td>17.00</td>\n",
       "      <td>10329302124590727494</td>\n",
       "    </tr>\n",
       "    <tr>\n",
       "      <th>1</th>\n",
       "      <td>2017-06-01 00:25:00</td>\n",
       "      <td>0.55</td>\n",
       "      <td>11627257723692907447</td>\n",
       "    </tr>\n",
       "    <tr>\n",
       "      <th>2</th>\n",
       "      <td>2017-06-01 00:27:00</td>\n",
       "      <td>0.37</td>\n",
       "      <td>17903680561304213844</td>\n",
       "    </tr>\n",
       "    <tr>\n",
       "      <th>3</th>\n",
       "      <td>2017-06-01 00:29:00</td>\n",
       "      <td>0.55</td>\n",
       "      <td>16109239769442553005</td>\n",
       "    </tr>\n",
       "    <tr>\n",
       "      <th>4</th>\n",
       "      <td>2017-06-01 07:58:00</td>\n",
       "      <td>0.37</td>\n",
       "      <td>14200605875248379450</td>\n",
       "    </tr>\n",
       "  </tbody>\n",
       "</table>\n",
       "</div>"
      ],
      "text/plain": [
       "                buy_ts  revenue                   uid\n",
       "0  2017-06-01 00:10:00    17.00  10329302124590727494\n",
       "1  2017-06-01 00:25:00     0.55  11627257723692907447\n",
       "2  2017-06-01 00:27:00     0.37  17903680561304213844\n",
       "3  2017-06-01 00:29:00     0.55  16109239769442553005\n",
       "4  2017-06-01 07:58:00     0.37  14200605875248379450"
      ]
     },
     "execution_count": 12,
     "metadata": {},
     "output_type": "execute_result"
    }
   ],
   "source": [
    "# Переименуем названия столбцов датасета orders\n",
    "orders.columns = map(str.lower, orders.columns)\n",
    "orders.columns = orders.columns.str.replace(' ', '_')\n",
    "orders.head()"
   ]
  },
  {
   "cell_type": "code",
   "execution_count": 13,
   "metadata": {},
   "outputs": [
    {
     "name": "stdout",
     "output_type": "stream",
     "text": [
      "buy_ts     datetime64[ns]\n",
      "revenue           float64\n",
      "uid                uint64\n",
      "dtype: object\n"
     ]
    },
    {
     "data": {
      "text/html": [
       "<div>\n",
       "<style scoped>\n",
       "    .dataframe tbody tr th:only-of-type {\n",
       "        vertical-align: middle;\n",
       "    }\n",
       "\n",
       "    .dataframe tbody tr th {\n",
       "        vertical-align: top;\n",
       "    }\n",
       "\n",
       "    .dataframe thead th {\n",
       "        text-align: right;\n",
       "    }\n",
       "</style>\n",
       "<table border=\"1\" class=\"dataframe\">\n",
       "  <thead>\n",
       "    <tr style=\"text-align: right;\">\n",
       "      <th></th>\n",
       "      <th>buy_ts</th>\n",
       "      <th>revenue</th>\n",
       "      <th>uid</th>\n",
       "    </tr>\n",
       "  </thead>\n",
       "  <tbody>\n",
       "    <tr>\n",
       "      <th>0</th>\n",
       "      <td>2017-06-01 00:10:00</td>\n",
       "      <td>17.00</td>\n",
       "      <td>10329302124590727494</td>\n",
       "    </tr>\n",
       "    <tr>\n",
       "      <th>1</th>\n",
       "      <td>2017-06-01 00:25:00</td>\n",
       "      <td>0.55</td>\n",
       "      <td>11627257723692907447</td>\n",
       "    </tr>\n",
       "    <tr>\n",
       "      <th>2</th>\n",
       "      <td>2017-06-01 00:27:00</td>\n",
       "      <td>0.37</td>\n",
       "      <td>17903680561304213844</td>\n",
       "    </tr>\n",
       "    <tr>\n",
       "      <th>3</th>\n",
       "      <td>2017-06-01 00:29:00</td>\n",
       "      <td>0.55</td>\n",
       "      <td>16109239769442553005</td>\n",
       "    </tr>\n",
       "    <tr>\n",
       "      <th>4</th>\n",
       "      <td>2017-06-01 07:58:00</td>\n",
       "      <td>0.37</td>\n",
       "      <td>14200605875248379450</td>\n",
       "    </tr>\n",
       "  </tbody>\n",
       "</table>\n",
       "</div>"
      ],
      "text/plain": [
       "               buy_ts  revenue                   uid\n",
       "0 2017-06-01 00:10:00    17.00  10329302124590727494\n",
       "1 2017-06-01 00:25:00     0.55  11627257723692907447\n",
       "2 2017-06-01 00:27:00     0.37  17903680561304213844\n",
       "3 2017-06-01 00:29:00     0.55  16109239769442553005\n",
       "4 2017-06-01 07:58:00     0.37  14200605875248379450"
      ]
     },
     "execution_count": 13,
     "metadata": {},
     "output_type": "execute_result"
    }
   ],
   "source": [
    "# изменим формат данных в столбце buy_ts\n",
    "orders['buy_ts'] = pd.to_datetime(orders['buy_ts'], format='%Y-%m-%d %H:%M')\n",
    "print(orders.dtypes)\n",
    "orders.head()"
   ]
  },
  {
   "cell_type": "markdown",
   "metadata": {},
   "source": [
    "#### Проверка дубликатов"
   ]
  },
  {
   "cell_type": "code",
   "execution_count": 14,
   "metadata": {},
   "outputs": [
    {
     "data": {
      "text/plain": [
       "0"
      ]
     },
     "execution_count": 14,
     "metadata": {},
     "output_type": "execute_result"
    }
   ],
   "source": [
    "visits.duplicated().sum()"
   ]
  },
  {
   "cell_type": "code",
   "execution_count": 15,
   "metadata": {},
   "outputs": [
    {
     "data": {
      "text/plain": [
       "0"
      ]
     },
     "execution_count": 15,
     "metadata": {},
     "output_type": "execute_result"
    }
   ],
   "source": [
    "orders.duplicated().sum()"
   ]
  },
  {
   "cell_type": "code",
   "execution_count": 16,
   "metadata": {},
   "outputs": [
    {
     "data": {
      "text/plain": [
       "0"
      ]
     },
     "execution_count": 16,
     "metadata": {},
     "output_type": "execute_result"
    }
   ],
   "source": [
    "costs.duplicated().sum()"
   ]
  },
  {
   "cell_type": "markdown",
   "metadata": {},
   "source": [
    "### Вывод"
   ]
  },
  {
   "cell_type": "markdown",
   "metadata": {},
   "source": [
    "- Для дальнейшей работы с таблицами названия столбцов в orders и visits приведены к общему виду. Изменены типы данных во всех трех датасетах в столбцах со временем, т.е. orders (Buy Ts), visits (End Ts,\tStart Ts), costs (dt) приведены к типу datetime."
   ]
  },
  {
   "cell_type": "markdown",
   "metadata": {},
   "source": [
    "<a id=\"summary\"></a>\n",
    "# 3. Подсчет основных метрик"
   ]
  },
  {
   "cell_type": "markdown",
   "metadata": {},
   "source": [
    "### Продукт"
   ]
  },
  {
   "cell_type": "markdown",
   "metadata": {},
   "source": [
    "*Проанализируем датасет `visits`, чтобы ответить на вапросы*:\n",
    "\n",
    "- сколько людей пользуются продуктом в день, неделю, месяц?\n",
    "- сколько сессий в день?\n",
    "- сколько длится одна сессия?\n",
    "- как часто люди возвращаются?"
   ]
  },
  {
   "cell_type": "code",
   "execution_count": 17,
   "metadata": {},
   "outputs": [
    {
     "data": {
      "text/html": [
       "<div>\n",
       "<style scoped>\n",
       "    .dataframe tbody tr th:only-of-type {\n",
       "        vertical-align: middle;\n",
       "    }\n",
       "\n",
       "    .dataframe tbody tr th {\n",
       "        vertical-align: top;\n",
       "    }\n",
       "\n",
       "    .dataframe thead th {\n",
       "        text-align: right;\n",
       "    }\n",
       "</style>\n",
       "<table border=\"1\" class=\"dataframe\">\n",
       "  <thead>\n",
       "    <tr style=\"text-align: right;\">\n",
       "      <th></th>\n",
       "      <th>device</th>\n",
       "      <th>end_ts</th>\n",
       "      <th>source_id</th>\n",
       "      <th>start_ts</th>\n",
       "      <th>uid</th>\n",
       "    </tr>\n",
       "  </thead>\n",
       "  <tbody>\n",
       "    <tr>\n",
       "      <th>0</th>\n",
       "      <td>touch</td>\n",
       "      <td>2017-12-20 17:38:00</td>\n",
       "      <td>4</td>\n",
       "      <td>2017-12-20 17:20:00</td>\n",
       "      <td>16879256277535980062</td>\n",
       "    </tr>\n",
       "    <tr>\n",
       "      <th>1</th>\n",
       "      <td>desktop</td>\n",
       "      <td>2018-02-19 17:21:00</td>\n",
       "      <td>2</td>\n",
       "      <td>2018-02-19 16:53:00</td>\n",
       "      <td>104060357244891740</td>\n",
       "    </tr>\n",
       "    <tr>\n",
       "      <th>2</th>\n",
       "      <td>touch</td>\n",
       "      <td>2017-07-01 01:54:00</td>\n",
       "      <td>5</td>\n",
       "      <td>2017-07-01 01:54:00</td>\n",
       "      <td>7459035603376831527</td>\n",
       "    </tr>\n",
       "    <tr>\n",
       "      <th>3</th>\n",
       "      <td>desktop</td>\n",
       "      <td>2018-05-20 11:23:00</td>\n",
       "      <td>9</td>\n",
       "      <td>2018-05-20 10:59:00</td>\n",
       "      <td>16174680259334210214</td>\n",
       "    </tr>\n",
       "    <tr>\n",
       "      <th>4</th>\n",
       "      <td>desktop</td>\n",
       "      <td>2017-12-27 14:06:00</td>\n",
       "      <td>3</td>\n",
       "      <td>2017-12-27 14:06:00</td>\n",
       "      <td>9969694820036681168</td>\n",
       "    </tr>\n",
       "  </tbody>\n",
       "</table>\n",
       "</div>"
      ],
      "text/plain": [
       "    device              end_ts  source_id            start_ts  \\\n",
       "0    touch 2017-12-20 17:38:00          4 2017-12-20 17:20:00   \n",
       "1  desktop 2018-02-19 17:21:00          2 2018-02-19 16:53:00   \n",
       "2    touch 2017-07-01 01:54:00          5 2017-07-01 01:54:00   \n",
       "3  desktop 2018-05-20 11:23:00          9 2018-05-20 10:59:00   \n",
       "4  desktop 2017-12-27 14:06:00          3 2017-12-27 14:06:00   \n",
       "\n",
       "                    uid  \n",
       "0  16879256277535980062  \n",
       "1    104060357244891740  \n",
       "2   7459035603376831527  \n",
       "3  16174680259334210214  \n",
       "4   9969694820036681168  "
      ]
     },
     "execution_count": 17,
     "metadata": {},
     "output_type": "execute_result"
    }
   ],
   "source": [
    "visits.head()"
   ]
  },
  {
   "cell_type": "code",
   "execution_count": 18,
   "metadata": {},
   "outputs": [
    {
     "data": {
      "text/plain": [
       "array([ 4,  2,  5,  9,  3,  1, 10,  7,  6])"
      ]
     },
     "execution_count": 18,
     "metadata": {},
     "output_type": "execute_result"
    }
   ],
   "source": [
    "# изучим, какие есть источники\n",
    "visits.source_id.unique()"
   ]
  },
  {
   "cell_type": "code",
   "execution_count": 19,
   "metadata": {},
   "outputs": [
    {
     "data": {
      "text/html": [
       "<div>\n",
       "<style scoped>\n",
       "    .dataframe tbody tr th:only-of-type {\n",
       "        vertical-align: middle;\n",
       "    }\n",
       "\n",
       "    .dataframe tbody tr th {\n",
       "        vertical-align: top;\n",
       "    }\n",
       "\n",
       "    .dataframe thead th {\n",
       "        text-align: right;\n",
       "    }\n",
       "</style>\n",
       "<table border=\"1\" class=\"dataframe\">\n",
       "  <thead>\n",
       "    <tr style=\"text-align: right;\">\n",
       "      <th></th>\n",
       "      <th>device</th>\n",
       "      <th>end_ts</th>\n",
       "      <th>source_id</th>\n",
       "      <th>start_ts</th>\n",
       "      <th>uid</th>\n",
       "      <th>year</th>\n",
       "      <th>month</th>\n",
       "      <th>week</th>\n",
       "      <th>date</th>\n",
       "    </tr>\n",
       "  </thead>\n",
       "  <tbody>\n",
       "    <tr>\n",
       "      <th>0</th>\n",
       "      <td>touch</td>\n",
       "      <td>2017-12-20 17:38:00</td>\n",
       "      <td>4</td>\n",
       "      <td>2017-12-20 17:20:00</td>\n",
       "      <td>16879256277535980062</td>\n",
       "      <td>2017-01-01</td>\n",
       "      <td>2017-12-01</td>\n",
       "      <td>2017-12-14</td>\n",
       "      <td>2017-12-20</td>\n",
       "    </tr>\n",
       "    <tr>\n",
       "      <th>1</th>\n",
       "      <td>desktop</td>\n",
       "      <td>2018-02-19 17:21:00</td>\n",
       "      <td>2</td>\n",
       "      <td>2018-02-19 16:53:00</td>\n",
       "      <td>104060357244891740</td>\n",
       "      <td>2018-01-01</td>\n",
       "      <td>2018-02-01</td>\n",
       "      <td>2018-02-15</td>\n",
       "      <td>2018-02-19</td>\n",
       "    </tr>\n",
       "    <tr>\n",
       "      <th>2</th>\n",
       "      <td>touch</td>\n",
       "      <td>2017-07-01 01:54:00</td>\n",
       "      <td>5</td>\n",
       "      <td>2017-07-01 01:54:00</td>\n",
       "      <td>7459035603376831527</td>\n",
       "      <td>2017-01-01</td>\n",
       "      <td>2017-07-01</td>\n",
       "      <td>2017-06-29</td>\n",
       "      <td>2017-07-01</td>\n",
       "    </tr>\n",
       "    <tr>\n",
       "      <th>3</th>\n",
       "      <td>desktop</td>\n",
       "      <td>2018-05-20 11:23:00</td>\n",
       "      <td>9</td>\n",
       "      <td>2018-05-20 10:59:00</td>\n",
       "      <td>16174680259334210214</td>\n",
       "      <td>2018-01-01</td>\n",
       "      <td>2018-05-01</td>\n",
       "      <td>2018-05-17</td>\n",
       "      <td>2018-05-20</td>\n",
       "    </tr>\n",
       "    <tr>\n",
       "      <th>4</th>\n",
       "      <td>desktop</td>\n",
       "      <td>2017-12-27 14:06:00</td>\n",
       "      <td>3</td>\n",
       "      <td>2017-12-27 14:06:00</td>\n",
       "      <td>9969694820036681168</td>\n",
       "      <td>2017-01-01</td>\n",
       "      <td>2017-12-01</td>\n",
       "      <td>2017-12-21</td>\n",
       "      <td>2017-12-27</td>\n",
       "    </tr>\n",
       "  </tbody>\n",
       "</table>\n",
       "</div>"
      ],
      "text/plain": [
       "    device              end_ts  source_id            start_ts  \\\n",
       "0    touch 2017-12-20 17:38:00          4 2017-12-20 17:20:00   \n",
       "1  desktop 2018-02-19 17:21:00          2 2018-02-19 16:53:00   \n",
       "2    touch 2017-07-01 01:54:00          5 2017-07-01 01:54:00   \n",
       "3  desktop 2018-05-20 11:23:00          9 2018-05-20 10:59:00   \n",
       "4  desktop 2017-12-27 14:06:00          3 2017-12-27 14:06:00   \n",
       "\n",
       "                    uid       year      month       week        date  \n",
       "0  16879256277535980062 2017-01-01 2017-12-01 2017-12-14  2017-12-20  \n",
       "1    104060357244891740 2018-01-01 2018-02-01 2018-02-15  2018-02-19  \n",
       "2   7459035603376831527 2017-01-01 2017-07-01 2017-06-29  2017-07-01  \n",
       "3  16174680259334210214 2018-01-01 2018-05-01 2018-05-17  2018-05-20  \n",
       "4   9969694820036681168 2017-01-01 2017-12-01 2017-12-21  2017-12-27  "
      ]
     },
     "execution_count": 19,
     "metadata": {},
     "output_type": "execute_result"
    }
   ],
   "source": [
    "# добавим колонки с годом, месяцем, неделей и общей датой в новый датасет\n",
    "df = visits.copy()\n",
    "df['year'] = df['start_ts'].astype('datetime64[Y]')\n",
    "df['month'] = df['start_ts'].astype('datetime64[M]')\n",
    "df['week'] = df['start_ts'].astype('datetime64[W]')\n",
    "df['date'] = df['start_ts'].dt.date \n",
    "df.head()"
   ]
  },
  {
   "cell_type": "code",
   "execution_count": 20,
   "metadata": {},
   "outputs": [
    {
     "data": {
      "text/plain": [
       "(907, 5621, 23228)"
      ]
     },
     "execution_count": 20,
     "metadata": {},
     "output_type": "execute_result"
    }
   ],
   "source": [
    "# ответим на вопрос, сколько людей пользуются в день, неделю, месяц (количество уникальных пользователей)\n",
    "dau = df.groupby('date').agg({'uid':'nunique'}).mean()\n",
    "wau = df.groupby(['year', 'week']).agg({'uid':'nunique'}).mean()\n",
    "mau = df.groupby(['year', 'month']).agg({'uid':'nunique'}).mean()\n",
    "int(dau), int(wau), int(mau)"
   ]
  },
  {
   "cell_type": "code",
   "execution_count": 21,
   "metadata": {},
   "outputs": [
    {
     "data": {
      "text/plain": [
       "(uid    16.151541\n",
       " dtype: float64,\n",
       " uid    3.90897\n",
       " dtype: float64)"
      ]
     },
     "execution_count": 21,
     "metadata": {},
     "output_type": "execute_result"
    }
   ],
   "source": [
    "# sticky factor показывает, как часто пользователи обращаются к продукту\n",
    "sticky_wau = dau / wau * 100\n",
    "sticky_mau = dau / mau * 100\n",
    "sticky_wau, sticky_mau"
   ]
  },
  {
   "cell_type": "markdown",
   "metadata": {},
   "source": [
    "####  DAU, WAU, MAU и sticky factor\n",
    "- В день Яндекс.Афишей пользуются в среднем 907 человек, в неделю - в среднем 5621, в месяц средний показатель равен 23228.\n",
    "- sticky factor для соотношения день/неделя составляет 16%, в месяц - около 4%."
   ]
  },
  {
   "cell_type": "markdown",
   "metadata": {},
   "source": [
    "#### Количество сессий в день"
   ]
  },
  {
   "cell_type": "code",
   "execution_count": 22,
   "metadata": {},
   "outputs": [
    {
     "data": {
      "text/html": [
       "<div>\n",
       "<style scoped>\n",
       "    .dataframe tbody tr th:only-of-type {\n",
       "        vertical-align: middle;\n",
       "    }\n",
       "\n",
       "    .dataframe tbody tr th {\n",
       "        vertical-align: top;\n",
       "    }\n",
       "\n",
       "    .dataframe thead th {\n",
       "        text-align: right;\n",
       "    }\n",
       "</style>\n",
       "<table border=\"1\" class=\"dataframe\">\n",
       "  <thead>\n",
       "    <tr style=\"text-align: right;\">\n",
       "      <th></th>\n",
       "      <th>n_users</th>\n",
       "      <th>n_sessions</th>\n",
       "      <th>n_per_user</th>\n",
       "    </tr>\n",
       "    <tr>\n",
       "      <th>date</th>\n",
       "      <th></th>\n",
       "      <th></th>\n",
       "      <th></th>\n",
       "    </tr>\n",
       "  </thead>\n",
       "  <tbody>\n",
       "    <tr>\n",
       "      <th>2017-06-01</th>\n",
       "      <td>605</td>\n",
       "      <td>664</td>\n",
       "      <td>1.097521</td>\n",
       "    </tr>\n",
       "    <tr>\n",
       "      <th>2017-06-02</th>\n",
       "      <td>608</td>\n",
       "      <td>658</td>\n",
       "      <td>1.082237</td>\n",
       "    </tr>\n",
       "    <tr>\n",
       "      <th>2017-06-03</th>\n",
       "      <td>445</td>\n",
       "      <td>477</td>\n",
       "      <td>1.071910</td>\n",
       "    </tr>\n",
       "    <tr>\n",
       "      <th>2017-06-04</th>\n",
       "      <td>476</td>\n",
       "      <td>510</td>\n",
       "      <td>1.071429</td>\n",
       "    </tr>\n",
       "    <tr>\n",
       "      <th>2017-06-05</th>\n",
       "      <td>820</td>\n",
       "      <td>893</td>\n",
       "      <td>1.089024</td>\n",
       "    </tr>\n",
       "  </tbody>\n",
       "</table>\n",
       "</div>"
      ],
      "text/plain": [
       "            n_users  n_sessions  n_per_user\n",
       "date                                       \n",
       "2017-06-01      605         664    1.097521\n",
       "2017-06-02      608         658    1.082237\n",
       "2017-06-03      445         477    1.071910\n",
       "2017-06-04      476         510    1.071429\n",
       "2017-06-05      820         893    1.089024"
      ]
     },
     "execution_count": 22,
     "metadata": {},
     "output_type": "execute_result"
    }
   ],
   "source": [
    "# посчитаем количество сессий на каждого пользователя в день\n",
    "session_per_day = df.groupby('date').agg({'uid':['nunique', 'count']})\n",
    "session_per_day.columns = ['n_users', 'n_sessions']\n",
    "session_per_day['n_per_user'] = session_per_day['n_sessions'] / session_per_day['n_users']\n",
    "session_per_day.head()"
   ]
  },
  {
   "cell_type": "code",
   "execution_count": 23,
   "metadata": {},
   "outputs": [
    {
     "data": {
      "text/plain": [
       "count    364.000000\n",
       "mean       1.082170\n",
       "std        0.020876\n",
       "min        1.000000\n",
       "25%        1.070321\n",
       "50%        1.082488\n",
       "75%        1.093876\n",
       "max        1.217837\n",
       "Name: n_per_user, dtype: float64"
      ]
     },
     "execution_count": 23,
     "metadata": {},
     "output_type": "execute_result"
    }
   ],
   "source": [
    "session_per_day['n_per_user'].describe()"
   ]
  },
  {
   "cell_type": "markdown",
   "metadata": {},
   "source": [
    "- Средний и медианный показатели по количеству сессий в день равны 1."
   ]
  },
  {
   "cell_type": "markdown",
   "metadata": {},
   "source": [
    "#### Продолжительность одной сессии"
   ]
  },
  {
   "cell_type": "code",
   "execution_count": 24,
   "metadata": {},
   "outputs": [
    {
     "data": {
      "text/plain": [
       "643.506488592098"
      ]
     },
     "execution_count": 24,
     "metadata": {},
     "output_type": "execute_result"
    }
   ],
   "source": [
    "# посчитаем продолжительность одной сессии  ASL (average session length) в секундах\n",
    "df['duration_sec'] = (df['end_ts'] - df['start_ts']).dt.seconds\n",
    "df['duration_sec'].mean()"
   ]
  },
  {
   "cell_type": "code",
   "execution_count": 25,
   "metadata": {},
   "outputs": [
    {
     "data": {
      "text/plain": [
       "Text(0, 0.5, 'количество пользователей')"
      ]
     },
     "execution_count": 25,
     "metadata": {},
     "output_type": "execute_result"
    },
    {
     "data": {
      "image/png": "[encoded data removed]",
      "text/plain": [
       "<Figure size 864x288 with 1 Axes>"
      ]
     },
     "metadata": {
      "needs_background": "light"
     },
     "output_type": "display_data"
    }
   ],
   "source": [
    "# построим гистограмму для визуализации продолжительности сессий\n",
    "df['duration_sec'].hist(bins=100, figsize=(12,4))\n",
    "plt.title('Продолжительность одной сессии')\n",
    "plt.xlabel('секунды')\n",
    "plt.ylabel('количество пользователей')"
   ]
  },
  {
   "cell_type": "code",
   "execution_count": 26,
   "metadata": {},
   "outputs": [
    {
     "data": {
      "image/png": "[encoded data removed]",
      "text/plain": [
       "<Figure size 864x288 with 1 Axes>"
      ]
     },
     "metadata": {
      "needs_background": "light"
     },
     "output_type": "display_data"
    }
   ],
   "source": [
    "# построим боксплот для того, чтобы оценить выбросы\n",
    "fig, ax = plt.subplots(figsize=(12,4))\n",
    "ax.set_title('Продолжительность сессий')\n",
    "ax.set_xlabel('duration_sec')\n",
    "ax.boxplot(df['duration_sec'], vert=False)\n",
    "plt.grid()"
   ]
  },
  {
   "cell_type": "code",
   "execution_count": 27,
   "metadata": {},
   "outputs": [
    {
     "data": {
      "text/plain": [
       "0    60\n",
       "dtype: int64"
      ]
     },
     "execution_count": 27,
     "metadata": {},
     "output_type": "execute_result"
    }
   ],
   "source": [
    "# наиболее часто встречаемая продолжительность сессии\n",
    "df['duration_sec'].mode()"
   ]
  },
  {
   "cell_type": "code",
   "execution_count": 28,
   "metadata": {
    "scrolled": true
   },
   "outputs": [
    {
     "data": {
      "text/html": [
       "<div>\n",
       "<style scoped>\n",
       "    .dataframe tbody tr th:only-of-type {\n",
       "        vertical-align: middle;\n",
       "    }\n",
       "\n",
       "    .dataframe tbody tr th {\n",
       "        vertical-align: top;\n",
       "    }\n",
       "\n",
       "    .dataframe thead th {\n",
       "        text-align: right;\n",
       "    }\n",
       "</style>\n",
       "<table border=\"1\" class=\"dataframe\">\n",
       "  <thead>\n",
       "    <tr style=\"text-align: right;\">\n",
       "      <th></th>\n",
       "      <th>mean</th>\n",
       "      <th>median</th>\n",
       "    </tr>\n",
       "    <tr>\n",
       "      <th>device</th>\n",
       "      <th></th>\n",
       "      <th></th>\n",
       "    </tr>\n",
       "  </thead>\n",
       "  <tbody>\n",
       "    <tr>\n",
       "      <th>desktop</th>\n",
       "      <td>703.946977</td>\n",
       "      <td>360</td>\n",
       "    </tr>\n",
       "    <tr>\n",
       "      <th>touch</th>\n",
       "      <td>479.619407</td>\n",
       "      <td>180</td>\n",
       "    </tr>\n",
       "  </tbody>\n",
       "</table>\n",
       "</div>"
      ],
      "text/plain": [
       "               mean  median\n",
       "device                     \n",
       "desktop  703.946977     360\n",
       "touch    479.619407     180"
      ]
     },
     "execution_count": 28,
     "metadata": {},
     "output_type": "execute_result"
    }
   ],
   "source": [
    "# продолжительность сессии на разных устройствах\n",
    "df.groupby('device')['duration_sec'].agg(['mean', 'median'])"
   ]
  },
  {
   "cell_type": "markdown",
   "metadata": {},
   "source": [
    "- Средняя продлжительность одной сессии составляет 644 секунды, или почти 11 минут.\n",
    "- Чаще всего пользователь проводит на сайте 1 минуту (показатель моды).\n",
    "- На компьютере средняя продолжительность сессии равна 704 секунды, или почти 12 минут, для других устройств - 480 секунд, или 8 минут."
   ]
  },
  {
   "cell_type": "markdown",
   "metadata": {},
   "source": [
    "#### Retention Rate"
   ]
  },
  {
   "cell_type": "code",
   "execution_count": 29,
   "metadata": {},
   "outputs": [
    {
     "data": {
      "text/html": [
       "<div>\n",
       "<style scoped>\n",
       "    .dataframe tbody tr th:only-of-type {\n",
       "        vertical-align: middle;\n",
       "    }\n",
       "\n",
       "    .dataframe tbody tr th {\n",
       "        vertical-align: top;\n",
       "    }\n",
       "\n",
       "    .dataframe thead th {\n",
       "        text-align: right;\n",
       "    }\n",
       "</style>\n",
       "<table border=\"1\" class=\"dataframe\">\n",
       "  <thead>\n",
       "    <tr style=\"text-align: right;\">\n",
       "      <th></th>\n",
       "      <th>device</th>\n",
       "      <th>end_ts</th>\n",
       "      <th>source_id</th>\n",
       "      <th>start_ts</th>\n",
       "      <th>uid</th>\n",
       "      <th>year</th>\n",
       "      <th>month</th>\n",
       "      <th>week</th>\n",
       "      <th>date</th>\n",
       "      <th>duration_sec</th>\n",
       "      <th>first_date</th>\n",
       "    </tr>\n",
       "  </thead>\n",
       "  <tbody>\n",
       "    <tr>\n",
       "      <th>0</th>\n",
       "      <td>touch</td>\n",
       "      <td>2017-12-20 17:38:00</td>\n",
       "      <td>4</td>\n",
       "      <td>2017-12-20 17:20:00</td>\n",
       "      <td>16879256277535980062</td>\n",
       "      <td>2017-01-01</td>\n",
       "      <td>2017-12-01</td>\n",
       "      <td>2017-12-14</td>\n",
       "      <td>2017-12-20</td>\n",
       "      <td>1080</td>\n",
       "      <td>2017-12-20 17:20:00</td>\n",
       "    </tr>\n",
       "    <tr>\n",
       "      <th>1</th>\n",
       "      <td>desktop</td>\n",
       "      <td>2018-02-19 17:21:00</td>\n",
       "      <td>2</td>\n",
       "      <td>2018-02-19 16:53:00</td>\n",
       "      <td>104060357244891740</td>\n",
       "      <td>2018-01-01</td>\n",
       "      <td>2018-02-01</td>\n",
       "      <td>2018-02-15</td>\n",
       "      <td>2018-02-19</td>\n",
       "      <td>1680</td>\n",
       "      <td>2018-02-19 16:53:00</td>\n",
       "    </tr>\n",
       "    <tr>\n",
       "      <th>2</th>\n",
       "      <td>touch</td>\n",
       "      <td>2017-07-01 01:54:00</td>\n",
       "      <td>5</td>\n",
       "      <td>2017-07-01 01:54:00</td>\n",
       "      <td>7459035603376831527</td>\n",
       "      <td>2017-01-01</td>\n",
       "      <td>2017-07-01</td>\n",
       "      <td>2017-06-29</td>\n",
       "      <td>2017-07-01</td>\n",
       "      <td>0</td>\n",
       "      <td>2017-07-01 01:54:00</td>\n",
       "    </tr>\n",
       "    <tr>\n",
       "      <th>3</th>\n",
       "      <td>desktop</td>\n",
       "      <td>2018-05-20 11:23:00</td>\n",
       "      <td>9</td>\n",
       "      <td>2018-05-20 10:59:00</td>\n",
       "      <td>16174680259334210214</td>\n",
       "      <td>2018-01-01</td>\n",
       "      <td>2018-05-01</td>\n",
       "      <td>2018-05-17</td>\n",
       "      <td>2018-05-20</td>\n",
       "      <td>1440</td>\n",
       "      <td>2018-03-09 20:05:00</td>\n",
       "    </tr>\n",
       "    <tr>\n",
       "      <th>4</th>\n",
       "      <td>desktop</td>\n",
       "      <td>2017-12-27 14:06:00</td>\n",
       "      <td>3</td>\n",
       "      <td>2017-12-27 14:06:00</td>\n",
       "      <td>9969694820036681168</td>\n",
       "      <td>2017-01-01</td>\n",
       "      <td>2017-12-01</td>\n",
       "      <td>2017-12-21</td>\n",
       "      <td>2017-12-27</td>\n",
       "      <td>0</td>\n",
       "      <td>2017-12-27 14:06:00</td>\n",
       "    </tr>\n",
       "  </tbody>\n",
       "</table>\n",
       "</div>"
      ],
      "text/plain": [
       "    device              end_ts  source_id            start_ts  \\\n",
       "0    touch 2017-12-20 17:38:00          4 2017-12-20 17:20:00   \n",
       "1  desktop 2018-02-19 17:21:00          2 2018-02-19 16:53:00   \n",
       "2    touch 2017-07-01 01:54:00          5 2017-07-01 01:54:00   \n",
       "3  desktop 2018-05-20 11:23:00          9 2018-05-20 10:59:00   \n",
       "4  desktop 2017-12-27 14:06:00          3 2017-12-27 14:06:00   \n",
       "\n",
       "                    uid       year      month       week        date  \\\n",
       "0  16879256277535980062 2017-01-01 2017-12-01 2017-12-14  2017-12-20   \n",
       "1    104060357244891740 2018-01-01 2018-02-01 2018-02-15  2018-02-19   \n",
       "2   7459035603376831527 2017-01-01 2017-07-01 2017-06-29  2017-07-01   \n",
       "3  16174680259334210214 2018-01-01 2018-05-01 2018-05-17  2018-05-20   \n",
       "4   9969694820036681168 2017-01-01 2017-12-01 2017-12-21  2017-12-27   \n",
       "\n",
       "   duration_sec          first_date  \n",
       "0          1080 2017-12-20 17:20:00  \n",
       "1          1680 2018-02-19 16:53:00  \n",
       "2             0 2017-07-01 01:54:00  \n",
       "3          1440 2018-03-09 20:05:00  \n",
       "4             0 2017-12-27 14:06:00  "
      ]
     },
     "execution_count": 29,
     "metadata": {},
     "output_type": "execute_result"
    }
   ],
   "source": [
    "# выделим дату первой сессии\n",
    "first_date = df.groupby('uid')['start_ts'].min()\n",
    "first_date.name = 'first_date'\n",
    "report = df.join(first_date, on='uid')\n",
    "report.head()"
   ]
  },
  {
   "cell_type": "code",
   "execution_count": 30,
   "metadata": {},
   "outputs": [
    {
     "data": {
      "text/html": [
       "<div>\n",
       "<style scoped>\n",
       "    .dataframe tbody tr th:only-of-type {\n",
       "        vertical-align: middle;\n",
       "    }\n",
       "\n",
       "    .dataframe tbody tr th {\n",
       "        vertical-align: top;\n",
       "    }\n",
       "\n",
       "    .dataframe thead th {\n",
       "        text-align: right;\n",
       "    }\n",
       "</style>\n",
       "<table border=\"1\" class=\"dataframe\">\n",
       "  <thead>\n",
       "    <tr style=\"text-align: right;\">\n",
       "      <th></th>\n",
       "      <th>device</th>\n",
       "      <th>end_ts</th>\n",
       "      <th>source_id</th>\n",
       "      <th>start_ts</th>\n",
       "      <th>uid</th>\n",
       "      <th>year</th>\n",
       "      <th>month</th>\n",
       "      <th>week</th>\n",
       "      <th>date</th>\n",
       "      <th>duration_sec</th>\n",
       "      <th>first_date</th>\n",
       "      <th>first_month</th>\n",
       "      <th>cohort_lifetime</th>\n",
       "    </tr>\n",
       "  </thead>\n",
       "  <tbody>\n",
       "    <tr>\n",
       "      <th>0</th>\n",
       "      <td>touch</td>\n",
       "      <td>2017-12-20 17:38:00</td>\n",
       "      <td>4</td>\n",
       "      <td>2017-12-20 17:20:00</td>\n",
       "      <td>16879256277535980062</td>\n",
       "      <td>2017-01-01</td>\n",
       "      <td>2017-12-01</td>\n",
       "      <td>2017-12-14</td>\n",
       "      <td>2017-12-20</td>\n",
       "      <td>1080</td>\n",
       "      <td>2017-12-20 17:20:00</td>\n",
       "      <td>2017-12-01</td>\n",
       "      <td>0</td>\n",
       "    </tr>\n",
       "    <tr>\n",
       "      <th>1</th>\n",
       "      <td>desktop</td>\n",
       "      <td>2018-02-19 17:21:00</td>\n",
       "      <td>2</td>\n",
       "      <td>2018-02-19 16:53:00</td>\n",
       "      <td>104060357244891740</td>\n",
       "      <td>2018-01-01</td>\n",
       "      <td>2018-02-01</td>\n",
       "      <td>2018-02-15</td>\n",
       "      <td>2018-02-19</td>\n",
       "      <td>1680</td>\n",
       "      <td>2018-02-19 16:53:00</td>\n",
       "      <td>2018-02-01</td>\n",
       "      <td>0</td>\n",
       "    </tr>\n",
       "    <tr>\n",
       "      <th>2</th>\n",
       "      <td>touch</td>\n",
       "      <td>2017-07-01 01:54:00</td>\n",
       "      <td>5</td>\n",
       "      <td>2017-07-01 01:54:00</td>\n",
       "      <td>7459035603376831527</td>\n",
       "      <td>2017-01-01</td>\n",
       "      <td>2017-07-01</td>\n",
       "      <td>2017-06-29</td>\n",
       "      <td>2017-07-01</td>\n",
       "      <td>0</td>\n",
       "      <td>2017-07-01 01:54:00</td>\n",
       "      <td>2017-07-01</td>\n",
       "      <td>0</td>\n",
       "    </tr>\n",
       "    <tr>\n",
       "      <th>3</th>\n",
       "      <td>desktop</td>\n",
       "      <td>2018-05-20 11:23:00</td>\n",
       "      <td>9</td>\n",
       "      <td>2018-05-20 10:59:00</td>\n",
       "      <td>16174680259334210214</td>\n",
       "      <td>2018-01-01</td>\n",
       "      <td>2018-05-01</td>\n",
       "      <td>2018-05-17</td>\n",
       "      <td>2018-05-20</td>\n",
       "      <td>1440</td>\n",
       "      <td>2018-03-09 20:05:00</td>\n",
       "      <td>2018-03-01</td>\n",
       "      <td>2</td>\n",
       "    </tr>\n",
       "    <tr>\n",
       "      <th>4</th>\n",
       "      <td>desktop</td>\n",
       "      <td>2017-12-27 14:06:00</td>\n",
       "      <td>3</td>\n",
       "      <td>2017-12-27 14:06:00</td>\n",
       "      <td>9969694820036681168</td>\n",
       "      <td>2017-01-01</td>\n",
       "      <td>2017-12-01</td>\n",
       "      <td>2017-12-21</td>\n",
       "      <td>2017-12-27</td>\n",
       "      <td>0</td>\n",
       "      <td>2017-12-27 14:06:00</td>\n",
       "      <td>2017-12-01</td>\n",
       "      <td>0</td>\n",
       "    </tr>\n",
       "  </tbody>\n",
       "</table>\n",
       "</div>"
      ],
      "text/plain": [
       "    device              end_ts  source_id            start_ts  \\\n",
       "0    touch 2017-12-20 17:38:00          4 2017-12-20 17:20:00   \n",
       "1  desktop 2018-02-19 17:21:00          2 2018-02-19 16:53:00   \n",
       "2    touch 2017-07-01 01:54:00          5 2017-07-01 01:54:00   \n",
       "3  desktop 2018-05-20 11:23:00          9 2018-05-20 10:59:00   \n",
       "4  desktop 2017-12-27 14:06:00          3 2017-12-27 14:06:00   \n",
       "\n",
       "                    uid       year      month       week        date  \\\n",
       "0  16879256277535980062 2017-01-01 2017-12-01 2017-12-14  2017-12-20   \n",
       "1    104060357244891740 2018-01-01 2018-02-01 2018-02-15  2018-02-19   \n",
       "2   7459035603376831527 2017-01-01 2017-07-01 2017-06-29  2017-07-01   \n",
       "3  16174680259334210214 2018-01-01 2018-05-01 2018-05-17  2018-05-20   \n",
       "4   9969694820036681168 2017-01-01 2017-12-01 2017-12-21  2017-12-27   \n",
       "\n",
       "   duration_sec          first_date first_month  cohort_lifetime  \n",
       "0          1080 2017-12-20 17:20:00  2017-12-01                0  \n",
       "1          1680 2018-02-19 16:53:00  2018-02-01                0  \n",
       "2             0 2017-07-01 01:54:00  2017-07-01                0  \n",
       "3          1440 2018-03-09 20:05:00  2018-03-01                2  \n",
       "4             0 2017-12-27 14:06:00  2017-12-01                0  "
      ]
     },
     "execution_count": 30,
     "metadata": {},
     "output_type": "execute_result"
    }
   ],
   "source": [
    "# выделим первый месяц сессии и добавим столбец со временем существования когорты в месяцах\n",
    "report['first_month'] = report['first_date'].astype('datetime64[M]')\n",
    "report['cohort_lifetime'] = (report['month'] - report['first_month']) / np.timedelta64(1,'M')\n",
    "report['cohort_lifetime'] = report['cohort_lifetime'].round().astype('int')\n",
    "report.head()"
   ]
  },
  {
   "cell_type": "code",
   "execution_count": 31,
   "metadata": {},
   "outputs": [
    {
     "data": {
      "text/html": [
       "<div>\n",
       "<style scoped>\n",
       "    .dataframe tbody tr th:only-of-type {\n",
       "        vertical-align: middle;\n",
       "    }\n",
       "\n",
       "    .dataframe tbody tr th {\n",
       "        vertical-align: top;\n",
       "    }\n",
       "\n",
       "    .dataframe thead th {\n",
       "        text-align: right;\n",
       "    }\n",
       "</style>\n",
       "<table border=\"1\" class=\"dataframe\">\n",
       "  <thead>\n",
       "    <tr style=\"text-align: right;\">\n",
       "      <th></th>\n",
       "      <th>first_month</th>\n",
       "      <th>cohort_lifetime</th>\n",
       "      <th>uid</th>\n",
       "    </tr>\n",
       "  </thead>\n",
       "  <tbody>\n",
       "    <tr>\n",
       "      <th>0</th>\n",
       "      <td>2017-06-01</td>\n",
       "      <td>0</td>\n",
       "      <td>13259</td>\n",
       "    </tr>\n",
       "    <tr>\n",
       "      <th>1</th>\n",
       "      <td>2017-06-01</td>\n",
       "      <td>1</td>\n",
       "      <td>1043</td>\n",
       "    </tr>\n",
       "    <tr>\n",
       "      <th>2</th>\n",
       "      <td>2017-06-01</td>\n",
       "      <td>2</td>\n",
       "      <td>713</td>\n",
       "    </tr>\n",
       "    <tr>\n",
       "      <th>3</th>\n",
       "      <td>2017-06-01</td>\n",
       "      <td>3</td>\n",
       "      <td>814</td>\n",
       "    </tr>\n",
       "    <tr>\n",
       "      <th>4</th>\n",
       "      <td>2017-06-01</td>\n",
       "      <td>4</td>\n",
       "      <td>909</td>\n",
       "    </tr>\n",
       "  </tbody>\n",
       "</table>\n",
       "</div>"
      ],
      "text/plain": [
       "  first_month  cohort_lifetime    uid\n",
       "0  2017-06-01                0  13259\n",
       "1  2017-06-01                1   1043\n",
       "2  2017-06-01                2    713\n",
       "3  2017-06-01                3    814\n",
       "4  2017-06-01                4    909"
      ]
     },
     "execution_count": 31,
     "metadata": {},
     "output_type": "execute_result"
    }
   ],
   "source": [
    "# посчитаем для каждой когорты количество активных пользователей на определённый месяц жизни\n",
    "cohort_report = report.groupby(['first_month', 'cohort_lifetime']).agg({'uid':'nunique'}).reset_index()\n",
    "cohort_report.head()"
   ]
  },
  {
   "cell_type": "code",
   "execution_count": 32,
   "metadata": {},
   "outputs": [
    {
     "data": {
      "text/html": [
       "<div>\n",
       "<style scoped>\n",
       "    .dataframe tbody tr th:only-of-type {\n",
       "        vertical-align: middle;\n",
       "    }\n",
       "\n",
       "    .dataframe tbody tr th {\n",
       "        vertical-align: top;\n",
       "    }\n",
       "\n",
       "    .dataframe thead th {\n",
       "        text-align: right;\n",
       "    }\n",
       "</style>\n",
       "<table border=\"1\" class=\"dataframe\">\n",
       "  <thead>\n",
       "    <tr style=\"text-align: right;\">\n",
       "      <th></th>\n",
       "      <th>first_month</th>\n",
       "      <th>cohort_lifetime</th>\n",
       "      <th>uid</th>\n",
       "      <th>cohort_uid</th>\n",
       "    </tr>\n",
       "  </thead>\n",
       "  <tbody>\n",
       "    <tr>\n",
       "      <th>0</th>\n",
       "      <td>2017-06-01</td>\n",
       "      <td>0</td>\n",
       "      <td>13259</td>\n",
       "      <td>13259</td>\n",
       "    </tr>\n",
       "    <tr>\n",
       "      <th>1</th>\n",
       "      <td>2017-06-01</td>\n",
       "      <td>1</td>\n",
       "      <td>1043</td>\n",
       "      <td>13259</td>\n",
       "    </tr>\n",
       "    <tr>\n",
       "      <th>2</th>\n",
       "      <td>2017-06-01</td>\n",
       "      <td>2</td>\n",
       "      <td>713</td>\n",
       "      <td>13259</td>\n",
       "    </tr>\n",
       "    <tr>\n",
       "      <th>3</th>\n",
       "      <td>2017-06-01</td>\n",
       "      <td>3</td>\n",
       "      <td>814</td>\n",
       "      <td>13259</td>\n",
       "    </tr>\n",
       "    <tr>\n",
       "      <th>4</th>\n",
       "      <td>2017-06-01</td>\n",
       "      <td>4</td>\n",
       "      <td>909</td>\n",
       "      <td>13259</td>\n",
       "    </tr>\n",
       "  </tbody>\n",
       "</table>\n",
       "</div>"
      ],
      "text/plain": [
       "  first_month  cohort_lifetime    uid  cohort_uid\n",
       "0  2017-06-01                0  13259       13259\n",
       "1  2017-06-01                1   1043       13259\n",
       "2  2017-06-01                2    713       13259\n",
       "3  2017-06-01                3    814       13259\n",
       "4  2017-06-01                4    909       13259"
      ]
     },
     "execution_count": 32,
     "metadata": {},
     "output_type": "execute_result"
    }
   ],
   "source": [
    "# вычислим число пользователей на нулевой месяц жизни когорты\n",
    "initial_uid = cohort_report[cohort_report['cohort_lifetime'] == 0][['first_month', 'uid']]\n",
    "initial_uid = initial_uid.rename(columns={'uid':'cohort_uid'})\n",
    "cohort_report = cohort_report.merge(initial_uid, on='first_month')\n",
    "cohort_report.head()"
   ]
  },
  {
   "cell_type": "code",
   "execution_count": 33,
   "metadata": {},
   "outputs": [],
   "source": [
    "# вычислим коэффициент удержания Retention Rate\n",
    "cohort_report['retention'] = cohort_report['uid'] / cohort_report['cohort_uid']\n",
    "cohort_report['first_month'] = cohort_report['first_month'].dt.strftime('%Y-%m')\n",
    "retention_rate = cohort_report.pivot_table(index='first_month', \n",
    "                                           columns='cohort_lifetime', \n",
    "                                           values='retention', \n",
    "                                           aggfunc='sum')"
   ]
  },
  {
   "cell_type": "code",
   "execution_count": 34,
   "metadata": {},
   "outputs": [
    {
     "data": {
      "text/plain": [
       "<matplotlib.axes._subplots.AxesSubplot at 0x7efc0e58dbd0>"
      ]
     },
     "execution_count": 34,
     "metadata": {},
     "output_type": "execute_result"
    },
    {
     "data": {
      "image/png": "[encoded data removed]",
      "text/plain": [
       "<Figure size 1152x648 with 2 Axes>"
      ]
     },
     "metadata": {},
     "output_type": "display_data"
    }
   ],
   "source": [
    "# построим график для retention_rate\n",
    "sns.set(style='white')\n",
    "plt.figure(figsize=(16, 9))\n",
    "plt.title('Коэффициент удержания в когортах')\n",
    "sns.heatmap(retention_rate, annot=True, fmt='.2%', linewidths=1, linecolor='black', vmin=0, vmax=0.2)"
   ]
  },
  {
   "cell_type": "markdown",
   "metadata": {},
   "source": [
    "- После выделения времени жизни когорты и количества пользователей на нулевой месяц, мы вычислили коэффициент удержания Retention Rate и отобразили его на графике.\n",
    "- Коэффициент удержания показывает, какое количество пользователей определенной когорты возвращается ежемесячно. Эти показатели постепенно уменьшаются по мере увеличения продолжительности жизни когорты и приближается к 2% у 6 когорт (с сентября по февраль). Максимальный Retention Rate равен 8,55% (сентябрьская когорта во второй месяц)."
   ]
  },
  {
   "cell_type": "markdown",
   "metadata": {},
   "source": [
    "### Вывод"
   ]
  },
  {
   "cell_type": "markdown",
   "metadata": {},
   "source": [
    "- Среднее количество пользователей в день, неделю, месяц связано с показателями daily active users (**DAU**), weekly active users (**WAU**), monthly active users (**MAU**). В исследовании количество уникальных пользователей в день равно **907**, в неделю - **5621**, в месяц - **23228**.\n",
    "- Среднее количество сессий каждого пользователя в день вычислено через соотношение количества уникальных пользователей в день к числу сессий и держится в рамках 1 сессии в день.\n",
    "- Средняя продолжительность сессии составляет примерно 644 секунды, или почти 11 минут. Из графиков видно, что есть выбросы, которые влияют на средний показатель и увеличивают его. С компьютеров средняя сессия равна 704 секунды (почти 12 минут), с других устройств - 480 (8 минут).\n",
    "- Наиболее часто сессия длится 60 секунд, т.е. 1 минуту.\n",
    "- Коэффициент удержания показывает, какое количество пользователей определенной когорты возвращается ежемесячно. Эти показатели постепенно уменьшаются по мере увеличения продолжительности жизни когорты и приближается к 2% у 6 когорт (с сентября по февраль). Максимальный Retention Rate равен 8,55% (сентябрьская когорта во второй месяц)."
   ]
  },
  {
   "cell_type": "markdown",
   "metadata": {},
   "source": [
    "### Продажи"
   ]
  },
  {
   "cell_type": "markdown",
   "metadata": {},
   "source": [
    "*Ответим на вопросы*:\n",
    "- когда люди начинают покупать?\n",
    "- сколько раз покупают за период?\n",
    "- какой средний чек?\n",
    "- сколько денег приносят? (LTV)"
   ]
  },
  {
   "cell_type": "markdown",
   "metadata": {},
   "source": [
    "#### Когда начинают покупать?"
   ]
  },
  {
   "cell_type": "code",
   "execution_count": 35,
   "metadata": {},
   "outputs": [
    {
     "data": {
      "text/html": [
       "<div>\n",
       "<style scoped>\n",
       "    .dataframe tbody tr th:only-of-type {\n",
       "        vertical-align: middle;\n",
       "    }\n",
       "\n",
       "    .dataframe tbody tr th {\n",
       "        vertical-align: top;\n",
       "    }\n",
       "\n",
       "    .dataframe thead th {\n",
       "        text-align: right;\n",
       "    }\n",
       "</style>\n",
       "<table border=\"1\" class=\"dataframe\">\n",
       "  <thead>\n",
       "    <tr style=\"text-align: right;\">\n",
       "      <th></th>\n",
       "      <th>device</th>\n",
       "      <th>end_ts</th>\n",
       "      <th>source_id</th>\n",
       "      <th>start_ts</th>\n",
       "      <th>uid</th>\n",
       "    </tr>\n",
       "  </thead>\n",
       "  <tbody>\n",
       "    <tr>\n",
       "      <th>0</th>\n",
       "      <td>touch</td>\n",
       "      <td>2017-12-20 17:38:00</td>\n",
       "      <td>4</td>\n",
       "      <td>2017-12-20 17:20:00</td>\n",
       "      <td>16879256277535980062</td>\n",
       "    </tr>\n",
       "    <tr>\n",
       "      <th>1</th>\n",
       "      <td>desktop</td>\n",
       "      <td>2018-02-19 17:21:00</td>\n",
       "      <td>2</td>\n",
       "      <td>2018-02-19 16:53:00</td>\n",
       "      <td>104060357244891740</td>\n",
       "    </tr>\n",
       "    <tr>\n",
       "      <th>2</th>\n",
       "      <td>touch</td>\n",
       "      <td>2017-07-01 01:54:00</td>\n",
       "      <td>5</td>\n",
       "      <td>2017-07-01 01:54:00</td>\n",
       "      <td>7459035603376831527</td>\n",
       "    </tr>\n",
       "    <tr>\n",
       "      <th>3</th>\n",
       "      <td>desktop</td>\n",
       "      <td>2018-05-20 11:23:00</td>\n",
       "      <td>9</td>\n",
       "      <td>2018-05-20 10:59:00</td>\n",
       "      <td>16174680259334210214</td>\n",
       "    </tr>\n",
       "    <tr>\n",
       "      <th>4</th>\n",
       "      <td>desktop</td>\n",
       "      <td>2017-12-27 14:06:00</td>\n",
       "      <td>3</td>\n",
       "      <td>2017-12-27 14:06:00</td>\n",
       "      <td>9969694820036681168</td>\n",
       "    </tr>\n",
       "  </tbody>\n",
       "</table>\n",
       "</div>"
      ],
      "text/plain": [
       "    device              end_ts  source_id            start_ts  \\\n",
       "0    touch 2017-12-20 17:38:00          4 2017-12-20 17:20:00   \n",
       "1  desktop 2018-02-19 17:21:00          2 2018-02-19 16:53:00   \n",
       "2    touch 2017-07-01 01:54:00          5 2017-07-01 01:54:00   \n",
       "3  desktop 2018-05-20 11:23:00          9 2018-05-20 10:59:00   \n",
       "4  desktop 2017-12-27 14:06:00          3 2017-12-27 14:06:00   \n",
       "\n",
       "                    uid  \n",
       "0  16879256277535980062  \n",
       "1    104060357244891740  \n",
       "2   7459035603376831527  \n",
       "3  16174680259334210214  \n",
       "4   9969694820036681168  "
      ]
     },
     "execution_count": 35,
     "metadata": {},
     "output_type": "execute_result"
    }
   ],
   "source": [
    "visits.head()"
   ]
  },
  {
   "cell_type": "code",
   "execution_count": 36,
   "metadata": {},
   "outputs": [
    {
     "data": {
      "text/html": [
       "<div>\n",
       "<style scoped>\n",
       "    .dataframe tbody tr th:only-of-type {\n",
       "        vertical-align: middle;\n",
       "    }\n",
       "\n",
       "    .dataframe tbody tr th {\n",
       "        vertical-align: top;\n",
       "    }\n",
       "\n",
       "    .dataframe thead th {\n",
       "        text-align: right;\n",
       "    }\n",
       "</style>\n",
       "<table border=\"1\" class=\"dataframe\">\n",
       "  <thead>\n",
       "    <tr style=\"text-align: right;\">\n",
       "      <th></th>\n",
       "      <th>start_ts</th>\n",
       "      <th>source_id</th>\n",
       "      <th>device</th>\n",
       "    </tr>\n",
       "    <tr>\n",
       "      <th>uid</th>\n",
       "      <th></th>\n",
       "      <th></th>\n",
       "      <th></th>\n",
       "    </tr>\n",
       "  </thead>\n",
       "  <tbody>\n",
       "    <tr>\n",
       "      <th>11863502262781</th>\n",
       "      <td>2018-03-01 17:27:00</td>\n",
       "      <td>3</td>\n",
       "      <td>touch</td>\n",
       "    </tr>\n",
       "    <tr>\n",
       "      <th>49537067089222</th>\n",
       "      <td>2018-02-06 15:55:00</td>\n",
       "      <td>2</td>\n",
       "      <td>touch</td>\n",
       "    </tr>\n",
       "    <tr>\n",
       "      <th>297729379853735</th>\n",
       "      <td>2017-06-07 18:47:00</td>\n",
       "      <td>3</td>\n",
       "      <td>desktop</td>\n",
       "    </tr>\n",
       "    <tr>\n",
       "      <th>313578113262317</th>\n",
       "      <td>2017-09-18 22:49:00</td>\n",
       "      <td>2</td>\n",
       "      <td>desktop</td>\n",
       "    </tr>\n",
       "    <tr>\n",
       "      <th>325320750514679</th>\n",
       "      <td>2017-09-30 14:29:00</td>\n",
       "      <td>5</td>\n",
       "      <td>desktop</td>\n",
       "    </tr>\n",
       "  </tbody>\n",
       "</table>\n",
       "</div>"
      ],
      "text/plain": [
       "                           start_ts  source_id   device\n",
       "uid                                                    \n",
       "11863502262781  2018-03-01 17:27:00          3    touch\n",
       "49537067089222  2018-02-06 15:55:00          2    touch\n",
       "297729379853735 2017-06-07 18:47:00          3  desktop\n",
       "313578113262317 2017-09-18 22:49:00          2  desktop\n",
       "325320750514679 2017-09-30 14:29:00          5  desktop"
      ]
     },
     "execution_count": 36,
     "metadata": {},
     "output_type": "execute_result"
    }
   ],
   "source": [
    "# первый визит пользователя\n",
    "first_visits = (visits.sort_values(by = ['uid', 'start_ts']).groupby('uid')\n",
    "         .agg({'start_ts' : 'first', 'source_id': 'first', 'device': 'first'}))\n",
    "first_visits.head()"
   ]
  },
  {
   "cell_type": "code",
   "execution_count": 37,
   "metadata": {},
   "outputs": [
    {
     "data": {
      "text/html": [
       "<div>\n",
       "<style scoped>\n",
       "    .dataframe tbody tr th:only-of-type {\n",
       "        vertical-align: middle;\n",
       "    }\n",
       "\n",
       "    .dataframe tbody tr th {\n",
       "        vertical-align: top;\n",
       "    }\n",
       "\n",
       "    .dataframe thead th {\n",
       "        text-align: right;\n",
       "    }\n",
       "</style>\n",
       "<table border=\"1\" class=\"dataframe\">\n",
       "  <thead>\n",
       "    <tr style=\"text-align: right;\">\n",
       "      <th></th>\n",
       "      <th>uid</th>\n",
       "      <th>start_ts</th>\n",
       "      <th>source_id</th>\n",
       "      <th>device</th>\n",
       "      <th>buy_ts</th>\n",
       "      <th>revenue</th>\n",
       "    </tr>\n",
       "  </thead>\n",
       "  <tbody>\n",
       "    <tr>\n",
       "      <th>0</th>\n",
       "      <td>313578113262317</td>\n",
       "      <td>2017-09-18 22:49:00</td>\n",
       "      <td>2</td>\n",
       "      <td>desktop</td>\n",
       "      <td>2018-01-03 21:51:00</td>\n",
       "      <td>0.55</td>\n",
       "    </tr>\n",
       "    <tr>\n",
       "      <th>1</th>\n",
       "      <td>1575281904278712</td>\n",
       "      <td>2017-06-03 10:13:00</td>\n",
       "      <td>10</td>\n",
       "      <td>touch</td>\n",
       "      <td>2017-06-03 10:13:00</td>\n",
       "      <td>1.22</td>\n",
       "    </tr>\n",
       "    <tr>\n",
       "      <th>2</th>\n",
       "      <td>1575281904278712</td>\n",
       "      <td>2017-06-03 10:13:00</td>\n",
       "      <td>10</td>\n",
       "      <td>touch</td>\n",
       "      <td>2017-06-03 17:39:00</td>\n",
       "      <td>1.83</td>\n",
       "    </tr>\n",
       "    <tr>\n",
       "      <th>3</th>\n",
       "      <td>2429014661409475</td>\n",
       "      <td>2017-10-11 17:14:00</td>\n",
       "      <td>3</td>\n",
       "      <td>desktop</td>\n",
       "      <td>2017-10-11 18:33:00</td>\n",
       "      <td>73.33</td>\n",
       "    </tr>\n",
       "    <tr>\n",
       "      <th>4</th>\n",
       "      <td>2464366381792757</td>\n",
       "      <td>2018-01-27 20:10:00</td>\n",
       "      <td>5</td>\n",
       "      <td>desktop</td>\n",
       "      <td>2018-01-28 15:54:00</td>\n",
       "      <td>2.44</td>\n",
       "    </tr>\n",
       "  </tbody>\n",
       "</table>\n",
       "</div>"
      ],
      "text/plain": [
       "                uid            start_ts  source_id   device  \\\n",
       "0   313578113262317 2017-09-18 22:49:00          2  desktop   \n",
       "1  1575281904278712 2017-06-03 10:13:00         10    touch   \n",
       "2  1575281904278712 2017-06-03 10:13:00         10    touch   \n",
       "3  2429014661409475 2017-10-11 17:14:00          3  desktop   \n",
       "4  2464366381792757 2018-01-27 20:10:00          5  desktop   \n",
       "\n",
       "               buy_ts  revenue  \n",
       "0 2018-01-03 21:51:00     0.55  \n",
       "1 2017-06-03 10:13:00     1.22  \n",
       "2 2017-06-03 17:39:00     1.83  \n",
       "3 2017-10-11 18:33:00    73.33  \n",
       "4 2018-01-28 15:54:00     2.44  "
      ]
     },
     "execution_count": 37,
     "metadata": {},
     "output_type": "execute_result"
    }
   ],
   "source": [
    "users_orders = first_visits.merge(orders, on='uid', how='inner')\n",
    "users_orders.head()"
   ]
  },
  {
   "cell_type": "code",
   "execution_count": 38,
   "metadata": {},
   "outputs": [
    {
     "data": {
      "text/plain": [
       "count    5.041500e+04\n",
       "mean     3.199986e+06\n",
       "std      6.100780e+06\n",
       "min      0.000000e+00\n",
       "25%      3.600000e+02\n",
       "50%      1.236000e+04\n",
       "75%      3.316950e+06\n",
       "max      3.148014e+07\n",
       "Name: first_buy, dtype: float64"
      ]
     },
     "execution_count": 38,
     "metadata": {},
     "output_type": "execute_result"
    }
   ],
   "source": [
    "# вычислим, когда начинают покупать (в секундах)\n",
    "users_orders['first_buy'] = (users_orders['buy_ts'] - users_orders['start_ts']).dt.total_seconds()\n",
    "users_orders['first_buy'].describe()"
   ]
  },
  {
   "cell_type": "code",
   "execution_count": 39,
   "metadata": {},
   "outputs": [
    {
     "data": {
      "text/plain": [
       "12360.0"
      ]
     },
     "execution_count": 39,
     "metadata": {},
     "output_type": "execute_result"
    }
   ],
   "source": [
    "# медианное значение столбца first_buy\n",
    "users_orders['first_buy'].median()"
   ]
  },
  {
   "cell_type": "code",
   "execution_count": 40,
   "metadata": {},
   "outputs": [
    {
     "data": {
      "text/plain": [
       "<matplotlib.axes._subplots.AxesSubplot at 0x7efc0e5b5610>"
      ]
     },
     "execution_count": 40,
     "metadata": {},
     "output_type": "execute_result"
    },
    {
     "data": {
      "image/png": "[encoded data removed]",
      "text/plain": [
       "<Figure size 432x288 with 1 Axes>"
      ]
     },
     "metadata": {},
     "output_type": "display_data"
    }
   ],
   "source": [
    "# построим график распределения\n",
    "users_orders['first_buy'].hist(bins=100, grid=True)"
   ]
  },
  {
   "cell_type": "code",
   "execution_count": 41,
   "metadata": {},
   "outputs": [
    {
     "data": {
      "text/plain": [
       "0    60.0\n",
       "dtype: float64"
      ]
     },
     "execution_count": 41,
     "metadata": {},
     "output_type": "execute_result"
    }
   ],
   "source": [
    "users_orders['first_buy'].mode()"
   ]
  },
  {
   "cell_type": "markdown",
   "metadata": {},
   "source": [
    "- Чтобы вычислить, когда пользователи начинают покупать, в датасете visits выделены самые первые визиты. Затем в объединенном датасете users_buy добавлен столбец со временем покупок. Гистограмма показывает, что в данных много выбросов, поэтому за основу анализа взяты медиана и мода.\n",
    "- Если говорить о медианном показателе, то пользователи начинают покупать в течение первых 3 часов посещения сайта (12360 сек).\n",
    "- При этом наиболее часто покупка совершается в течение минуты с начала сессии (показатель моды)."
   ]
  },
  {
   "cell_type": "markdown",
   "metadata": {},
   "source": [
    "#### Количество покупок за период"
   ]
  },
  {
   "cell_type": "code",
   "execution_count": 42,
   "metadata": {},
   "outputs": [
    {
     "data": {
      "text/html": [
       "<div>\n",
       "<style scoped>\n",
       "    .dataframe tbody tr th:only-of-type {\n",
       "        vertical-align: middle;\n",
       "    }\n",
       "\n",
       "    .dataframe tbody tr th {\n",
       "        vertical-align: top;\n",
       "    }\n",
       "\n",
       "    .dataframe thead th {\n",
       "        text-align: right;\n",
       "    }\n",
       "</style>\n",
       "<table border=\"1\" class=\"dataframe\">\n",
       "  <thead>\n",
       "    <tr style=\"text-align: right;\">\n",
       "      <th></th>\n",
       "      <th>buy_ts</th>\n",
       "      <th>revenue</th>\n",
       "      <th>uid</th>\n",
       "      <th>order_month</th>\n",
       "    </tr>\n",
       "  </thead>\n",
       "  <tbody>\n",
       "    <tr>\n",
       "      <th>0</th>\n",
       "      <td>2017-06-01 00:10:00</td>\n",
       "      <td>17.00</td>\n",
       "      <td>10329302124590727494</td>\n",
       "      <td>2017-06-01</td>\n",
       "    </tr>\n",
       "    <tr>\n",
       "      <th>1</th>\n",
       "      <td>2017-06-01 00:25:00</td>\n",
       "      <td>0.55</td>\n",
       "      <td>11627257723692907447</td>\n",
       "      <td>2017-06-01</td>\n",
       "    </tr>\n",
       "    <tr>\n",
       "      <th>2</th>\n",
       "      <td>2017-06-01 00:27:00</td>\n",
       "      <td>0.37</td>\n",
       "      <td>17903680561304213844</td>\n",
       "      <td>2017-06-01</td>\n",
       "    </tr>\n",
       "    <tr>\n",
       "      <th>3</th>\n",
       "      <td>2017-06-01 00:29:00</td>\n",
       "      <td>0.55</td>\n",
       "      <td>16109239769442553005</td>\n",
       "      <td>2017-06-01</td>\n",
       "    </tr>\n",
       "    <tr>\n",
       "      <th>4</th>\n",
       "      <td>2017-06-01 07:58:00</td>\n",
       "      <td>0.37</td>\n",
       "      <td>14200605875248379450</td>\n",
       "      <td>2017-06-01</td>\n",
       "    </tr>\n",
       "  </tbody>\n",
       "</table>\n",
       "</div>"
      ],
      "text/plain": [
       "               buy_ts  revenue                   uid order_month\n",
       "0 2017-06-01 00:10:00    17.00  10329302124590727494  2017-06-01\n",
       "1 2017-06-01 00:25:00     0.55  11627257723692907447  2017-06-01\n",
       "2 2017-06-01 00:27:00     0.37  17903680561304213844  2017-06-01\n",
       "3 2017-06-01 00:29:00     0.55  16109239769442553005  2017-06-01\n",
       "4 2017-06-01 07:58:00     0.37  14200605875248379450  2017-06-01"
      ]
     },
     "execution_count": 42,
     "metadata": {},
     "output_type": "execute_result"
    }
   ],
   "source": [
    "# добавим столбец с месяцем заказа к таблице orders\n",
    "orders['order_month'] = orders.buy_ts.astype('datetime64[M]')\n",
    "orders.head()"
   ]
  },
  {
   "cell_type": "code",
   "execution_count": 43,
   "metadata": {},
   "outputs": [
    {
     "data": {
      "text/html": [
       "<div>\n",
       "<style scoped>\n",
       "    .dataframe tbody tr th:only-of-type {\n",
       "        vertical-align: middle;\n",
       "    }\n",
       "\n",
       "    .dataframe tbody tr th {\n",
       "        vertical-align: top;\n",
       "    }\n",
       "\n",
       "    .dataframe thead th {\n",
       "        text-align: right;\n",
       "    }\n",
       "</style>\n",
       "<table border=\"1\" class=\"dataframe\">\n",
       "  <thead>\n",
       "    <tr style=\"text-align: right;\">\n",
       "      <th></th>\n",
       "      <th>buy_ts</th>\n",
       "      <th>revenue</th>\n",
       "      <th>uid</th>\n",
       "      <th>order_month</th>\n",
       "      <th>orders_date</th>\n",
       "    </tr>\n",
       "  </thead>\n",
       "  <tbody>\n",
       "    <tr>\n",
       "      <th>0</th>\n",
       "      <td>2017-06-01 00:10:00</td>\n",
       "      <td>17.00</td>\n",
       "      <td>10329302124590727494</td>\n",
       "      <td>2017-06-01</td>\n",
       "      <td>2017-06-01</td>\n",
       "    </tr>\n",
       "    <tr>\n",
       "      <th>1</th>\n",
       "      <td>2017-06-01 00:25:00</td>\n",
       "      <td>0.55</td>\n",
       "      <td>11627257723692907447</td>\n",
       "      <td>2017-06-01</td>\n",
       "      <td>2017-06-01</td>\n",
       "    </tr>\n",
       "    <tr>\n",
       "      <th>2</th>\n",
       "      <td>2017-06-01 00:27:00</td>\n",
       "      <td>0.37</td>\n",
       "      <td>17903680561304213844</td>\n",
       "      <td>2017-06-01</td>\n",
       "      <td>2017-06-01</td>\n",
       "    </tr>\n",
       "    <tr>\n",
       "      <th>3</th>\n",
       "      <td>2017-06-01 00:29:00</td>\n",
       "      <td>0.55</td>\n",
       "      <td>16109239769442553005</td>\n",
       "      <td>2017-06-01</td>\n",
       "      <td>2017-06-01</td>\n",
       "    </tr>\n",
       "    <tr>\n",
       "      <th>4</th>\n",
       "      <td>2017-06-01 07:58:00</td>\n",
       "      <td>0.37</td>\n",
       "      <td>14200605875248379450</td>\n",
       "      <td>2017-06-01</td>\n",
       "      <td>2017-06-01</td>\n",
       "    </tr>\n",
       "  </tbody>\n",
       "</table>\n",
       "</div>"
      ],
      "text/plain": [
       "               buy_ts  revenue                   uid order_month orders_date\n",
       "0 2017-06-01 00:10:00    17.00  10329302124590727494  2017-06-01  2017-06-01\n",
       "1 2017-06-01 00:25:00     0.55  11627257723692907447  2017-06-01  2017-06-01\n",
       "2 2017-06-01 00:27:00     0.37  17903680561304213844  2017-06-01  2017-06-01\n",
       "3 2017-06-01 00:29:00     0.55  16109239769442553005  2017-06-01  2017-06-01\n",
       "4 2017-06-01 07:58:00     0.37  14200605875248379450  2017-06-01  2017-06-01"
      ]
     },
     "execution_count": 43,
     "metadata": {},
     "output_type": "execute_result"
    }
   ],
   "source": [
    "# добавим столбуц с датой заказа к таблице orders\n",
    "orders_copy = orders.copy()\n",
    "orders_copy['orders_date'] = orders_copy['buy_ts'].dt.date\n",
    "orders_copy.head()"
   ]
  },
  {
   "cell_type": "code",
   "execution_count": 44,
   "metadata": {
    "scrolled": true
   },
   "outputs": [
    {
     "data": {
      "text/plain": [
       "1.0793603882550205"
      ]
     },
     "execution_count": 44,
     "metadata": {},
     "output_type": "execute_result"
    }
   ],
   "source": [
    "# среднее количество покупок на пользователя в день\n",
    "orders_per_user_daily = orders_copy.groupby('orders_date').agg({'uid':['nunique', 'count']})\n",
    "orders_per_user_daily.columns = ['n_users', 'n_sessions']\n",
    "orders_per_user_daily['n_per_user'] = orders_per_user_daily['n_sessions'] / orders_per_user_daily['n_users']\n",
    "orders_per_user_daily['n_per_user'].mean()"
   ]
  },
  {
   "cell_type": "markdown",
   "metadata": {},
   "source": [
    "#### <Сколько покупают за период"
   ]
  },
  {
   "cell_type": "code",
   "execution_count": 45,
   "metadata": {},
   "outputs": [
    {
     "data": {
      "text/html": [
       "<div>\n",
       "<style scoped>\n",
       "    .dataframe tbody tr th:only-of-type {\n",
       "        vertical-align: middle;\n",
       "    }\n",
       "\n",
       "    .dataframe tbody tr th {\n",
       "        vertical-align: top;\n",
       "    }\n",
       "\n",
       "    .dataframe thead th {\n",
       "        text-align: right;\n",
       "    }\n",
       "</style>\n",
       "<table border=\"1\" class=\"dataframe\">\n",
       "  <thead>\n",
       "    <tr style=\"text-align: right;\">\n",
       "      <th></th>\n",
       "      <th>buy_ts</th>\n",
       "      <th>revenue</th>\n",
       "      <th>uid</th>\n",
       "      <th>order_month</th>\n",
       "      <th>first_order_datetime</th>\n",
       "    </tr>\n",
       "  </thead>\n",
       "  <tbody>\n",
       "    <tr>\n",
       "      <th>0</th>\n",
       "      <td>2017-06-01 00:10:00</td>\n",
       "      <td>17.00</td>\n",
       "      <td>10329302124590727494</td>\n",
       "      <td>2017-06-01</td>\n",
       "      <td>2017-06-01 00:10:00</td>\n",
       "    </tr>\n",
       "    <tr>\n",
       "      <th>1</th>\n",
       "      <td>2017-06-01 00:25:00</td>\n",
       "      <td>0.55</td>\n",
       "      <td>11627257723692907447</td>\n",
       "      <td>2017-06-01</td>\n",
       "      <td>2017-06-01 00:25:00</td>\n",
       "    </tr>\n",
       "    <tr>\n",
       "      <th>2</th>\n",
       "      <td>2017-06-01 00:27:00</td>\n",
       "      <td>0.37</td>\n",
       "      <td>17903680561304213844</td>\n",
       "      <td>2017-06-01</td>\n",
       "      <td>2017-06-01 00:27:00</td>\n",
       "    </tr>\n",
       "    <tr>\n",
       "      <th>3</th>\n",
       "      <td>2017-06-01 00:29:00</td>\n",
       "      <td>0.55</td>\n",
       "      <td>16109239769442553005</td>\n",
       "      <td>2017-06-01</td>\n",
       "      <td>2017-06-01 00:29:00</td>\n",
       "    </tr>\n",
       "    <tr>\n",
       "      <th>4</th>\n",
       "      <td>2017-06-01 07:58:00</td>\n",
       "      <td>0.37</td>\n",
       "      <td>14200605875248379450</td>\n",
       "      <td>2017-06-01</td>\n",
       "      <td>2017-06-01 07:58:00</td>\n",
       "    </tr>\n",
       "  </tbody>\n",
       "</table>\n",
       "</div>"
      ],
      "text/plain": [
       "               buy_ts  revenue                   uid order_month  \\\n",
       "0 2017-06-01 00:10:00    17.00  10329302124590727494  2017-06-01   \n",
       "1 2017-06-01 00:25:00     0.55  11627257723692907447  2017-06-01   \n",
       "2 2017-06-01 00:27:00     0.37  17903680561304213844  2017-06-01   \n",
       "3 2017-06-01 00:29:00     0.55  16109239769442553005  2017-06-01   \n",
       "4 2017-06-01 07:58:00     0.37  14200605875248379450  2017-06-01   \n",
       "\n",
       "  first_order_datetime  \n",
       "0  2017-06-01 00:10:00  \n",
       "1  2017-06-01 00:25:00  \n",
       "2  2017-06-01 00:27:00  \n",
       "3  2017-06-01 00:29:00  \n",
       "4  2017-06-01 07:58:00  "
      ]
     },
     "execution_count": 45,
     "metadata": {},
     "output_type": "execute_result"
    }
   ],
   "source": [
    "# добавим дату первой покупки\n",
    "first_order_date = orders.groupby('uid')['buy_ts'].min()\n",
    "first_order_date.name = 'first_order_datetime'\n",
    "orders = orders.join(first_order_date, on='uid')\n",
    "orders.head()"
   ]
  },
  {
   "cell_type": "code",
   "execution_count": 46,
   "metadata": {},
   "outputs": [
    {
     "data": {
      "text/html": [
       "<div>\n",
       "<style scoped>\n",
       "    .dataframe tbody tr th:only-of-type {\n",
       "        vertical-align: middle;\n",
       "    }\n",
       "\n",
       "    .dataframe tbody tr th {\n",
       "        vertical-align: top;\n",
       "    }\n",
       "\n",
       "    .dataframe thead th {\n",
       "        text-align: right;\n",
       "    }\n",
       "</style>\n",
       "<table border=\"1\" class=\"dataframe\">\n",
       "  <thead>\n",
       "    <tr style=\"text-align: right;\">\n",
       "      <th></th>\n",
       "      <th>buy_ts</th>\n",
       "      <th>revenue</th>\n",
       "      <th>uid</th>\n",
       "      <th>order_month</th>\n",
       "      <th>first_order_datetime</th>\n",
       "      <th>first_order_month</th>\n",
       "    </tr>\n",
       "  </thead>\n",
       "  <tbody>\n",
       "    <tr>\n",
       "      <th>0</th>\n",
       "      <td>2017-06-01 00:10:00</td>\n",
       "      <td>17.00</td>\n",
       "      <td>10329302124590727494</td>\n",
       "      <td>2017-06-01</td>\n",
       "      <td>2017-06-01 00:10:00</td>\n",
       "      <td>2017-06-01</td>\n",
       "    </tr>\n",
       "    <tr>\n",
       "      <th>1</th>\n",
       "      <td>2017-06-01 00:25:00</td>\n",
       "      <td>0.55</td>\n",
       "      <td>11627257723692907447</td>\n",
       "      <td>2017-06-01</td>\n",
       "      <td>2017-06-01 00:25:00</td>\n",
       "      <td>2017-06-01</td>\n",
       "    </tr>\n",
       "    <tr>\n",
       "      <th>2</th>\n",
       "      <td>2017-06-01 00:27:00</td>\n",
       "      <td>0.37</td>\n",
       "      <td>17903680561304213844</td>\n",
       "      <td>2017-06-01</td>\n",
       "      <td>2017-06-01 00:27:00</td>\n",
       "      <td>2017-06-01</td>\n",
       "    </tr>\n",
       "    <tr>\n",
       "      <th>3</th>\n",
       "      <td>2017-06-01 00:29:00</td>\n",
       "      <td>0.55</td>\n",
       "      <td>16109239769442553005</td>\n",
       "      <td>2017-06-01</td>\n",
       "      <td>2017-06-01 00:29:00</td>\n",
       "      <td>2017-06-01</td>\n",
       "    </tr>\n",
       "    <tr>\n",
       "      <th>4</th>\n",
       "      <td>2017-06-01 07:58:00</td>\n",
       "      <td>0.37</td>\n",
       "      <td>14200605875248379450</td>\n",
       "      <td>2017-06-01</td>\n",
       "      <td>2017-06-01 07:58:00</td>\n",
       "      <td>2017-06-01</td>\n",
       "    </tr>\n",
       "  </tbody>\n",
       "</table>\n",
       "</div>"
      ],
      "text/plain": [
       "               buy_ts  revenue                   uid order_month  \\\n",
       "0 2017-06-01 00:10:00    17.00  10329302124590727494  2017-06-01   \n",
       "1 2017-06-01 00:25:00     0.55  11627257723692907447  2017-06-01   \n",
       "2 2017-06-01 00:27:00     0.37  17903680561304213844  2017-06-01   \n",
       "3 2017-06-01 00:29:00     0.55  16109239769442553005  2017-06-01   \n",
       "4 2017-06-01 07:58:00     0.37  14200605875248379450  2017-06-01   \n",
       "\n",
       "  first_order_datetime first_order_month  \n",
       "0  2017-06-01 00:10:00        2017-06-01  \n",
       "1  2017-06-01 00:25:00        2017-06-01  \n",
       "2  2017-06-01 00:27:00        2017-06-01  \n",
       "3  2017-06-01 00:29:00        2017-06-01  \n",
       "4  2017-06-01 07:58:00        2017-06-01  "
      ]
     },
     "execution_count": 46,
     "metadata": {},
     "output_type": "execute_result"
    }
   ],
   "source": [
    "# месяц первого заказа\n",
    "orders['first_order_month'] = orders['first_order_datetime'].astype('datetime64[M]')\n",
    "orders.head()"
   ]
  },
  {
   "cell_type": "code",
   "execution_count": 47,
   "metadata": {
    "scrolled": true
   },
   "outputs": [],
   "source": [
    "# количество покупок в месяц\n",
    "buying = orders.groupby(['first_order_month','order_month']).agg({'uid':['nunique', 'count']}).reset_index()\n",
    "buying.columns = ['first_order_month', 'order_month', 'n_users', 'n_orders']\n",
    "buying['n_orders_per_user'] = buying['n_orders'] / buying['n_users']\n",
    "buying['first_order_month'] = buying['first_order_month'].dt.strftime('%Y-%m')\n",
    "buying['order_month'] = buying['order_month'].dt.strftime('%Y-%m')\n",
    "buying_pivot = buying.pivot_table(index='first_order_month', columns='order_month', values='n_orders_per_user', aggfunc='mean').round()"
   ]
  },
  {
   "cell_type": "code",
   "execution_count": 48,
   "metadata": {},
   "outputs": [
    {
     "data": {
      "text/plain": [
       "1.8589644143998318"
      ]
     },
     "execution_count": 48,
     "metadata": {},
     "output_type": "execute_result"
    }
   ],
   "source": [
    "# среднее количество покупок в месяц\n",
    "buying['n_orders_per_user'].mean()"
   ]
  },
  {
   "cell_type": "code",
   "execution_count": 49,
   "metadata": {},
   "outputs": [
    {
     "data": {
      "text/plain": [
       "<matplotlib.axes._subplots.AxesSubplot at 0x7efc0da12910>"
      ]
     },
     "execution_count": 49,
     "metadata": {},
     "output_type": "execute_result"
    },
    {
     "data": {
      "image/png": "[encoded data removed]",
      "text/plain": [
       "<Figure size 936x648 with 2 Axes>"
      ]
     },
     "metadata": {},
     "output_type": "display_data"
    }
   ],
   "source": [
    "plt.figure(figsize=(13, 9))\n",
    "plt.title('Среднее количество покупок')\n",
    "sns.heatmap(buying_pivot, annot=True, linewidths=1, linecolor='black')"
   ]
  },
  {
   "cell_type": "markdown",
   "metadata": {},
   "source": [
    "- Ежемесячно в разных когортах покупают от 1 до 4 раз. Среднее значение приближается к 2. Покупатели первой когорты приобретают товар 3-4 раза в месяц с июля 2017 года по март 2018 года."
   ]
  },
  {
   "cell_type": "markdown",
   "metadata": {},
   "source": [
    "#### Изменение среднего чека"
   ]
  },
  {
   "cell_type": "code",
   "execution_count": 50,
   "metadata": {},
   "outputs": [
    {
     "data": {
      "text/html": [
       "<div>\n",
       "<style scoped>\n",
       "    .dataframe tbody tr th:only-of-type {\n",
       "        vertical-align: middle;\n",
       "    }\n",
       "\n",
       "    .dataframe tbody tr th {\n",
       "        vertical-align: top;\n",
       "    }\n",
       "\n",
       "    .dataframe thead th {\n",
       "        text-align: right;\n",
       "    }\n",
       "</style>\n",
       "<table border=\"1\" class=\"dataframe\">\n",
       "  <thead>\n",
       "    <tr style=\"text-align: right;\">\n",
       "      <th></th>\n",
       "      <th></th>\n",
       "      <th>revenue</th>\n",
       "      <th>uid</th>\n",
       "      <th>revenue_per_user</th>\n",
       "    </tr>\n",
       "    <tr>\n",
       "      <th>first_order_month</th>\n",
       "      <th>order_month</th>\n",
       "      <th></th>\n",
       "      <th></th>\n",
       "      <th></th>\n",
       "    </tr>\n",
       "  </thead>\n",
       "  <tbody>\n",
       "    <tr>\n",
       "      <th rowspan=\"5\" valign=\"top\">2017-06-01</th>\n",
       "      <th>2017-06-01</th>\n",
       "      <td>9557.49</td>\n",
       "      <td>2023</td>\n",
       "      <td>4.724414</td>\n",
       "    </tr>\n",
       "    <tr>\n",
       "      <th>2017-07-01</th>\n",
       "      <td>981.82</td>\n",
       "      <td>61</td>\n",
       "      <td>16.095410</td>\n",
       "    </tr>\n",
       "    <tr>\n",
       "      <th>2017-08-01</th>\n",
       "      <td>885.34</td>\n",
       "      <td>50</td>\n",
       "      <td>17.706800</td>\n",
       "    </tr>\n",
       "    <tr>\n",
       "      <th>2017-09-01</th>\n",
       "      <td>1931.30</td>\n",
       "      <td>54</td>\n",
       "      <td>35.764815</td>\n",
       "    </tr>\n",
       "    <tr>\n",
       "      <th>2017-10-01</th>\n",
       "      <td>2068.58</td>\n",
       "      <td>88</td>\n",
       "      <td>23.506591</td>\n",
       "    </tr>\n",
       "  </tbody>\n",
       "</table>\n",
       "</div>"
      ],
      "text/plain": [
       "                               revenue   uid  revenue_per_user\n",
       "first_order_month order_month                                 \n",
       "2017-06-01        2017-06-01   9557.49  2023          4.724414\n",
       "                  2017-07-01    981.82    61         16.095410\n",
       "                  2017-08-01    885.34    50         17.706800\n",
       "                  2017-09-01   1931.30    54         35.764815\n",
       "                  2017-10-01   2068.58    88         23.506591"
      ]
     },
     "execution_count": 50,
     "metadata": {},
     "output_type": "execute_result"
    }
   ],
   "source": [
    "# определим размер когорт по таблице orders и посчитаем выручку с пользователя\n",
    "cohort_orders_grouped = (orders.groupby(['first_order_month','order_month'])\n",
    "                               .agg({'revenue':'sum','uid':'nunique'}))\n",
    "cohort_orders_grouped['revenue_per_user'] = cohort_orders_grouped['revenue'] / cohort_orders_grouped['uid']\n",
    "cohort_orders_grouped.head()"
   ]
  },
  {
   "cell_type": "code",
   "execution_count": 51,
   "metadata": {},
   "outputs": [],
   "source": [
    "# выделим время жизни когорты в месяцах\n",
    "cohort_orders_grouped = cohort_orders_grouped.reset_index()\n",
    "cohort_orders_grouped['cohort_lifetime'] = (cohort_orders_grouped['order_month'] - cohort_orders_grouped['first_order_month']) / np.timedelta64(1,'M')\n",
    "cohort_orders_grouped['cohort_lifetime'] = cohort_orders_grouped['cohort_lifetime'].round().astype('int')\n"
   ]
  },
  {
   "cell_type": "code",
   "execution_count": 52,
   "metadata": {},
   "outputs": [
    {
     "data": {
      "text/plain": [
       "<matplotlib.axes._subplots.AxesSubplot at 0x7efc07390c10>"
      ]
     },
     "execution_count": 52,
     "metadata": {},
     "output_type": "execute_result"
    },
    {
     "data": {
      "image/png": "[encoded data removed]",
      "text/plain": [
       "<Figure size 936x648 with 2 Axes>"
      ]
     },
     "metadata": {},
     "output_type": "display_data"
    }
   ],
   "source": [
    "# построим итоговую таблицу по среднему чеку и выведем на тепловой карте\n",
    "revenue_per_user_result = cohort_orders_grouped.pivot_table(index='first_order_month',\n",
    "                                                         columns='cohort_lifetime',\n",
    "                                                         values='revenue_per_user',\n",
    "                                                         aggfunc='mean')\n",
    "plt.figure(figsize=(13, 9))\n",
    "plt.title('Средний чек покупателей')\n",
    "sns.heatmap(revenue_per_user_result, annot=True, fmt='.2f', linewidths=1, linecolor='black', vmin=0, vmax=100)"
   ]
  },
  {
   "cell_type": "markdown",
   "metadata": {},
   "source": [
    "#### Средний чек пользователя"
   ]
  },
  {
   "cell_type": "code",
   "execution_count": 53,
   "metadata": {},
   "outputs": [
    {
     "data": {
      "text/plain": [
       "14.73356759726224"
      ]
     },
     "execution_count": 53,
     "metadata": {},
     "output_type": "execute_result"
    }
   ],
   "source": [
    "# средняя выручка по всем пользователям\n",
    "cohort_orders_grouped['revenue_per_user'].mean()"
   ]
  },
  {
   "cell_type": "markdown",
   "metadata": {},
   "source": [
    "- Средний чек покупателя составляет 14.7. В некоторых когортах средний чек постепенно растет, но затем снижается (как в июньской когорте достигает максимума в 35.76 в сентябре, но к маю 2018 года опускается до 9.8), в других есть резкий скачок в декабре (138.67 у сентябрьской когорты). \n",
    "- У всех когорт средний чек последнего месяца выше среднего чека нулевого месяца. Он может отличаться незначительно, как в январской когорте (4.14 и 4.70), или же увеличиться в несколько раз, как в декабрьской когорте (4.74 и 23.52)"
   ]
  },
  {
   "cell_type": "markdown",
   "metadata": {},
   "source": [
    "#### Ценность клиента (LTV)"
   ]
  },
  {
   "cell_type": "code",
   "execution_count": 54,
   "metadata": {},
   "outputs": [
    {
     "data": {
      "text/html": [
       "<div>\n",
       "<style scoped>\n",
       "    .dataframe tbody tr th:only-of-type {\n",
       "        vertical-align: middle;\n",
       "    }\n",
       "\n",
       "    .dataframe tbody tr th {\n",
       "        vertical-align: top;\n",
       "    }\n",
       "\n",
       "    .dataframe thead th {\n",
       "        text-align: right;\n",
       "    }\n",
       "</style>\n",
       "<table border=\"1\" class=\"dataframe\">\n",
       "  <thead>\n",
       "    <tr style=\"text-align: right;\">\n",
       "      <th></th>\n",
       "      <th>first_order_month</th>\n",
       "      <th>n_buyers</th>\n",
       "    </tr>\n",
       "  </thead>\n",
       "  <tbody>\n",
       "    <tr>\n",
       "      <th>0</th>\n",
       "      <td>2017-06-01</td>\n",
       "      <td>2023</td>\n",
       "    </tr>\n",
       "    <tr>\n",
       "      <th>1</th>\n",
       "      <td>2017-07-01</td>\n",
       "      <td>1923</td>\n",
       "    </tr>\n",
       "    <tr>\n",
       "      <th>2</th>\n",
       "      <td>2017-08-01</td>\n",
       "      <td>1370</td>\n",
       "    </tr>\n",
       "    <tr>\n",
       "      <th>3</th>\n",
       "      <td>2017-09-01</td>\n",
       "      <td>2581</td>\n",
       "    </tr>\n",
       "    <tr>\n",
       "      <th>4</th>\n",
       "      <td>2017-10-01</td>\n",
       "      <td>4340</td>\n",
       "    </tr>\n",
       "    <tr>\n",
       "      <th>5</th>\n",
       "      <td>2017-11-01</td>\n",
       "      <td>4081</td>\n",
       "    </tr>\n",
       "    <tr>\n",
       "      <th>6</th>\n",
       "      <td>2017-12-01</td>\n",
       "      <td>4383</td>\n",
       "    </tr>\n",
       "    <tr>\n",
       "      <th>7</th>\n",
       "      <td>2018-01-01</td>\n",
       "      <td>3373</td>\n",
       "    </tr>\n",
       "    <tr>\n",
       "      <th>8</th>\n",
       "      <td>2018-02-01</td>\n",
       "      <td>3651</td>\n",
       "    </tr>\n",
       "    <tr>\n",
       "      <th>9</th>\n",
       "      <td>2018-03-01</td>\n",
       "      <td>3533</td>\n",
       "    </tr>\n",
       "    <tr>\n",
       "      <th>10</th>\n",
       "      <td>2018-04-01</td>\n",
       "      <td>2276</td>\n",
       "    </tr>\n",
       "    <tr>\n",
       "      <th>11</th>\n",
       "      <td>2018-05-01</td>\n",
       "      <td>2988</td>\n",
       "    </tr>\n",
       "    <tr>\n",
       "      <th>12</th>\n",
       "      <td>2018-06-01</td>\n",
       "      <td>1</td>\n",
       "    </tr>\n",
       "  </tbody>\n",
       "</table>\n",
       "</div>"
      ],
      "text/plain": [
       "   first_order_month  n_buyers\n",
       "0         2017-06-01      2023\n",
       "1         2017-07-01      1923\n",
       "2         2017-08-01      1370\n",
       "3         2017-09-01      2581\n",
       "4         2017-10-01      4340\n",
       "5         2017-11-01      4081\n",
       "6         2017-12-01      4383\n",
       "7         2018-01-01      3373\n",
       "8         2018-02-01      3651\n",
       "9         2018-03-01      3533\n",
       "10        2018-04-01      2276\n",
       "11        2018-05-01      2988\n",
       "12        2018-06-01         1"
      ]
     },
     "execution_count": 54,
     "metadata": {},
     "output_type": "execute_result"
    }
   ],
   "source": [
    "# размер когорт\n",
    "cohort_size = orders.groupby('first_order_month').agg({'uid':'nunique'}).reset_index()\n",
    "cohort_size.columns = ['first_order_month', 'n_buyers']\n",
    "cohort_size"
   ]
  },
  {
   "cell_type": "code",
   "execution_count": 55,
   "metadata": {},
   "outputs": [
    {
     "data": {
      "text/html": [
       "<div>\n",
       "<style scoped>\n",
       "    .dataframe tbody tr th:only-of-type {\n",
       "        vertical-align: middle;\n",
       "    }\n",
       "\n",
       "    .dataframe tbody tr th {\n",
       "        vertical-align: top;\n",
       "    }\n",
       "\n",
       "    .dataframe thead th {\n",
       "        text-align: right;\n",
       "    }\n",
       "</style>\n",
       "<table border=\"1\" class=\"dataframe\">\n",
       "  <thead>\n",
       "    <tr style=\"text-align: right;\">\n",
       "      <th></th>\n",
       "      <th>first_order_month</th>\n",
       "      <th>n_buyers</th>\n",
       "      <th>order_month</th>\n",
       "      <th>revenue</th>\n",
       "      <th>uid</th>\n",
       "      <th>revenue_per_user</th>\n",
       "      <th>cohort_lifetime</th>\n",
       "    </tr>\n",
       "  </thead>\n",
       "  <tbody>\n",
       "    <tr>\n",
       "      <th>0</th>\n",
       "      <td>2017-06-01</td>\n",
       "      <td>2023</td>\n",
       "      <td>2017-06-01</td>\n",
       "      <td>9557.49</td>\n",
       "      <td>2023</td>\n",
       "      <td>4.724414</td>\n",
       "      <td>0</td>\n",
       "    </tr>\n",
       "    <tr>\n",
       "      <th>1</th>\n",
       "      <td>2017-06-01</td>\n",
       "      <td>2023</td>\n",
       "      <td>2017-07-01</td>\n",
       "      <td>981.82</td>\n",
       "      <td>61</td>\n",
       "      <td>16.095410</td>\n",
       "      <td>1</td>\n",
       "    </tr>\n",
       "    <tr>\n",
       "      <th>2</th>\n",
       "      <td>2017-06-01</td>\n",
       "      <td>2023</td>\n",
       "      <td>2017-08-01</td>\n",
       "      <td>885.34</td>\n",
       "      <td>50</td>\n",
       "      <td>17.706800</td>\n",
       "      <td>2</td>\n",
       "    </tr>\n",
       "    <tr>\n",
       "      <th>3</th>\n",
       "      <td>2017-06-01</td>\n",
       "      <td>2023</td>\n",
       "      <td>2017-09-01</td>\n",
       "      <td>1931.30</td>\n",
       "      <td>54</td>\n",
       "      <td>35.764815</td>\n",
       "      <td>3</td>\n",
       "    </tr>\n",
       "    <tr>\n",
       "      <th>4</th>\n",
       "      <td>2017-06-01</td>\n",
       "      <td>2023</td>\n",
       "      <td>2017-10-01</td>\n",
       "      <td>2068.58</td>\n",
       "      <td>88</td>\n",
       "      <td>23.506591</td>\n",
       "      <td>4</td>\n",
       "    </tr>\n",
       "  </tbody>\n",
       "</table>\n",
       "</div>"
      ],
      "text/plain": [
       "  first_order_month  n_buyers order_month  revenue   uid  revenue_per_user  \\\n",
       "0        2017-06-01      2023  2017-06-01  9557.49  2023          4.724414   \n",
       "1        2017-06-01      2023  2017-07-01   981.82    61         16.095410   \n",
       "2        2017-06-01      2023  2017-08-01   885.34    50         17.706800   \n",
       "3        2017-06-01      2023  2017-09-01  1931.30    54         35.764815   \n",
       "4        2017-06-01      2023  2017-10-01  2068.58    88         23.506591   \n",
       "\n",
       "   cohort_lifetime  \n",
       "0                0  \n",
       "1                1  \n",
       "2                2  \n",
       "3                3  \n",
       "4                4  "
      ]
     },
     "execution_count": 55,
     "metadata": {},
     "output_type": "execute_result"
    }
   ],
   "source": [
    "# изменение формата и объединение в результирующую таблицу\n",
    "result = cohort_size.merge(cohort_orders_grouped, on='first_order_month')\n",
    "result.head()"
   ]
  },
  {
   "cell_type": "code",
   "execution_count": 56,
   "metadata": {},
   "outputs": [],
   "source": [
    "# разделим валовую прибыль когорт за каждый месяц на общее число пользователей в каждой когорте и найдём LTV\n",
    "# показатели первых 6 месяцев жизни\n",
    "result['ltv'] = result['revenue'] / result['n_buyers']\n",
    "result = result[result['cohort_lifetime'] < 6]\n",
    "result_pivot = result.pivot_table(index='first_order_month', \n",
    "                                  columns='cohort_lifetime',\n",
    "                                  values='ltv',\n",
    "                                  aggfunc='mean')"
   ]
  },
  {
   "cell_type": "markdown",
   "metadata": {},
   "source": [
    "#### Дополнительные показатели LTV"
   ]
  },
  {
   "cell_type": "code",
   "execution_count": 57,
   "metadata": {},
   "outputs": [
    {
     "data": {
      "text/plain": [
       "cohort_lifetime\n",
       "0    4.801682\n",
       "1    5.395666\n",
       "2    5.821811\n",
       "3    6.689763\n",
       "4    7.298634\n",
       "5    7.969053\n",
       "dtype: float64"
      ]
     },
     "execution_count": 57,
     "metadata": {},
     "output_type": "execute_result"
    }
   ],
   "source": [
    "# показатели усредненной когорты за полгода\n",
    "result_pivot.cumsum(axis=1).mean(axis=0)"
   ]
  },
  {
   "cell_type": "code",
   "execution_count": 58,
   "metadata": {},
   "outputs": [
    {
     "data": {
      "text/plain": [
       "4.801682381794591"
      ]
     },
     "execution_count": 58,
     "metadata": {},
     "output_type": "execute_result"
    }
   ],
   "source": [
    "# средний ltv на 0 месяц\n",
    "result_pivot.cumsum(axis=1).mean(axis=0)[0]"
   ]
  },
  {
   "cell_type": "code",
   "execution_count": 59,
   "metadata": {},
   "outputs": [
    {
     "data": {
      "text/plain": [
       "7.969052630207335"
      ]
     },
     "execution_count": 59,
     "metadata": {},
     "output_type": "execute_result"
    }
   ],
   "source": [
    "# средний ltv за полгода\n",
    "ltv_half_year = result_pivot.cumsum(axis=1).mean(axis=0)[5]\n",
    "ltv_half_year"
   ]
  },
  {
   "cell_type": "code",
   "execution_count": 60,
   "metadata": {
    "scrolled": false
   },
   "outputs": [
    {
     "data": {
      "text/plain": [
       "<matplotlib.axes._subplots.AxesSubplot at 0x7efc05e65fd0>"
      ]
     },
     "execution_count": 60,
     "metadata": {},
     "output_type": "execute_result"
    },
    {
     "data": {
      "image/png": "[encoded data removed]",
      "text/plain": [
       "<Figure size 936x648 with 2 Axes>"
      ]
     },
     "metadata": {},
     "output_type": "display_data"
    }
   ],
   "source": [
    "# накопительный LTV за полгода\n",
    "cum_ltv = result_pivot.cumsum(axis=1)\n",
    "plt.figure(figsize=(13, 9))\n",
    "plt.title('Накопительный LTV')\n",
    "sns.heatmap(cum_ltv, annot=True, fmt='.2f', linewidths=1, linecolor='black')"
   ]
  },
  {
   "cell_type": "markdown",
   "metadata": {},
   "source": [
    "За полгода ценность пользователя растет от 4.8 почти до 8 (средний показатель увеличился до 7.97). Самый высокий показатель у сентябрьской когорты: 12.3 к концу 6 месяца. Остальные LTV 6 когорт варьируются от 6.16 до 8.36"
   ]
  },
  {
   "cell_type": "markdown",
   "metadata": {},
   "source": [
    "### Вывод"
   ]
  },
  {
   "cell_type": "markdown",
   "metadata": {},
   "source": [
    "- Пользователи начинают покупать в среднем в течение 3 часов после или во время своей первой сессии\n",
    "- Среднее количество покупок одного пользователя в месяц приближаетя к 2. Но, например, в июньской когорте число покупок может равняться 3 и 4.\n",
    "- Средний чек покупателя составляет 14.7. Средний чек пользователей постоянно меняется: в некоторых когортах он постепенно растет, но затем снижается (как в июньской когорте достигает максимума в 35.76 в сентябре, но к маю 2018 года опускается до 9.8), в других есть резкий скачок в декабре (138.67 у сентябрьской когорты). У всех когорт средний чек последнего месяца выше среднего чека нулевого месяца. Он может отличаться незначительно, как в январской когорте (4.14 и 4.70), или же увеличиться в несколько раз, как в декабрьской когорте (4.74 и 23.52).\n",
    "- Lifetime value постепенно увеличивается, т.е. клиент приносит больше прибыли со всех своих покупок. За полгода ценность пользователя растет от 4.8 почти до 8 (средний показатель увеличился до 7.97). Самый высокий показатель у сентябрьской когорты: 12.3 к концу 6 месяца. Остальные LTV 6 когорт варьируются от 6.16 до 8.36."
   ]
  },
  {
   "cell_type": "markdown",
   "metadata": {},
   "source": [
    "### Маркетинг"
   ]
  },
  {
   "cell_type": "markdown",
   "metadata": {},
   "source": [
    "*Ответим на следующие вопросы*:\n",
    "- сколько денег потратили? Всего / на каждый источник / по времени\n",
    "- сколько стоило привлечение одного покупателя из каждого источника?\n",
    "- на сколько окупились расходы? (ROI)"
   ]
  },
  {
   "cell_type": "code",
   "execution_count": 61,
   "metadata": {
    "scrolled": true
   },
   "outputs": [
    {
     "data": {
      "text/html": [
       "<div>\n",
       "<style scoped>\n",
       "    .dataframe tbody tr th:only-of-type {\n",
       "        vertical-align: middle;\n",
       "    }\n",
       "\n",
       "    .dataframe tbody tr th {\n",
       "        vertical-align: top;\n",
       "    }\n",
       "\n",
       "    .dataframe thead th {\n",
       "        text-align: right;\n",
       "    }\n",
       "</style>\n",
       "<table border=\"1\" class=\"dataframe\">\n",
       "  <thead>\n",
       "    <tr style=\"text-align: right;\">\n",
       "      <th></th>\n",
       "      <th>source_id</th>\n",
       "      <th>dt</th>\n",
       "      <th>costs</th>\n",
       "      <th>month</th>\n",
       "    </tr>\n",
       "  </thead>\n",
       "  <tbody>\n",
       "    <tr>\n",
       "      <th>0</th>\n",
       "      <td>1</td>\n",
       "      <td>2017-06-01</td>\n",
       "      <td>75.20</td>\n",
       "      <td>2017-06-01</td>\n",
       "    </tr>\n",
       "    <tr>\n",
       "      <th>1</th>\n",
       "      <td>1</td>\n",
       "      <td>2017-06-02</td>\n",
       "      <td>62.25</td>\n",
       "      <td>2017-06-01</td>\n",
       "    </tr>\n",
       "    <tr>\n",
       "      <th>2</th>\n",
       "      <td>1</td>\n",
       "      <td>2017-06-03</td>\n",
       "      <td>36.53</td>\n",
       "      <td>2017-06-01</td>\n",
       "    </tr>\n",
       "    <tr>\n",
       "      <th>3</th>\n",
       "      <td>1</td>\n",
       "      <td>2017-06-04</td>\n",
       "      <td>55.00</td>\n",
       "      <td>2017-06-01</td>\n",
       "    </tr>\n",
       "    <tr>\n",
       "      <th>4</th>\n",
       "      <td>1</td>\n",
       "      <td>2017-06-05</td>\n",
       "      <td>57.08</td>\n",
       "      <td>2017-06-01</td>\n",
       "    </tr>\n",
       "  </tbody>\n",
       "</table>\n",
       "</div>"
      ],
      "text/plain": [
       "   source_id         dt  costs      month\n",
       "0          1 2017-06-01  75.20 2017-06-01\n",
       "1          1 2017-06-02  62.25 2017-06-01\n",
       "2          1 2017-06-03  36.53 2017-06-01\n",
       "3          1 2017-06-04  55.00 2017-06-01\n",
       "4          1 2017-06-05  57.08 2017-06-01"
      ]
     },
     "execution_count": 61,
     "metadata": {},
     "output_type": "execute_result"
    }
   ],
   "source": [
    "# добавим столбец с месяцем в таблицу costs\n",
    "costs['month'] = costs['dt'].astype('datetime64[M]')\n",
    "costs.head()"
   ]
  },
  {
   "cell_type": "code",
   "execution_count": 62,
   "metadata": {},
   "outputs": [
    {
     "data": {
      "text/plain": [
       "329131.62"
      ]
     },
     "execution_count": 62,
     "metadata": {},
     "output_type": "execute_result"
    }
   ],
   "source": [
    "# посчитаем общие затраты\n",
    "costs.costs.sum()"
   ]
  },
  {
   "cell_type": "code",
   "execution_count": 63,
   "metadata": {},
   "outputs": [
    {
     "data": {
      "image/png": "[encoded data removed]",
      "text/plain": [
       "<Figure size 432x288 with 1 Axes>"
      ]
     },
     "metadata": {},
     "output_type": "display_data"
    }
   ],
   "source": [
    "# Затраты на каждый источник за год\n",
    "source_costs = costs.groupby('source_id')['costs'].sum()\n",
    "source_costs.sort_values(ascending=False).plot(kind='bar', grid=True, title='Затраты на каждый источник за год')\n",
    "plt.ylabel('money_spent')\n",
    "plt.show()"
   ]
  },
  {
   "cell_type": "code",
   "execution_count": 64,
   "metadata": {},
   "outputs": [
    {
     "data": {
      "text/plain": [
       "source_id\n",
       "1      20833.27\n",
       "2      42806.04\n",
       "3     141321.63\n",
       "4      61073.60\n",
       "5      51757.10\n",
       "9       5517.49\n",
       "10      5822.49\n",
       "Name: costs, dtype: float64"
      ]
     },
     "execution_count": 64,
     "metadata": {},
     "output_type": "execute_result"
    }
   ],
   "source": [
    "source_costs"
   ]
  },
  {
   "cell_type": "code",
   "execution_count": 65,
   "metadata": {},
   "outputs": [
    {
     "data": {
      "text/plain": [
       "Text(0.5, 0, 'money_spent')"
      ]
     },
     "execution_count": 65,
     "metadata": {},
     "output_type": "execute_result"
    },
    {
     "data": {
      "image/png": "[encoded data removed]",
      "text/plain": [
       "<Figure size 432x288 with 1 Axes>"
      ]
     },
     "metadata": {},
     "output_type": "display_data"
    }
   ],
   "source": [
    "# Затраты по месяцам\n",
    "monthly_cost = costs.groupby('month')['costs'].sum()\n",
    "monthly_cost.plot(kind='barh', grid=True, title='Затраты на рекламу в месяц')\n",
    "plt.xlabel('money_spent')"
   ]
  },
  {
   "cell_type": "markdown",
   "metadata": {},
   "source": [
    "- Исходя из полученных данных таблицы `costs`, всего было потрачено на рекламу **329132**. На отдельные источники суммы распределились следующим образом: 141321.63 на 3 источник, 61073.60 на 4, 51757.10 на 5, 42806.04 на 2, 20833.27 на 1, 5822.49 на 10 и 5517.49 на 9. По месяцам максимальная сумма была потрачена в декабре 2017 года (38315.35), а также в ноябре (37907.88) и октябре (36322.88). Минимальная летом: в августе того же года (14790.54), затем следуют июнь (18015.00) и июль (18240.59). Максимальные затраты были за три месяца до Нового года и в течение трех месяце после."
   ]
  },
  {
   "cell_type": "code",
   "execution_count": 68,
   "metadata": {},
   "outputs": [
    {
     "data": {
      "text/plain": [
       "source_id             int64\n",
       "dt           datetime64[ns]\n",
       "costs               float64\n",
       "month        datetime64[ns]\n",
       "dtype: object"
      ]
     },
     "execution_count": 68,
     "metadata": {},
     "output_type": "execute_result"
    }
   ],
   "source": [
    "costs.dtypes"
   ]
  },
  {
   "cell_type": "code",
   "execution_count": 69,
   "metadata": {},
   "outputs": [],
   "source": [
    "costs_copy = costs.copy()"
   ]
  },
  {
   "cell_type": "markdown",
   "metadata": {},
   "source": [
    "#### Сколько стоило привлечение одного покупателя из каждого источника"
   ]
  },
  {
   "cell_type": "code",
   "execution_count": 70,
   "metadata": {},
   "outputs": [
    {
     "data": {
      "text/html": [
       "<div>\n",
       "<style scoped>\n",
       "    .dataframe tbody tr th:only-of-type {\n",
       "        vertical-align: middle;\n",
       "    }\n",
       "\n",
       "    .dataframe tbody tr th {\n",
       "        vertical-align: top;\n",
       "    }\n",
       "\n",
       "    .dataframe thead th {\n",
       "        text-align: right;\n",
       "    }\n",
       "</style>\n",
       "<table border=\"1\" class=\"dataframe\">\n",
       "  <thead>\n",
       "    <tr style=\"text-align: right;\">\n",
       "      <th></th>\n",
       "      <th>source_id</th>\n",
       "      <th>dt</th>\n",
       "      <th>costs</th>\n",
       "      <th>month</th>\n",
       "      <th>acquisition_date</th>\n",
       "    </tr>\n",
       "  </thead>\n",
       "  <tbody>\n",
       "    <tr>\n",
       "      <th>0</th>\n",
       "      <td>1</td>\n",
       "      <td>2017-06-01</td>\n",
       "      <td>75.20</td>\n",
       "      <td>2017-06-01</td>\n",
       "      <td>2017-06-01</td>\n",
       "    </tr>\n",
       "    <tr>\n",
       "      <th>1</th>\n",
       "      <td>1</td>\n",
       "      <td>2017-06-02</td>\n",
       "      <td>62.25</td>\n",
       "      <td>2017-06-01</td>\n",
       "      <td>2017-06-02</td>\n",
       "    </tr>\n",
       "    <tr>\n",
       "      <th>2</th>\n",
       "      <td>1</td>\n",
       "      <td>2017-06-03</td>\n",
       "      <td>36.53</td>\n",
       "      <td>2017-06-01</td>\n",
       "      <td>2017-06-03</td>\n",
       "    </tr>\n",
       "    <tr>\n",
       "      <th>3</th>\n",
       "      <td>1</td>\n",
       "      <td>2017-06-04</td>\n",
       "      <td>55.00</td>\n",
       "      <td>2017-06-01</td>\n",
       "      <td>2017-06-04</td>\n",
       "    </tr>\n",
       "    <tr>\n",
       "      <th>4</th>\n",
       "      <td>1</td>\n",
       "      <td>2017-06-05</td>\n",
       "      <td>57.08</td>\n",
       "      <td>2017-06-01</td>\n",
       "      <td>2017-06-05</td>\n",
       "    </tr>\n",
       "  </tbody>\n",
       "</table>\n",
       "</div>"
      ],
      "text/plain": [
       "   source_id         dt  costs      month acquisition_date\n",
       "0          1 2017-06-01  75.20 2017-06-01       2017-06-01\n",
       "1          1 2017-06-02  62.25 2017-06-01       2017-06-02\n",
       "2          1 2017-06-03  36.53 2017-06-01       2017-06-03\n",
       "3          1 2017-06-04  55.00 2017-06-01       2017-06-04\n",
       "4          1 2017-06-05  57.08 2017-06-01       2017-06-05"
      ]
     },
     "execution_count": 70,
     "metadata": {},
     "output_type": "execute_result"
    }
   ],
   "source": [
    "costs_copy['acquisition_date'] = costs['dt']\n",
    "costs_copy.head()"
   ]
  },
  {
   "cell_type": "code",
   "execution_count": 71,
   "metadata": {},
   "outputs": [
    {
     "data": {
      "text/html": [
       "<div>\n",
       "<style scoped>\n",
       "    .dataframe tbody tr th:only-of-type {\n",
       "        vertical-align: middle;\n",
       "    }\n",
       "\n",
       "    .dataframe tbody tr th {\n",
       "        vertical-align: top;\n",
       "    }\n",
       "\n",
       "    .dataframe thead th {\n",
       "        text-align: right;\n",
       "    }\n",
       "</style>\n",
       "<table border=\"1\" class=\"dataframe\">\n",
       "  <thead>\n",
       "    <tr style=\"text-align: right;\">\n",
       "      <th></th>\n",
       "      <th></th>\n",
       "      <th>uid</th>\n",
       "      <th>acquisition_ts</th>\n",
       "      <th>device</th>\n",
       "      <th>acquisition_month</th>\n",
       "      <th>dt</th>\n",
       "      <th>costs</th>\n",
       "      <th>month</th>\n",
       "    </tr>\n",
       "    <tr>\n",
       "      <th>source_id</th>\n",
       "      <th>acquisition_date</th>\n",
       "      <th></th>\n",
       "      <th></th>\n",
       "      <th></th>\n",
       "      <th></th>\n",
       "      <th></th>\n",
       "      <th></th>\n",
       "      <th></th>\n",
       "    </tr>\n",
       "  </thead>\n",
       "  <tbody>\n",
       "    <tr>\n",
       "      <th rowspan=\"5\" valign=\"top\">1</th>\n",
       "      <th>2017-06-01</th>\n",
       "      <td>469568501030474895</td>\n",
       "      <td>2017-06-01 05:30:00</td>\n",
       "      <td>desktop</td>\n",
       "      <td>2017-06-01</td>\n",
       "      <td>2017-06-01</td>\n",
       "      <td>75.2</td>\n",
       "      <td>2017-06-01</td>\n",
       "    </tr>\n",
       "    <tr>\n",
       "      <th>2017-06-01</th>\n",
       "      <td>1074355127080856382</td>\n",
       "      <td>2017-06-01 09:21:00</td>\n",
       "      <td>desktop</td>\n",
       "      <td>2017-06-01</td>\n",
       "      <td>2017-06-01</td>\n",
       "      <td>75.2</td>\n",
       "      <td>2017-06-01</td>\n",
       "    </tr>\n",
       "    <tr>\n",
       "      <th>2017-06-01</th>\n",
       "      <td>1292867924428534308</td>\n",
       "      <td>2017-06-01 12:53:00</td>\n",
       "      <td>desktop</td>\n",
       "      <td>2017-06-01</td>\n",
       "      <td>2017-06-01</td>\n",
       "      <td>75.2</td>\n",
       "      <td>2017-06-01</td>\n",
       "    </tr>\n",
       "    <tr>\n",
       "      <th>2017-06-01</th>\n",
       "      <td>2050423809815667474</td>\n",
       "      <td>2017-06-01 10:36:00</td>\n",
       "      <td>desktop</td>\n",
       "      <td>2017-06-01</td>\n",
       "      <td>2017-06-01</td>\n",
       "      <td>75.2</td>\n",
       "      <td>2017-06-01</td>\n",
       "    </tr>\n",
       "    <tr>\n",
       "      <th>2017-06-01</th>\n",
       "      <td>3520273333047097992</td>\n",
       "      <td>2017-06-01 20:08:00</td>\n",
       "      <td>desktop</td>\n",
       "      <td>2017-06-01</td>\n",
       "      <td>2017-06-01</td>\n",
       "      <td>75.2</td>\n",
       "      <td>2017-06-01</td>\n",
       "    </tr>\n",
       "  </tbody>\n",
       "</table>\n",
       "</div>"
      ],
      "text/plain": [
       "                                            uid      acquisition_ts   device  \\\n",
       "source_id acquisition_date                                                     \n",
       "1         2017-06-01         469568501030474895 2017-06-01 05:30:00  desktop   \n",
       "          2017-06-01        1074355127080856382 2017-06-01 09:21:00  desktop   \n",
       "          2017-06-01        1292867924428534308 2017-06-01 12:53:00  desktop   \n",
       "          2017-06-01        2050423809815667474 2017-06-01 10:36:00  desktop   \n",
       "          2017-06-01        3520273333047097992 2017-06-01 20:08:00  desktop   \n",
       "\n",
       "                           acquisition_month         dt  costs      month  \n",
       "source_id acquisition_date                                                 \n",
       "1         2017-06-01              2017-06-01 2017-06-01   75.2 2017-06-01  \n",
       "          2017-06-01              2017-06-01 2017-06-01   75.2 2017-06-01  \n",
       "          2017-06-01              2017-06-01 2017-06-01   75.2 2017-06-01  \n",
       "          2017-06-01              2017-06-01 2017-06-01   75.2 2017-06-01  \n",
       "          2017-06-01              2017-06-01 2017-06-01   75.2 2017-06-01  "
      ]
     },
     "execution_count": 71,
     "metadata": {},
     "output_type": "execute_result"
    }
   ],
   "source": [
    "# таблица для подсчета индивидуальных рекламных расходов на пользователя\n",
    "# профили платящих пользователей (первая сессия, первое устройство)\n",
    "paying_users = (visits[visits['uid'].isin(orders['uid'].unique())]\n",
    "                .sort_values(by=['uid', 'start_ts']).groupby('uid')\n",
    "                .agg({'start_ts':'first', 'source_id':'first', 'device':'first'})\n",
    "                .rename(columns={'start_ts':'acquisition_ts'}))\n",
    "paying_users['acquisition_date'] = paying_users['acquisition_ts'].dt.date\n",
    "paying_users['acquisition_month'] = paying_users['acquisition_ts'].astype('datetime64[M]')\n",
    "paying_users = (paying_users.reset_index().set_index(['source_id', 'acquisition_date'])\n",
    "                .join(costs_copy.set_index(['source_id', 'acquisition_date']), how='left'))\n",
    "\n",
    "paying_users.head()"
   ]
  },
  {
   "cell_type": "code",
   "execution_count": 72,
   "metadata": {},
   "outputs": [
    {
     "data": {
      "text/html": [
       "<div>\n",
       "<style scoped>\n",
       "    .dataframe tbody tr th:only-of-type {\n",
       "        vertical-align: middle;\n",
       "    }\n",
       "\n",
       "    .dataframe tbody tr th {\n",
       "        vertical-align: top;\n",
       "    }\n",
       "\n",
       "    .dataframe thead th {\n",
       "        text-align: right;\n",
       "    }\n",
       "</style>\n",
       "<table border=\"1\" class=\"dataframe\">\n",
       "  <thead>\n",
       "    <tr style=\"text-align: right;\">\n",
       "      <th></th>\n",
       "      <th></th>\n",
       "      <th>users</th>\n",
       "      <th>costs</th>\n",
       "      <th>payer_acquisition_cost</th>\n",
       "    </tr>\n",
       "    <tr>\n",
       "      <th>source_id</th>\n",
       "      <th>acquisition_date</th>\n",
       "      <th></th>\n",
       "      <th></th>\n",
       "      <th></th>\n",
       "    </tr>\n",
       "  </thead>\n",
       "  <tbody>\n",
       "    <tr>\n",
       "      <th rowspan=\"5\" valign=\"top\">1</th>\n",
       "      <th>2017-06-01</th>\n",
       "      <td>24</td>\n",
       "      <td>75.20</td>\n",
       "      <td>3.133333</td>\n",
       "    </tr>\n",
       "    <tr>\n",
       "      <th>2017-06-02</th>\n",
       "      <td>12</td>\n",
       "      <td>62.25</td>\n",
       "      <td>5.187500</td>\n",
       "    </tr>\n",
       "    <tr>\n",
       "      <th>2017-06-03</th>\n",
       "      <td>8</td>\n",
       "      <td>36.53</td>\n",
       "      <td>4.566250</td>\n",
       "    </tr>\n",
       "    <tr>\n",
       "      <th>2017-06-04</th>\n",
       "      <td>6</td>\n",
       "      <td>55.00</td>\n",
       "      <td>9.166667</td>\n",
       "    </tr>\n",
       "    <tr>\n",
       "      <th>2017-06-05</th>\n",
       "      <td>20</td>\n",
       "      <td>57.08</td>\n",
       "      <td>2.854000</td>\n",
       "    </tr>\n",
       "    <tr>\n",
       "      <th>...</th>\n",
       "      <th>...</th>\n",
       "      <td>...</td>\n",
       "      <td>...</td>\n",
       "      <td>...</td>\n",
       "    </tr>\n",
       "    <tr>\n",
       "      <th rowspan=\"5\" valign=\"top\">10</th>\n",
       "      <th>2018-05-27</th>\n",
       "      <td>2</td>\n",
       "      <td>9.92</td>\n",
       "      <td>4.960000</td>\n",
       "    </tr>\n",
       "    <tr>\n",
       "      <th>2018-05-28</th>\n",
       "      <td>7</td>\n",
       "      <td>21.26</td>\n",
       "      <td>3.037143</td>\n",
       "    </tr>\n",
       "    <tr>\n",
       "      <th>2018-05-29</th>\n",
       "      <td>4</td>\n",
       "      <td>11.32</td>\n",
       "      <td>2.830000</td>\n",
       "    </tr>\n",
       "    <tr>\n",
       "      <th>2018-05-30</th>\n",
       "      <td>10</td>\n",
       "      <td>33.15</td>\n",
       "      <td>3.315000</td>\n",
       "    </tr>\n",
       "    <tr>\n",
       "      <th>2018-05-31</th>\n",
       "      <td>25</td>\n",
       "      <td>17.60</td>\n",
       "      <td>0.704000</td>\n",
       "    </tr>\n",
       "  </tbody>\n",
       "</table>\n",
       "<p>2400 rows × 3 columns</p>\n",
       "</div>"
      ],
      "text/plain": [
       "                            users  costs  payer_acquisition_cost\n",
       "source_id acquisition_date                                      \n",
       "1         2017-06-01           24  75.20                3.133333\n",
       "          2017-06-02           12  62.25                5.187500\n",
       "          2017-06-03            8  36.53                4.566250\n",
       "          2017-06-04            6  55.00                9.166667\n",
       "          2017-06-05           20  57.08                2.854000\n",
       "...                           ...    ...                     ...\n",
       "10        2018-05-27            2   9.92                4.960000\n",
       "          2018-05-28            7  21.26                3.037143\n",
       "          2018-05-29            4  11.32                2.830000\n",
       "          2018-05-30           10  33.15                3.315000\n",
       "          2018-05-31           25  17.60                0.704000\n",
       "\n",
       "[2400 rows x 3 columns]"
      ]
     },
     "execution_count": 72,
     "metadata": {},
     "output_type": "execute_result"
    }
   ],
   "source": [
    "# стоимость привлечения одного платящего пользователя\n",
    "user_cost = (paying_users.groupby(['source_id', 'acquisition_date']).agg({'device':'count', 'costs':'max'})\n",
    "             .rename(columns = {'device':'users'}))\n",
    "user_cost['payer_acquisition_cost'] = user_cost['costs'] / user_cost['users']\n",
    "user_cost"
   ]
  },
  {
   "cell_type": "code",
   "execution_count": 73,
   "metadata": {
    "scrolled": true
   },
   "outputs": [
    {
     "data": {
      "text/html": [
       "<div>\n",
       "<style scoped>\n",
       "    .dataframe tbody tr th:only-of-type {\n",
       "        vertical-align: middle;\n",
       "    }\n",
       "\n",
       "    .dataframe tbody tr th {\n",
       "        vertical-align: top;\n",
       "    }\n",
       "\n",
       "    .dataframe thead th {\n",
       "        text-align: right;\n",
       "    }\n",
       "</style>\n",
       "<table border=\"1\" class=\"dataframe\">\n",
       "  <thead>\n",
       "    <tr style=\"text-align: right;\">\n",
       "      <th></th>\n",
       "      <th>acquisition_ts</th>\n",
       "      <th>acquisition_date</th>\n",
       "      <th>acquisition_month</th>\n",
       "      <th>source_id</th>\n",
       "      <th>device</th>\n",
       "      <th>payer_acquisition_cost</th>\n",
       "      <th>total_revenue</th>\n",
       "    </tr>\n",
       "    <tr>\n",
       "      <th>uid</th>\n",
       "      <th></th>\n",
       "      <th></th>\n",
       "      <th></th>\n",
       "      <th></th>\n",
       "      <th></th>\n",
       "      <th></th>\n",
       "      <th></th>\n",
       "    </tr>\n",
       "  </thead>\n",
       "  <tbody>\n",
       "    <tr>\n",
       "      <th>469568501030474895</th>\n",
       "      <td>2017-06-01 05:30:00</td>\n",
       "      <td>2017-06-01</td>\n",
       "      <td>2017-06-01</td>\n",
       "      <td>1</td>\n",
       "      <td>desktop</td>\n",
       "      <td>3.133333</td>\n",
       "      <td>70.69</td>\n",
       "    </tr>\n",
       "    <tr>\n",
       "      <th>1074355127080856382</th>\n",
       "      <td>2017-06-01 09:21:00</td>\n",
       "      <td>2017-06-01</td>\n",
       "      <td>2017-06-01</td>\n",
       "      <td>1</td>\n",
       "      <td>desktop</td>\n",
       "      <td>3.133333</td>\n",
       "      <td>0.37</td>\n",
       "    </tr>\n",
       "    <tr>\n",
       "      <th>1292867924428534308</th>\n",
       "      <td>2017-06-01 12:53:00</td>\n",
       "      <td>2017-06-01</td>\n",
       "      <td>2017-06-01</td>\n",
       "      <td>1</td>\n",
       "      <td>desktop</td>\n",
       "      <td>3.133333</td>\n",
       "      <td>4.28</td>\n",
       "    </tr>\n",
       "    <tr>\n",
       "      <th>2050423809815667474</th>\n",
       "      <td>2017-06-01 10:36:00</td>\n",
       "      <td>2017-06-01</td>\n",
       "      <td>2017-06-01</td>\n",
       "      <td>1</td>\n",
       "      <td>desktop</td>\n",
       "      <td>3.133333</td>\n",
       "      <td>8.31</td>\n",
       "    </tr>\n",
       "    <tr>\n",
       "      <th>3520273333047097992</th>\n",
       "      <td>2017-06-01 20:08:00</td>\n",
       "      <td>2017-06-01</td>\n",
       "      <td>2017-06-01</td>\n",
       "      <td>1</td>\n",
       "      <td>desktop</td>\n",
       "      <td>3.133333</td>\n",
       "      <td>0.24</td>\n",
       "    </tr>\n",
       "  </tbody>\n",
       "</table>\n",
       "</div>"
      ],
      "text/plain": [
       "                         acquisition_ts acquisition_date acquisition_month  \\\n",
       "uid                                                                          \n",
       "469568501030474895  2017-06-01 05:30:00       2017-06-01        2017-06-01   \n",
       "1074355127080856382 2017-06-01 09:21:00       2017-06-01        2017-06-01   \n",
       "1292867924428534308 2017-06-01 12:53:00       2017-06-01        2017-06-01   \n",
       "2050423809815667474 2017-06-01 10:36:00       2017-06-01        2017-06-01   \n",
       "3520273333047097992 2017-06-01 20:08:00       2017-06-01        2017-06-01   \n",
       "\n",
       "                     source_id   device  payer_acquisition_cost  total_revenue  \n",
       "uid                                                                             \n",
       "469568501030474895           1  desktop                3.133333          70.69  \n",
       "1074355127080856382          1  desktop                3.133333           0.37  \n",
       "1292867924428534308          1  desktop                3.133333           4.28  \n",
       "2050423809815667474          1  desktop                3.133333           8.31  \n",
       "3520273333047097992          1  desktop                3.133333           0.24  "
      ]
     },
     "execution_count": 73,
     "metadata": {},
     "output_type": "execute_result"
    }
   ],
   "source": [
    "# добавим столбец с доходами по пользователю\n",
    "paying_users = paying_users.join(user_cost[['payer_acquisition_cost']], how='left')\n",
    "paying_users = paying_users.reset_index().set_index('uid')[['acquisition_ts', 'acquisition_date', 'acquisition_month', \n",
    "                                                            'source_id', 'device', 'payer_acquisition_cost']]\n",
    "paying_users = (paying_users.join(((orders.groupby('uid'))\n",
    "                .agg({'revenue':'sum'})\n",
    "                .rename(columns={'revenue':'total_revenue'})), how='left'))\n",
    "paying_users.head()"
   ]
  },
  {
   "cell_type": "code",
   "execution_count": 74,
   "metadata": {
    "scrolled": true
   },
   "outputs": [
    {
     "data": {
      "text/html": [
       "<div>\n",
       "<style scoped>\n",
       "    .dataframe tbody tr th:only-of-type {\n",
       "        vertical-align: middle;\n",
       "    }\n",
       "\n",
       "    .dataframe tbody tr th {\n",
       "        vertical-align: top;\n",
       "    }\n",
       "\n",
       "    .dataframe thead th {\n",
       "        text-align: right;\n",
       "    }\n",
       "</style>\n",
       "<table border=\"1\" class=\"dataframe\">\n",
       "  <thead>\n",
       "    <tr style=\"text-align: right;\">\n",
       "      <th></th>\n",
       "      <th>uid</th>\n",
       "      <th>acquisition_ts</th>\n",
       "      <th>acquisition_date</th>\n",
       "      <th>acquisition_month</th>\n",
       "      <th>source_id</th>\n",
       "      <th>device</th>\n",
       "      <th>payer_acquisition_cost</th>\n",
       "      <th>total_revenue</th>\n",
       "    </tr>\n",
       "  </thead>\n",
       "  <tbody>\n",
       "    <tr>\n",
       "      <th>0</th>\n",
       "      <td>469568501030474895</td>\n",
       "      <td>2017-06-01 05:30:00</td>\n",
       "      <td>2017-06-01</td>\n",
       "      <td>2017-06-01</td>\n",
       "      <td>1</td>\n",
       "      <td>desktop</td>\n",
       "      <td>3.133333</td>\n",
       "      <td>70.69</td>\n",
       "    </tr>\n",
       "    <tr>\n",
       "      <th>1</th>\n",
       "      <td>1074355127080856382</td>\n",
       "      <td>2017-06-01 09:21:00</td>\n",
       "      <td>2017-06-01</td>\n",
       "      <td>2017-06-01</td>\n",
       "      <td>1</td>\n",
       "      <td>desktop</td>\n",
       "      <td>3.133333</td>\n",
       "      <td>0.37</td>\n",
       "    </tr>\n",
       "    <tr>\n",
       "      <th>2</th>\n",
       "      <td>1292867924428534308</td>\n",
       "      <td>2017-06-01 12:53:00</td>\n",
       "      <td>2017-06-01</td>\n",
       "      <td>2017-06-01</td>\n",
       "      <td>1</td>\n",
       "      <td>desktop</td>\n",
       "      <td>3.133333</td>\n",
       "      <td>4.28</td>\n",
       "    </tr>\n",
       "    <tr>\n",
       "      <th>3</th>\n",
       "      <td>2050423809815667474</td>\n",
       "      <td>2017-06-01 10:36:00</td>\n",
       "      <td>2017-06-01</td>\n",
       "      <td>2017-06-01</td>\n",
       "      <td>1</td>\n",
       "      <td>desktop</td>\n",
       "      <td>3.133333</td>\n",
       "      <td>8.31</td>\n",
       "    </tr>\n",
       "    <tr>\n",
       "      <th>4</th>\n",
       "      <td>3520273333047097992</td>\n",
       "      <td>2017-06-01 20:08:00</td>\n",
       "      <td>2017-06-01</td>\n",
       "      <td>2017-06-01</td>\n",
       "      <td>1</td>\n",
       "      <td>desktop</td>\n",
       "      <td>3.133333</td>\n",
       "      <td>0.24</td>\n",
       "    </tr>\n",
       "  </tbody>\n",
       "</table>\n",
       "</div>"
      ],
      "text/plain": [
       "                   uid      acquisition_ts acquisition_date acquisition_month  \\\n",
       "0   469568501030474895 2017-06-01 05:30:00       2017-06-01        2017-06-01   \n",
       "1  1074355127080856382 2017-06-01 09:21:00       2017-06-01        2017-06-01   \n",
       "2  1292867924428534308 2017-06-01 12:53:00       2017-06-01        2017-06-01   \n",
       "3  2050423809815667474 2017-06-01 10:36:00       2017-06-01        2017-06-01   \n",
       "4  3520273333047097992 2017-06-01 20:08:00       2017-06-01        2017-06-01   \n",
       "\n",
       "   source_id   device  payer_acquisition_cost  total_revenue  \n",
       "0          1  desktop                3.133333          70.69  \n",
       "1          1  desktop                3.133333           0.37  \n",
       "2          1  desktop                3.133333           4.28  \n",
       "3          1  desktop                3.133333           8.31  \n",
       "4          1  desktop                3.133333           0.24  "
      ]
     },
     "execution_count": 74,
     "metadata": {},
     "output_type": "execute_result"
    }
   ],
   "source": [
    "paying_users = paying_users.reset_index()\n",
    "paying_users.head()"
   ]
  },
  {
   "cell_type": "code",
   "execution_count": 75,
   "metadata": {},
   "outputs": [
    {
     "data": {
      "text/html": [
       "<div>\n",
       "<style scoped>\n",
       "    .dataframe tbody tr th:only-of-type {\n",
       "        vertical-align: middle;\n",
       "    }\n",
       "\n",
       "    .dataframe tbody tr th {\n",
       "        vertical-align: top;\n",
       "    }\n",
       "\n",
       "    .dataframe thead th {\n",
       "        text-align: right;\n",
       "    }\n",
       "</style>\n",
       "<table border=\"1\" class=\"dataframe\">\n",
       "  <thead>\n",
       "    <tr style=\"text-align: right;\">\n",
       "      <th></th>\n",
       "      <th></th>\n",
       "      <th>n_paying_users</th>\n",
       "    </tr>\n",
       "    <tr>\n",
       "      <th>source_id</th>\n",
       "      <th>acquisition_month</th>\n",
       "      <th></th>\n",
       "    </tr>\n",
       "  </thead>\n",
       "  <tbody>\n",
       "    <tr>\n",
       "      <th rowspan=\"5\" valign=\"top\">1</th>\n",
       "      <th>2017-06-01</th>\n",
       "      <td>240</td>\n",
       "    </tr>\n",
       "    <tr>\n",
       "      <th>2017-07-01</th>\n",
       "      <td>184</td>\n",
       "    </tr>\n",
       "    <tr>\n",
       "      <th>2017-08-01</th>\n",
       "      <td>126</td>\n",
       "    </tr>\n",
       "    <tr>\n",
       "      <th>2017-09-01</th>\n",
       "      <td>248</td>\n",
       "    </tr>\n",
       "    <tr>\n",
       "      <th>2017-10-01</th>\n",
       "      <td>350</td>\n",
       "    </tr>\n",
       "    <tr>\n",
       "      <th>...</th>\n",
       "      <th>...</th>\n",
       "      <td>...</td>\n",
       "    </tr>\n",
       "    <tr>\n",
       "      <th rowspan=\"5\" valign=\"top\">10</th>\n",
       "      <th>2018-01-01</th>\n",
       "      <td>103</td>\n",
       "    </tr>\n",
       "    <tr>\n",
       "      <th>2018-02-01</th>\n",
       "      <td>113</td>\n",
       "    </tr>\n",
       "    <tr>\n",
       "      <th>2018-03-01</th>\n",
       "      <td>166</td>\n",
       "    </tr>\n",
       "    <tr>\n",
       "      <th>2018-04-01</th>\n",
       "      <td>98</td>\n",
       "    </tr>\n",
       "    <tr>\n",
       "      <th>2018-05-01</th>\n",
       "      <td>101</td>\n",
       "    </tr>\n",
       "  </tbody>\n",
       "</table>\n",
       "<p>85 rows × 1 columns</p>\n",
       "</div>"
      ],
      "text/plain": [
       "                             n_paying_users\n",
       "source_id acquisition_month                \n",
       "1         2017-06-01                    240\n",
       "          2017-07-01                    184\n",
       "          2017-08-01                    126\n",
       "          2017-09-01                    248\n",
       "          2017-10-01                    350\n",
       "...                                     ...\n",
       "10        2018-01-01                    103\n",
       "          2018-02-01                    113\n",
       "          2018-03-01                    166\n",
       "          2018-04-01                     98\n",
       "          2018-05-01                    101\n",
       "\n",
       "[85 rows x 1 columns]"
      ]
     },
     "execution_count": 75,
     "metadata": {},
     "output_type": "execute_result"
    }
   ],
   "source": [
    "n_paying_users = paying_users.groupby(['source_id', 'acquisition_month']).agg({'uid':'count'})\n",
    "n_paying_users.columns = ['n_paying_users']\n",
    "n_paying_users"
   ]
  },
  {
   "cell_type": "code",
   "execution_count": 76,
   "metadata": {},
   "outputs": [
    {
     "data": {
      "text/html": [
       "<div>\n",
       "<style scoped>\n",
       "    .dataframe tbody tr th:only-of-type {\n",
       "        vertical-align: middle;\n",
       "    }\n",
       "\n",
       "    .dataframe tbody tr th {\n",
       "        vertical-align: top;\n",
       "    }\n",
       "\n",
       "    .dataframe thead th {\n",
       "        text-align: right;\n",
       "    }\n",
       "</style>\n",
       "<table border=\"1\" class=\"dataframe\">\n",
       "  <thead>\n",
       "    <tr style=\"text-align: right;\">\n",
       "      <th></th>\n",
       "      <th></th>\n",
       "      <th>payer_acquisition_cost</th>\n",
       "      <th>total_revenue</th>\n",
       "      <th>n_paying_users</th>\n",
       "    </tr>\n",
       "    <tr>\n",
       "      <th>source_id</th>\n",
       "      <th>acquisition_month</th>\n",
       "      <th></th>\n",
       "      <th></th>\n",
       "      <th></th>\n",
       "    </tr>\n",
       "  </thead>\n",
       "  <tbody>\n",
       "    <tr>\n",
       "      <th rowspan=\"5\" valign=\"top\">1</th>\n",
       "      <th>2017-06-01</th>\n",
       "      <td>1082.37</td>\n",
       "      <td>9910.69</td>\n",
       "      <td>240</td>\n",
       "    </tr>\n",
       "    <tr>\n",
       "      <th>2017-07-01</th>\n",
       "      <td>1072.88</td>\n",
       "      <td>2341.21</td>\n",
       "      <td>184</td>\n",
       "    </tr>\n",
       "    <tr>\n",
       "      <th>2017-08-01</th>\n",
       "      <td>951.81</td>\n",
       "      <td>2624.27</td>\n",
       "      <td>126</td>\n",
       "    </tr>\n",
       "    <tr>\n",
       "      <th>2017-09-01</th>\n",
       "      <td>1502.01</td>\n",
       "      <td>2414.97</td>\n",
       "      <td>248</td>\n",
       "    </tr>\n",
       "    <tr>\n",
       "      <th>2017-10-01</th>\n",
       "      <td>2315.75</td>\n",
       "      <td>3252.30</td>\n",
       "      <td>350</td>\n",
       "    </tr>\n",
       "    <tr>\n",
       "      <th>...</th>\n",
       "      <th>...</th>\n",
       "      <td>...</td>\n",
       "      <td>...</td>\n",
       "      <td>...</td>\n",
       "    </tr>\n",
       "    <tr>\n",
       "      <th rowspan=\"5\" valign=\"top\">10</th>\n",
       "      <th>2018-01-01</th>\n",
       "      <td>556.16</td>\n",
       "      <td>369.68</td>\n",
       "      <td>103</td>\n",
       "    </tr>\n",
       "    <tr>\n",
       "      <th>2018-02-01</th>\n",
       "      <td>473.94</td>\n",
       "      <td>261.92</td>\n",
       "      <td>113</td>\n",
       "    </tr>\n",
       "    <tr>\n",
       "      <th>2018-03-01</th>\n",
       "      <td>526.41</td>\n",
       "      <td>545.28</td>\n",
       "      <td>166</td>\n",
       "    </tr>\n",
       "    <tr>\n",
       "      <th>2018-04-01</th>\n",
       "      <td>360.97</td>\n",
       "      <td>258.70</td>\n",
       "      <td>98</td>\n",
       "    </tr>\n",
       "    <tr>\n",
       "      <th>2018-05-01</th>\n",
       "      <td>355.32</td>\n",
       "      <td>364.34</td>\n",
       "      <td>101</td>\n",
       "    </tr>\n",
       "  </tbody>\n",
       "</table>\n",
       "<p>85 rows × 3 columns</p>\n",
       "</div>"
      ],
      "text/plain": [
       "                             payer_acquisition_cost  total_revenue  \\\n",
       "source_id acquisition_month                                          \n",
       "1         2017-06-01                        1082.37        9910.69   \n",
       "          2017-07-01                        1072.88        2341.21   \n",
       "          2017-08-01                         951.81        2624.27   \n",
       "          2017-09-01                        1502.01        2414.97   \n",
       "          2017-10-01                        2315.75        3252.30   \n",
       "...                                             ...            ...   \n",
       "10        2018-01-01                         556.16         369.68   \n",
       "          2018-02-01                         473.94         261.92   \n",
       "          2018-03-01                         526.41         545.28   \n",
       "          2018-04-01                         360.97         258.70   \n",
       "          2018-05-01                         355.32         364.34   \n",
       "\n",
       "                             n_paying_users  \n",
       "source_id acquisition_month                  \n",
       "1         2017-06-01                    240  \n",
       "          2017-07-01                    184  \n",
       "          2017-08-01                    126  \n",
       "          2017-09-01                    248  \n",
       "          2017-10-01                    350  \n",
       "...                                     ...  \n",
       "10        2018-01-01                    103  \n",
       "          2018-02-01                    113  \n",
       "          2018-03-01                    166  \n",
       "          2018-04-01                     98  \n",
       "          2018-05-01                    101  \n",
       "\n",
       "[85 rows x 3 columns]"
      ]
     },
     "execution_count": 76,
     "metadata": {},
     "output_type": "execute_result"
    }
   ],
   "source": [
    "# общая стоимость привлечения покупателей и выручка по источникам и в определнный месяц\n",
    "source_report = paying_users.groupby(['source_id', 'acquisition_month']).agg({'payer_acquisition_cost':'sum', 'total_revenue':'sum'})\n",
    "source_report = source_report.join(n_paying_users, on=['source_id', 'acquisition_month'], how='left')\n",
    "source_report"
   ]
  },
  {
   "cell_type": "code",
   "execution_count": 77,
   "metadata": {
    "scrolled": true
   },
   "outputs": [
    {
     "data": {
      "text/html": [
       "<div>\n",
       "<style scoped>\n",
       "    .dataframe tbody tr th:only-of-type {\n",
       "        vertical-align: middle;\n",
       "    }\n",
       "\n",
       "    .dataframe tbody tr th {\n",
       "        vertical-align: top;\n",
       "    }\n",
       "\n",
       "    .dataframe thead th {\n",
       "        text-align: right;\n",
       "    }\n",
       "</style>\n",
       "<table border=\"1\" class=\"dataframe\">\n",
       "  <thead>\n",
       "    <tr style=\"text-align: right;\">\n",
       "      <th></th>\n",
       "      <th></th>\n",
       "      <th>payer_acquisition_cost</th>\n",
       "      <th>total_revenue</th>\n",
       "      <th>n_paying_users</th>\n",
       "      <th>cac</th>\n",
       "    </tr>\n",
       "    <tr>\n",
       "      <th>source_id</th>\n",
       "      <th>acquisition_month</th>\n",
       "      <th></th>\n",
       "      <th></th>\n",
       "      <th></th>\n",
       "      <th></th>\n",
       "    </tr>\n",
       "  </thead>\n",
       "  <tbody>\n",
       "    <tr>\n",
       "      <th rowspan=\"5\" valign=\"top\">1</th>\n",
       "      <th>2017-06-01</th>\n",
       "      <td>1082.37</td>\n",
       "      <td>9910.69</td>\n",
       "      <td>240</td>\n",
       "      <td>4.509875</td>\n",
       "    </tr>\n",
       "    <tr>\n",
       "      <th>2017-07-01</th>\n",
       "      <td>1072.88</td>\n",
       "      <td>2341.21</td>\n",
       "      <td>184</td>\n",
       "      <td>5.830870</td>\n",
       "    </tr>\n",
       "    <tr>\n",
       "      <th>2017-08-01</th>\n",
       "      <td>951.81</td>\n",
       "      <td>2624.27</td>\n",
       "      <td>126</td>\n",
       "      <td>7.554048</td>\n",
       "    </tr>\n",
       "    <tr>\n",
       "      <th>2017-09-01</th>\n",
       "      <td>1502.01</td>\n",
       "      <td>2414.97</td>\n",
       "      <td>248</td>\n",
       "      <td>6.056492</td>\n",
       "    </tr>\n",
       "    <tr>\n",
       "      <th>2017-10-01</th>\n",
       "      <td>2315.75</td>\n",
       "      <td>3252.30</td>\n",
       "      <td>350</td>\n",
       "      <td>6.616429</td>\n",
       "    </tr>\n",
       "  </tbody>\n",
       "</table>\n",
       "</div>"
      ],
      "text/plain": [
       "                             payer_acquisition_cost  total_revenue  \\\n",
       "source_id acquisition_month                                          \n",
       "1         2017-06-01                        1082.37        9910.69   \n",
       "          2017-07-01                        1072.88        2341.21   \n",
       "          2017-08-01                         951.81        2624.27   \n",
       "          2017-09-01                        1502.01        2414.97   \n",
       "          2017-10-01                        2315.75        3252.30   \n",
       "\n",
       "                             n_paying_users       cac  \n",
       "source_id acquisition_month                            \n",
       "1         2017-06-01                    240  4.509875  \n",
       "          2017-07-01                    184  5.830870  \n",
       "          2017-08-01                    126  7.554048  \n",
       "          2017-09-01                    248  6.056492  \n",
       "          2017-10-01                    350  6.616429  "
      ]
     },
     "execution_count": 77,
     "metadata": {},
     "output_type": "execute_result"
    }
   ],
   "source": [
    "source_report['cac'] = source_report['payer_acquisition_cost'] / source_report['n_paying_users']\n",
    "source_report.head()"
   ]
  },
  {
   "cell_type": "code",
   "execution_count": 78,
   "metadata": {},
   "outputs": [
    {
     "data": {
      "text/plain": [
       "<matplotlib.axes._subplots.AxesSubplot at 0x7efc05cfb610>"
      ]
     },
     "execution_count": 78,
     "metadata": {},
     "output_type": "execute_result"
    },
    {
     "data": {
      "image/png": "[encoded data removed]",
      "text/plain": [
       "<Figure size 936x648 with 2 Axes>"
      ]
     },
     "metadata": {},
     "output_type": "display_data"
    }
   ],
   "source": [
    "# стоимость привлечения одного покупателя из разных истоников\n",
    "source_pivot = source_report.pivot_table(index='source_id', \n",
    "                                         columns='acquisition_month', \n",
    "                                         values='cac', \n",
    "                                         aggfunc='mean')\n",
    "\n",
    "plt.figure(figsize=(13, 9))\n",
    "plt.title('Стоимость привлечения пользователей по источникам')\n",
    "sns.heatmap(source_pivot, annot=True, fmt='.2f', linewidths=1, linecolor='black')"
   ]
  },
  {
   "cell_type": "code",
   "execution_count": 79,
   "metadata": {},
   "outputs": [
    {
     "name": "stdout",
     "output_type": "stream",
     "text": [
      "7.0751569819828735\n"
     ]
    },
    {
     "data": {
      "text/html": [
       "<div>\n",
       "<style scoped>\n",
       "    .dataframe tbody tr th:only-of-type {\n",
       "        vertical-align: middle;\n",
       "    }\n",
       "\n",
       "    .dataframe tbody tr th {\n",
       "        vertical-align: top;\n",
       "    }\n",
       "\n",
       "    .dataframe thead th {\n",
       "        text-align: right;\n",
       "    }\n",
       "</style>\n",
       "<table border=\"1\" class=\"dataframe\">\n",
       "  <thead>\n",
       "    <tr style=\"text-align: right;\">\n",
       "      <th></th>\n",
       "      <th>cac</th>\n",
       "    </tr>\n",
       "    <tr>\n",
       "      <th>source_id</th>\n",
       "      <th></th>\n",
       "    </tr>\n",
       "  </thead>\n",
       "  <tbody>\n",
       "    <tr>\n",
       "      <th>1</th>\n",
       "      <td>7.219979</td>\n",
       "    </tr>\n",
       "    <tr>\n",
       "      <th>2</th>\n",
       "      <td>12.616454</td>\n",
       "    </tr>\n",
       "    <tr>\n",
       "      <th>3</th>\n",
       "      <td>13.761162</td>\n",
       "    </tr>\n",
       "    <tr>\n",
       "      <th>4</th>\n",
       "      <td>6.175427</td>\n",
       "    </tr>\n",
       "    <tr>\n",
       "      <th>5</th>\n",
       "      <td>7.679106</td>\n",
       "    </tr>\n",
       "    <tr>\n",
       "      <th>7</th>\n",
       "      <td>0.000000</td>\n",
       "    </tr>\n",
       "    <tr>\n",
       "      <th>9</th>\n",
       "      <td>4.885612</td>\n",
       "    </tr>\n",
       "    <tr>\n",
       "      <th>10</th>\n",
       "      <td>4.263516</td>\n",
       "    </tr>\n",
       "  </tbody>\n",
       "</table>\n",
       "</div>"
      ],
      "text/plain": [
       "                 cac\n",
       "source_id           \n",
       "1           7.219979\n",
       "2          12.616454\n",
       "3          13.761162\n",
       "4           6.175427\n",
       "5           7.679106\n",
       "7           0.000000\n",
       "9           4.885612\n",
       "10          4.263516"
      ]
     },
     "execution_count": 79,
     "metadata": {},
     "output_type": "execute_result"
    }
   ],
   "source": [
    "# таблица со средними значениями CAC по источникам\n",
    "source_cac = source_report.groupby('source_id')['cac'].mean().to_frame()\n",
    "print(source_cac['cac'].mean())\n",
    "source_cac"
   ]
  },
  {
   "cell_type": "code",
   "execution_count": 80,
   "metadata": {},
   "outputs": [
    {
     "data": {
      "text/plain": [
       "Text(0.5, 1.0, 'Средняя стоимость привлечения одного покупателя по источникам')"
      ]
     },
     "execution_count": 80,
     "metadata": {},
     "output_type": "execute_result"
    },
    {
     "data": {
      "image/png": "[encoded data removed]",
      "text/plain": [
       "<Figure size 432x288 with 1 Axes>"
      ]
     },
     "metadata": {},
     "output_type": "display_data"
    }
   ],
   "source": [
    "source_cac.sort_values(by='cac', ascending=False).plot(kind='bar', grid=True)\n",
    "plt.title('Средняя стоимость привлечения одного покупателя по источникам')"
   ]
  },
  {
   "cell_type": "markdown",
   "metadata": {},
   "source": [
    "- Средние показатели привлечения покупателя по всем источникам равны 7. Однако распределение по отдельным источникам отличается: самые дорогие источники - №3 (13.8) и 2 (12.6), 5 и 1 стоят 7.7, 7.2 соответственно. Покупатели 4 источника обходятся в 6.2, 9 - 4.9, 10 - 4.3."
   ]
  },
  {
   "cell_type": "code",
   "execution_count": 81,
   "metadata": {},
   "outputs": [],
   "source": [
    "# данные из общей таблицы\n",
    "source_report['ltv'] = source_report['total_revenue'] / source_report['n_paying_users']\n",
    "source_report['roi'] = source_report['ltv'] / source_report['cac']\n",
    "#source_roi = source_report.pivot_table(index='source_id', \n",
    "                                       #columns='acquisition_month', \n",
    "                                       #values='roi', \n",
    "                                       #aggfunc='mean').cumsum(axis=1)"
   ]
  },
  {
   "cell_type": "code",
   "execution_count": 82,
   "metadata": {},
   "outputs": [
    {
     "data": {
      "text/html": [
       "<div>\n",
       "<style scoped>\n",
       "    .dataframe tbody tr th:only-of-type {\n",
       "        vertical-align: middle;\n",
       "    }\n",
       "\n",
       "    .dataframe tbody tr th {\n",
       "        vertical-align: top;\n",
       "    }\n",
       "\n",
       "    .dataframe thead th {\n",
       "        text-align: right;\n",
       "    }\n",
       "</style>\n",
       "<table border=\"1\" class=\"dataframe\">\n",
       "  <thead>\n",
       "    <tr style=\"text-align: right;\">\n",
       "      <th></th>\n",
       "      <th>ltv</th>\n",
       "    </tr>\n",
       "    <tr>\n",
       "      <th>source_id</th>\n",
       "      <th></th>\n",
       "    </tr>\n",
       "  </thead>\n",
       "  <tbody>\n",
       "    <tr>\n",
       "      <th>1</th>\n",
       "      <td>11.238028</td>\n",
       "    </tr>\n",
       "    <tr>\n",
       "      <th>2</th>\n",
       "      <td>12.514724</td>\n",
       "    </tr>\n",
       "    <tr>\n",
       "      <th>3</th>\n",
       "      <td>5.261197</td>\n",
       "    </tr>\n",
       "    <tr>\n",
       "      <th>4</th>\n",
       "      <td>5.767742</td>\n",
       "    </tr>\n",
       "    <tr>\n",
       "      <th>5</th>\n",
       "      <td>7.376510</td>\n",
       "    </tr>\n",
       "    <tr>\n",
       "      <th>7</th>\n",
       "      <td>1.220000</td>\n",
       "    </tr>\n",
       "    <tr>\n",
       "      <th>9</th>\n",
       "      <td>5.097752</td>\n",
       "    </tr>\n",
       "    <tr>\n",
       "      <th>10</th>\n",
       "      <td>3.506466</td>\n",
       "    </tr>\n",
       "  </tbody>\n",
       "</table>\n",
       "</div>"
      ],
      "text/plain": [
       "                 ltv\n",
       "source_id           \n",
       "1          11.238028\n",
       "2          12.514724\n",
       "3           5.261197\n",
       "4           5.767742\n",
       "5           7.376510\n",
       "7           1.220000\n",
       "9           5.097752\n",
       "10          3.506466"
      ]
     },
     "execution_count": 82,
     "metadata": {},
     "output_type": "execute_result"
    }
   ],
   "source": [
    "# таблица со средними значениями CAC по источникам\n",
    "source_ltv = source_report.groupby('source_id')['ltv'].mean().to_frame()\n",
    "source_ltv"
   ]
  },
  {
   "cell_type": "code",
   "execution_count": 83,
   "metadata": {},
   "outputs": [
    {
     "data": {
      "text/html": [
       "<div>\n",
       "<style scoped>\n",
       "    .dataframe tbody tr th:only-of-type {\n",
       "        vertical-align: middle;\n",
       "    }\n",
       "\n",
       "    .dataframe tbody tr th {\n",
       "        vertical-align: top;\n",
       "    }\n",
       "\n",
       "    .dataframe thead th {\n",
       "        text-align: right;\n",
       "    }\n",
       "</style>\n",
       "<table border=\"1\" class=\"dataframe\">\n",
       "  <thead>\n",
       "    <tr style=\"text-align: right;\">\n",
       "      <th></th>\n",
       "      <th>roi</th>\n",
       "    </tr>\n",
       "    <tr>\n",
       "      <th>source_id</th>\n",
       "      <th></th>\n",
       "    </tr>\n",
       "  </thead>\n",
       "  <tbody>\n",
       "    <tr>\n",
       "      <th>1</th>\n",
       "      <td>1.556518</td>\n",
       "    </tr>\n",
       "    <tr>\n",
       "      <th>2</th>\n",
       "      <td>0.991937</td>\n",
       "    </tr>\n",
       "    <tr>\n",
       "      <th>3</th>\n",
       "      <td>0.382322</td>\n",
       "    </tr>\n",
       "    <tr>\n",
       "      <th>4</th>\n",
       "      <td>0.933983</td>\n",
       "    </tr>\n",
       "    <tr>\n",
       "      <th>5</th>\n",
       "      <td>0.960595</td>\n",
       "    </tr>\n",
       "    <tr>\n",
       "      <th>7</th>\n",
       "      <td>inf</td>\n",
       "    </tr>\n",
       "    <tr>\n",
       "      <th>9</th>\n",
       "      <td>1.043421</td>\n",
       "    </tr>\n",
       "    <tr>\n",
       "      <th>10</th>\n",
       "      <td>0.822435</td>\n",
       "    </tr>\n",
       "  </tbody>\n",
       "</table>\n",
       "</div>"
      ],
      "text/plain": [
       "                roi\n",
       "source_id          \n",
       "1          1.556518\n",
       "2          0.991937\n",
       "3          0.382322\n",
       "4          0.933983\n",
       "5          0.960595\n",
       "7               inf\n",
       "9          1.043421\n",
       "10         0.822435"
      ]
     },
     "execution_count": 83,
     "metadata": {},
     "output_type": "execute_result"
    }
   ],
   "source": [
    "# roi по данным двух таблиц\n",
    "source_roi = (source_ltv['ltv'] / source_cac['cac']).to_frame()\n",
    "source_roi.columns = ['roi']\n",
    "source_roi"
   ]
  },
  {
   "cell_type": "code",
   "execution_count": 84,
   "metadata": {},
   "outputs": [
    {
     "data": {
      "text/plain": [
       "Text(0, 0.5, 'roi')"
      ]
     },
     "execution_count": 84,
     "metadata": {},
     "output_type": "execute_result"
    },
    {
     "data": {
      "image/png": "[encoded data removed]",
      "text/plain": [
       "<Figure size 432x288 with 1 Axes>"
      ]
     },
     "metadata": {},
     "output_type": "display_data"
    }
   ],
   "source": [
    "# данные по окупаемости источников за год\n",
    "source_roi.query('source_id != 7').sort_values(by='roi', ascending=False).plot(kind='bar', grid=True)\n",
    "plt.title('Окупаемость источников')\n",
    "plt.ylabel('roi')"
   ]
  },
  {
   "cell_type": "markdown",
   "metadata": {},
   "source": [
    "- В итоговой таблице проанализированы источники 1, 2, 3, 4, 5, 9 и 10. За исследуемый период окупились рекламные источники № 1 (156%) и 9 (100%), тогда как 2 (99%), 5 (96%), 4 (93%) только приближаются к 100% окупаемости. Самый низкий показатель roi у источника № 3 (38%)."
   ]
  },
  {
   "cell_type": "markdown",
   "metadata": {},
   "source": [
    "#### Device"
   ]
  },
  {
   "cell_type": "code",
   "execution_count": 85,
   "metadata": {},
   "outputs": [
    {
     "data": {
      "text/html": [
       "<div>\n",
       "<style scoped>\n",
       "    .dataframe tbody tr th:only-of-type {\n",
       "        vertical-align: middle;\n",
       "    }\n",
       "\n",
       "    .dataframe tbody tr th {\n",
       "        vertical-align: top;\n",
       "    }\n",
       "\n",
       "    .dataframe thead th {\n",
       "        text-align: right;\n",
       "    }\n",
       "</style>\n",
       "<table border=\"1\" class=\"dataframe\">\n",
       "  <thead>\n",
       "    <tr style=\"text-align: right;\">\n",
       "      <th></th>\n",
       "      <th></th>\n",
       "      <th>n_paying_users_device</th>\n",
       "    </tr>\n",
       "    <tr>\n",
       "      <th>device</th>\n",
       "      <th>acquisition_month</th>\n",
       "      <th></th>\n",
       "    </tr>\n",
       "  </thead>\n",
       "  <tbody>\n",
       "    <tr>\n",
       "      <th rowspan=\"12\" valign=\"top\">desktop</th>\n",
       "      <th>2017-06-01</th>\n",
       "      <td>2387</td>\n",
       "    </tr>\n",
       "    <tr>\n",
       "      <th>2017-07-01</th>\n",
       "      <td>1918</td>\n",
       "    </tr>\n",
       "    <tr>\n",
       "      <th>2017-08-01</th>\n",
       "      <td>1390</td>\n",
       "    </tr>\n",
       "    <tr>\n",
       "      <th>2017-09-01</th>\n",
       "      <td>2416</td>\n",
       "    </tr>\n",
       "    <tr>\n",
       "      <th>2017-10-01</th>\n",
       "      <td>3800</td>\n",
       "    </tr>\n",
       "    <tr>\n",
       "      <th>2017-11-01</th>\n",
       "      <td>3454</td>\n",
       "    </tr>\n",
       "    <tr>\n",
       "      <th>2017-12-01</th>\n",
       "      <td>3276</td>\n",
       "    </tr>\n",
       "    <tr>\n",
       "      <th>2018-01-01</th>\n",
       "      <td>2464</td>\n",
       "    </tr>\n",
       "    <tr>\n",
       "      <th>2018-02-01</th>\n",
       "      <td>2484</td>\n",
       "    </tr>\n",
       "    <tr>\n",
       "      <th>2018-03-01</th>\n",
       "      <td>2239</td>\n",
       "    </tr>\n",
       "    <tr>\n",
       "      <th>2018-04-01</th>\n",
       "      <td>1544</td>\n",
       "    </tr>\n",
       "    <tr>\n",
       "      <th>2018-05-01</th>\n",
       "      <td>1839</td>\n",
       "    </tr>\n",
       "    <tr>\n",
       "      <th rowspan=\"12\" valign=\"top\">touch</th>\n",
       "      <th>2017-06-01</th>\n",
       "      <td>536</td>\n",
       "    </tr>\n",
       "    <tr>\n",
       "      <th>2017-07-01</th>\n",
       "      <td>540</td>\n",
       "    </tr>\n",
       "    <tr>\n",
       "      <th>2017-08-01</th>\n",
       "      <td>331</td>\n",
       "    </tr>\n",
       "    <tr>\n",
       "      <th>2017-09-01</th>\n",
       "      <td>642</td>\n",
       "    </tr>\n",
       "    <tr>\n",
       "      <th>2017-10-01</th>\n",
       "      <td>878</td>\n",
       "    </tr>\n",
       "    <tr>\n",
       "      <th>2017-11-01</th>\n",
       "      <td>808</td>\n",
       "    </tr>\n",
       "    <tr>\n",
       "      <th>2017-12-01</th>\n",
       "      <td>798</td>\n",
       "    </tr>\n",
       "    <tr>\n",
       "      <th>2018-01-01</th>\n",
       "      <td>655</td>\n",
       "    </tr>\n",
       "    <tr>\n",
       "      <th>2018-02-01</th>\n",
       "      <td>702</td>\n",
       "    </tr>\n",
       "    <tr>\n",
       "      <th>2018-03-01</th>\n",
       "      <td>599</td>\n",
       "    </tr>\n",
       "    <tr>\n",
       "      <th>2018-04-01</th>\n",
       "      <td>346</td>\n",
       "    </tr>\n",
       "    <tr>\n",
       "      <th>2018-05-01</th>\n",
       "      <td>477</td>\n",
       "    </tr>\n",
       "  </tbody>\n",
       "</table>\n",
       "</div>"
      ],
      "text/plain": [
       "                           n_paying_users_device\n",
       "device  acquisition_month                       \n",
       "desktop 2017-06-01                          2387\n",
       "        2017-07-01                          1918\n",
       "        2017-08-01                          1390\n",
       "        2017-09-01                          2416\n",
       "        2017-10-01                          3800\n",
       "        2017-11-01                          3454\n",
       "        2017-12-01                          3276\n",
       "        2018-01-01                          2464\n",
       "        2018-02-01                          2484\n",
       "        2018-03-01                          2239\n",
       "        2018-04-01                          1544\n",
       "        2018-05-01                          1839\n",
       "touch   2017-06-01                           536\n",
       "        2017-07-01                           540\n",
       "        2017-08-01                           331\n",
       "        2017-09-01                           642\n",
       "        2017-10-01                           878\n",
       "        2017-11-01                           808\n",
       "        2017-12-01                           798\n",
       "        2018-01-01                           655\n",
       "        2018-02-01                           702\n",
       "        2018-03-01                           599\n",
       "        2018-04-01                           346\n",
       "        2018-05-01                           477"
      ]
     },
     "execution_count": 85,
     "metadata": {},
     "output_type": "execute_result"
    }
   ],
   "source": [
    "# количество покупателей по устройствам в месяц\n",
    "n_paying_users_device = paying_users.reset_index().groupby(['device', 'acquisition_month']).agg({'uid':'count'})\n",
    "n_paying_users_device.columns = ['n_paying_users_device']\n",
    "n_paying_users_device"
   ]
  },
  {
   "cell_type": "code",
   "execution_count": 86,
   "metadata": {},
   "outputs": [
    {
     "data": {
      "text/html": [
       "<div>\n",
       "<style scoped>\n",
       "    .dataframe tbody tr th:only-of-type {\n",
       "        vertical-align: middle;\n",
       "    }\n",
       "\n",
       "    .dataframe tbody tr th {\n",
       "        vertical-align: top;\n",
       "    }\n",
       "\n",
       "    .dataframe thead th {\n",
       "        text-align: right;\n",
       "    }\n",
       "</style>\n",
       "<table border=\"1\" class=\"dataframe\">\n",
       "  <thead>\n",
       "    <tr style=\"text-align: right;\">\n",
       "      <th></th>\n",
       "      <th></th>\n",
       "      <th>payer_acquisition_cost</th>\n",
       "      <th>total_revenue</th>\n",
       "      <th>n_paying_users_device</th>\n",
       "    </tr>\n",
       "    <tr>\n",
       "      <th>device</th>\n",
       "      <th>acquisition_month</th>\n",
       "      <th></th>\n",
       "      <th></th>\n",
       "      <th></th>\n",
       "    </tr>\n",
       "  </thead>\n",
       "  <tbody>\n",
       "    <tr>\n",
       "      <th rowspan=\"12\" valign=\"top\">desktop</th>\n",
       "      <th>2017-06-01</th>\n",
       "      <td>14738.667425</td>\n",
       "      <td>35403.63</td>\n",
       "      <td>2387</td>\n",
       "    </tr>\n",
       "    <tr>\n",
       "      <th>2017-07-01</th>\n",
       "      <td>14300.702753</td>\n",
       "      <td>14083.05</td>\n",
       "      <td>1918</td>\n",
       "    </tr>\n",
       "    <tr>\n",
       "      <th>2017-08-01</th>\n",
       "      <td>11756.758764</td>\n",
       "      <td>10361.93</td>\n",
       "      <td>1390</td>\n",
       "    </tr>\n",
       "    <tr>\n",
       "      <th>2017-09-01</th>\n",
       "      <td>19201.182867</td>\n",
       "      <td>29243.29</td>\n",
       "      <td>2416</td>\n",
       "    </tr>\n",
       "    <tr>\n",
       "      <th>2017-10-01</th>\n",
       "      <td>29725.056658</td>\n",
       "      <td>22885.48</td>\n",
       "      <td>3800</td>\n",
       "    </tr>\n",
       "    <tr>\n",
       "      <th>2017-11-01</th>\n",
       "      <td>30869.279241</td>\n",
       "      <td>20153.92</td>\n",
       "      <td>3454</td>\n",
       "    </tr>\n",
       "    <tr>\n",
       "      <th>2017-12-01</th>\n",
       "      <td>30668.109144</td>\n",
       "      <td>27354.28</td>\n",
       "      <td>3276</td>\n",
       "    </tr>\n",
       "    <tr>\n",
       "      <th>2018-01-01</th>\n",
       "      <td>26567.458931</td>\n",
       "      <td>11893.38</td>\n",
       "      <td>2464</td>\n",
       "    </tr>\n",
       "    <tr>\n",
       "      <th>2018-02-01</th>\n",
       "      <td>25185.589773</td>\n",
       "      <td>12275.84</td>\n",
       "      <td>2484</td>\n",
       "    </tr>\n",
       "    <tr>\n",
       "      <th>2018-03-01</th>\n",
       "      <td>24433.160630</td>\n",
       "      <td>10872.78</td>\n",
       "      <td>2239</td>\n",
       "    </tr>\n",
       "    <tr>\n",
       "      <th>2018-04-01</th>\n",
       "      <td>18159.663884</td>\n",
       "      <td>8361.58</td>\n",
       "      <td>1544</td>\n",
       "    </tr>\n",
       "    <tr>\n",
       "      <th>2018-05-01</th>\n",
       "      <td>17577.420489</td>\n",
       "      <td>8440.61</td>\n",
       "      <td>1839</td>\n",
       "    </tr>\n",
       "    <tr>\n",
       "      <th rowspan=\"12\" valign=\"top\">touch</th>\n",
       "      <th>2017-06-01</th>\n",
       "      <td>3182.232575</td>\n",
       "      <td>4622.42</td>\n",
       "      <td>536</td>\n",
       "    </tr>\n",
       "    <tr>\n",
       "      <th>2017-07-01</th>\n",
       "      <td>3766.147247</td>\n",
       "      <td>3729.06</td>\n",
       "      <td>540</td>\n",
       "    </tr>\n",
       "    <tr>\n",
       "      <th>2017-08-01</th>\n",
       "      <td>2813.611236</td>\n",
       "      <td>3099.94</td>\n",
       "      <td>331</td>\n",
       "    </tr>\n",
       "    <tr>\n",
       "      <th>2017-09-01</th>\n",
       "      <td>5056.777133</td>\n",
       "      <td>4439.27</td>\n",
       "      <td>642</td>\n",
       "    </tr>\n",
       "    <tr>\n",
       "      <th>2017-10-01</th>\n",
       "      <td>6563.053342</td>\n",
       "      <td>4972.21</td>\n",
       "      <td>878</td>\n",
       "    </tr>\n",
       "    <tr>\n",
       "      <th>2017-11-01</th>\n",
       "      <td>6944.670759</td>\n",
       "      <td>4272.80</td>\n",
       "      <td>808</td>\n",
       "    </tr>\n",
       "    <tr>\n",
       "      <th>2017-12-01</th>\n",
       "      <td>7462.890856</td>\n",
       "      <td>3803.57</td>\n",
       "      <td>798</td>\n",
       "    </tr>\n",
       "    <tr>\n",
       "      <th>2018-01-01</th>\n",
       "      <td>6715.211069</td>\n",
       "      <td>2653.44</td>\n",
       "      <td>655</td>\n",
       "    </tr>\n",
       "    <tr>\n",
       "      <th>2018-02-01</th>\n",
       "      <td>7355.640227</td>\n",
       "      <td>2785.45</td>\n",
       "      <td>702</td>\n",
       "    </tr>\n",
       "    <tr>\n",
       "      <th>2018-03-01</th>\n",
       "      <td>5844.709370</td>\n",
       "      <td>2897.38</td>\n",
       "      <td>599</td>\n",
       "    </tr>\n",
       "    <tr>\n",
       "      <th>2018-04-01</th>\n",
       "      <td>3872.656116</td>\n",
       "      <td>1520.97</td>\n",
       "      <td>346</td>\n",
       "    </tr>\n",
       "    <tr>\n",
       "      <th>2018-05-01</th>\n",
       "      <td>4454.809511</td>\n",
       "      <td>1930.92</td>\n",
       "      <td>477</td>\n",
       "    </tr>\n",
       "  </tbody>\n",
       "</table>\n",
       "</div>"
      ],
      "text/plain": [
       "                           payer_acquisition_cost  total_revenue  \\\n",
       "device  acquisition_month                                          \n",
       "desktop 2017-06-01                   14738.667425       35403.63   \n",
       "        2017-07-01                   14300.702753       14083.05   \n",
       "        2017-08-01                   11756.758764       10361.93   \n",
       "        2017-09-01                   19201.182867       29243.29   \n",
       "        2017-10-01                   29725.056658       22885.48   \n",
       "        2017-11-01                   30869.279241       20153.92   \n",
       "        2017-12-01                   30668.109144       27354.28   \n",
       "        2018-01-01                   26567.458931       11893.38   \n",
       "        2018-02-01                   25185.589773       12275.84   \n",
       "        2018-03-01                   24433.160630       10872.78   \n",
       "        2018-04-01                   18159.663884        8361.58   \n",
       "        2018-05-01                   17577.420489        8440.61   \n",
       "touch   2017-06-01                    3182.232575        4622.42   \n",
       "        2017-07-01                    3766.147247        3729.06   \n",
       "        2017-08-01                    2813.611236        3099.94   \n",
       "        2017-09-01                    5056.777133        4439.27   \n",
       "        2017-10-01                    6563.053342        4972.21   \n",
       "        2017-11-01                    6944.670759        4272.80   \n",
       "        2017-12-01                    7462.890856        3803.57   \n",
       "        2018-01-01                    6715.211069        2653.44   \n",
       "        2018-02-01                    7355.640227        2785.45   \n",
       "        2018-03-01                    5844.709370        2897.38   \n",
       "        2018-04-01                    3872.656116        1520.97   \n",
       "        2018-05-01                    4454.809511        1930.92   \n",
       "\n",
       "                           n_paying_users_device  \n",
       "device  acquisition_month                         \n",
       "desktop 2017-06-01                          2387  \n",
       "        2017-07-01                          1918  \n",
       "        2017-08-01                          1390  \n",
       "        2017-09-01                          2416  \n",
       "        2017-10-01                          3800  \n",
       "        2017-11-01                          3454  \n",
       "        2017-12-01                          3276  \n",
       "        2018-01-01                          2464  \n",
       "        2018-02-01                          2484  \n",
       "        2018-03-01                          2239  \n",
       "        2018-04-01                          1544  \n",
       "        2018-05-01                          1839  \n",
       "touch   2017-06-01                           536  \n",
       "        2017-07-01                           540  \n",
       "        2017-08-01                           331  \n",
       "        2017-09-01                           642  \n",
       "        2017-10-01                           878  \n",
       "        2017-11-01                           808  \n",
       "        2017-12-01                           798  \n",
       "        2018-01-01                           655  \n",
       "        2018-02-01                           702  \n",
       "        2018-03-01                           599  \n",
       "        2018-04-01                           346  \n",
       "        2018-05-01                           477  "
      ]
     },
     "execution_count": 86,
     "metadata": {},
     "output_type": "execute_result"
    }
   ],
   "source": [
    "# общая стоимость привлечения покупателей и выручка по устройствам и в определенный месяц\n",
    "device_report = paying_users.groupby(['device', 'acquisition_month']).agg({'payer_acquisition_cost':'sum', 'total_revenue':'sum'})\n",
    "device_report = device_report.join(n_paying_users_device, on=['device', 'acquisition_month'], how='left')\n",
    "device_report"
   ]
  },
  {
   "cell_type": "code",
   "execution_count": 87,
   "metadata": {},
   "outputs": [
    {
     "data": {
      "text/html": [
       "<div>\n",
       "<style scoped>\n",
       "    .dataframe tbody tr th:only-of-type {\n",
       "        vertical-align: middle;\n",
       "    }\n",
       "\n",
       "    .dataframe tbody tr th {\n",
       "        vertical-align: top;\n",
       "    }\n",
       "\n",
       "    .dataframe thead th {\n",
       "        text-align: right;\n",
       "    }\n",
       "</style>\n",
       "<table border=\"1\" class=\"dataframe\">\n",
       "  <thead>\n",
       "    <tr style=\"text-align: right;\">\n",
       "      <th>acquisition_month</th>\n",
       "      <th>2017-06-01</th>\n",
       "      <th>2017-07-01</th>\n",
       "      <th>2017-08-01</th>\n",
       "      <th>2017-09-01</th>\n",
       "      <th>2017-10-01</th>\n",
       "      <th>2017-11-01</th>\n",
       "      <th>2017-12-01</th>\n",
       "      <th>2018-01-01</th>\n",
       "      <th>2018-02-01</th>\n",
       "      <th>2018-03-01</th>\n",
       "      <th>2018-04-01</th>\n",
       "      <th>2018-05-01</th>\n",
       "    </tr>\n",
       "    <tr>\n",
       "      <th>device</th>\n",
       "      <th></th>\n",
       "      <th></th>\n",
       "      <th></th>\n",
       "      <th></th>\n",
       "      <th></th>\n",
       "      <th></th>\n",
       "      <th></th>\n",
       "      <th></th>\n",
       "      <th></th>\n",
       "      <th></th>\n",
       "      <th></th>\n",
       "      <th></th>\n",
       "    </tr>\n",
       "  </thead>\n",
       "  <tbody>\n",
       "    <tr>\n",
       "      <th>desktop</th>\n",
       "      <td>6.174557</td>\n",
       "      <td>7.456049</td>\n",
       "      <td>8.458100</td>\n",
       "      <td>7.947509</td>\n",
       "      <td>7.822383</td>\n",
       "      <td>8.937255</td>\n",
       "      <td>9.361450</td>\n",
       "      <td>10.782248</td>\n",
       "      <td>10.139126</td>\n",
       "      <td>10.912533</td>\n",
       "      <td>11.761440</td>\n",
       "      <td>9.558141</td>\n",
       "    </tr>\n",
       "    <tr>\n",
       "      <th>touch</th>\n",
       "      <td>5.937001</td>\n",
       "      <td>6.974347</td>\n",
       "      <td>8.500336</td>\n",
       "      <td>7.876600</td>\n",
       "      <td>7.475004</td>\n",
       "      <td>8.594890</td>\n",
       "      <td>9.351994</td>\n",
       "      <td>10.252231</td>\n",
       "      <td>10.478120</td>\n",
       "      <td>9.757445</td>\n",
       "      <td>11.192648</td>\n",
       "      <td>9.339223</td>\n",
       "    </tr>\n",
       "  </tbody>\n",
       "</table>\n",
       "</div>"
      ],
      "text/plain": [
       "acquisition_month  2017-06-01  2017-07-01  2017-08-01  2017-09-01  2017-10-01  \\\n",
       "device                                                                          \n",
       "desktop              6.174557    7.456049    8.458100    7.947509    7.822383   \n",
       "touch                5.937001    6.974347    8.500336    7.876600    7.475004   \n",
       "\n",
       "acquisition_month  2017-11-01  2017-12-01  2018-01-01  2018-02-01  2018-03-01  \\\n",
       "device                                                                          \n",
       "desktop              8.937255    9.361450   10.782248   10.139126   10.912533   \n",
       "touch                8.594890    9.351994   10.252231   10.478120    9.757445   \n",
       "\n",
       "acquisition_month  2018-04-01  2018-05-01  \n",
       "device                                     \n",
       "desktop             11.761440    9.558141  \n",
       "touch               11.192648    9.339223  "
      ]
     },
     "execution_count": 87,
     "metadata": {},
     "output_type": "execute_result"
    }
   ],
   "source": [
    "# стоимость привлечения одного покупателя\n",
    "device_report['cac'] = device_report['payer_acquisition_cost'] / device_report['n_paying_users_device']\n",
    "device_report.pivot_table(index='device', columns='acquisition_month', values='cac', aggfunc='mean')"
   ]
  },
  {
   "cell_type": "code",
   "execution_count": 88,
   "metadata": {},
   "outputs": [
    {
     "data": {
      "text/html": [
       "<div>\n",
       "<style scoped>\n",
       "    .dataframe tbody tr th:only-of-type {\n",
       "        vertical-align: middle;\n",
       "    }\n",
       "\n",
       "    .dataframe tbody tr th {\n",
       "        vertical-align: top;\n",
       "    }\n",
       "\n",
       "    .dataframe thead th {\n",
       "        text-align: right;\n",
       "    }\n",
       "</style>\n",
       "<table border=\"1\" class=\"dataframe\">\n",
       "  <thead>\n",
       "    <tr style=\"text-align: right;\">\n",
       "      <th></th>\n",
       "      <th>cac</th>\n",
       "    </tr>\n",
       "    <tr>\n",
       "      <th>device</th>\n",
       "      <th></th>\n",
       "    </tr>\n",
       "  </thead>\n",
       "  <tbody>\n",
       "    <tr>\n",
       "      <th>desktop</th>\n",
       "      <td>9.109233</td>\n",
       "    </tr>\n",
       "    <tr>\n",
       "      <th>touch</th>\n",
       "      <td>8.810820</td>\n",
       "    </tr>\n",
       "  </tbody>\n",
       "</table>\n",
       "</div>"
      ],
      "text/plain": [
       "              cac\n",
       "device           \n",
       "desktop  9.109233\n",
       "touch    8.810820"
      ]
     },
     "execution_count": 88,
     "metadata": {},
     "output_type": "execute_result"
    }
   ],
   "source": [
    "# таблица cac по устройствам\n",
    "device_cac = device_report.groupby('device')['cac'].mean().to_frame()\n",
    "device_cac"
   ]
  },
  {
   "cell_type": "markdown",
   "metadata": {},
   "source": [
    "- Средние показатели привлечения покупателя по устройствам выглядят следующим образом: desktop - 9.1, touch - 8.8."
   ]
  },
  {
   "cell_type": "code",
   "execution_count": 89,
   "metadata": {},
   "outputs": [
    {
     "data": {
      "text/html": [
       "<div>\n",
       "<style scoped>\n",
       "    .dataframe tbody tr th:only-of-type {\n",
       "        vertical-align: middle;\n",
       "    }\n",
       "\n",
       "    .dataframe tbody tr th {\n",
       "        vertical-align: top;\n",
       "    }\n",
       "\n",
       "    .dataframe thead th {\n",
       "        text-align: right;\n",
       "    }\n",
       "</style>\n",
       "<table border=\"1\" class=\"dataframe\">\n",
       "  <thead>\n",
       "    <tr style=\"text-align: right;\">\n",
       "      <th></th>\n",
       "      <th>ltv</th>\n",
       "    </tr>\n",
       "    <tr>\n",
       "      <th>device</th>\n",
       "      <th></th>\n",
       "    </tr>\n",
       "  </thead>\n",
       "  <tbody>\n",
       "    <tr>\n",
       "      <th>desktop</th>\n",
       "      <td>7.214219</td>\n",
       "    </tr>\n",
       "    <tr>\n",
       "      <th>touch</th>\n",
       "      <td>5.735600</td>\n",
       "    </tr>\n",
       "  </tbody>\n",
       "</table>\n",
       "</div>"
      ],
      "text/plain": [
       "              ltv\n",
       "device           \n",
       "desktop  7.214219\n",
       "touch    5.735600"
      ]
     },
     "execution_count": 89,
     "metadata": {},
     "output_type": "execute_result"
    }
   ],
   "source": [
    "#  таблица ltv по устройствам\n",
    "device_report['ltv'] = device_report['total_revenue'] / device_report['n_paying_users_device']\n",
    "device_ltv = device_report.groupby('device')['ltv'].mean().to_frame()\n",
    "device_ltv"
   ]
  },
  {
   "cell_type": "code",
   "execution_count": 90,
   "metadata": {},
   "outputs": [
    {
     "data": {
      "text/plain": [
       "Text(0.5, 0, 'roi')"
      ]
     },
     "execution_count": 90,
     "metadata": {},
     "output_type": "execute_result"
    },
    {
     "data": {
      "image/png": "[encoded data removed]",
      "text/plain": [
       "<Figure size 432x288 with 1 Axes>"
      ]
     },
     "metadata": {},
     "output_type": "display_data"
    }
   ],
   "source": [
    "# посчитаем окупаемость, исходя из данных по устройствам\n",
    "roi = device_ltv['ltv'] / device_cac['cac']\n",
    "roi.plot(kind='barh', grid=True)\n",
    "plt.title('Окупаемость по устройствам')\n",
    "plt.xlabel('roi')"
   ]
  },
  {
   "cell_type": "markdown",
   "metadata": {},
   "source": [
    "- ROI по устройствам за год показатели следующие: touch - 57%, desktop - 72%"
   ]
  },
  {
   "cell_type": "markdown",
   "metadata": {},
   "source": [
    "### Вывод"
   ]
  },
  {
   "cell_type": "markdown",
   "metadata": {},
   "source": [
    "- Исходя из полученных данных таблицы `costs`, всего было потрачено на рекламу **329132**. На отдельные источники суммы распределились следующим образом: 141321.63 на 3 источник, 61073.60 на 4, 51757.10 на 5, 42806.04 на 2, 20833.27 на 1, 5822.49 на 10 и 5517.49 на 9. По месяцам максимальная сумма была потрачена в декабре 2017 года (38315.35), а также в ноябре (37907.88) и октябре (36322.88). Минимальная летом: в августе того же года (14790.54), затем следуют июнь (18015.00) и июль (18240.59). Максимальные затраты были за три месяца до Нового года и в течение трех месяце после.\n",
    "- Средние показатели привлечения одного покупателя (cac) по всем источникам равны 7. Однако распределение по отдельным источникам отличается: самые дорогие источники - №3 (13.8) и 2 (12.6), 5 и 1 стоят 7.7, 7.2 соответственно. Покупатели 4 источника обходятся в 6.2, 9 - 4.9, 10 - 4.3.\n",
    "- Средние показатели привлечения покупателя (cac) по устройствам выглядят следующим образом: desktop - 9.1, touch - 8.8.\n",
    "- В итоговой таблице проанализированы источники 1, 2, 3, 4, 5, 9 и 10. За исследуемый период окупились рекламные источники № 1 (156%) и 9 (100%), тогда как 2 (99%), 5 (96%), 4 (93%) только приближаются к 100% окупаемости. Самый низкий показатель roi у источника № 3 (38%).\n",
    "- По устройствам за год показатели ROI следующие: touch - 57%, desktop - 72%"
   ]
  },
  {
   "cell_type": "markdown",
   "metadata": {},
   "source": [
    "<a id=\"conclusion\"></a>\n",
    "# 4. Общий вывод"
   ]
  },
  {
   "cell_type": "markdown",
   "metadata": {},
   "source": [
    "- *Для анализа выбраны данные с июня 2017 по конец мая 2018 года, в которых собраны лог сервера с данными о посещениях сайта Яндекс.Афиши, выгрузка всех заказов за этот период, статистика рекламных расходов. Основная задача = оптимизировать маркетинговые затраты.*\n",
    "\n",
    "    1. Первый этап работы с данными состоял из подготовки необходимых библоиотек и загрузки файлов. Изучены три датасета `orders, visits, costs`, в которых содержится информация о посещении сайта, заказах и затратах на маркетинг.\n",
    "    \n",
    "    2. Информация о продукте.\n",
    "\n",
    "- Среднее количество пользователей в день, неделю, месяц связано с показателями daily active users (**DAU**), weekly active users (**WAU**), monthly active users (**MAU**). В исследовании количество уникальных пользователей в день равно **907**, в неделю - **5621**, в месяц - **23228**.\n",
    "- Среднее количество сессий каждого пользователя в день вычислено через соотношение количества уникальных пользователей в день к числу сессий и держится в рамках 1 сессии в день.\n",
    "- Средняя продолжительность сессии составляет примерно 643 секунды, или почти 11 минут. Из графиков видно, что есть выбросы, которые влияют на средний показатель и увеличивают его. С компьютеров средняя сессия равна 704 секунды (почти 12 минут), с других устройств - 480 (8 минут).\n",
    "- Наиболее часто сессия длится 60 секунд, т.е. 1 минуту.\n",
    "- Коэффициент удержания показывает, какое количество пользователей определенной когорты возвращается ежемесячно. Эти показатели постепенно уменьшаются по мере увеличения продолжительности жизни когорты и приближается к 2% у 6 когорт (с сентября по февраль). Максимальный Retention Rate равен 8.55% (сентябрьская когорта во второй месяц).\n",
    "\n",
    "    3. Информация по продажам.\n",
    "\n",
    "- Пользователи начинают покупать в среднем в течение 3 часов после или во время своей первой сессии\n",
    "- Среднее количество покупок одного пользователя в месяц приближаетя к 2. Но, например, в июньской когорте число покупок может равняться 3 и 4.\n",
    "- Средний чек пользователя составляет 14.7. Средний чек пользователей постоянно меняется: в некоторых когортах он постепенно растет, но затем снижается (как в июньской когорте достигает максимума в 35.76 в сентябре, но к маю 2018 года опускается до 9.8), в других есть резкий скачок в декабре (138.67 у сентябрьской когорты). У всех когорт средний чек последнего месяца выше среднего чека нулевого месяца. Он может отличаться незначительно, как в январской когорте (4.14 и 4.70), или же увеличиться в несколько раз, как в декабрьской когорте (4.74 и 23.52).\n",
    "- Lifetime value постепенно увеличивается, т.е. клиент приносит больше прибыли со всех своих покупок. За полгода ценность пользователя растет от 4.8 почти до 8 (средний показатель равен 7.96). Самый высокий показатель у сентябрьской когорты: 12.3 к концу 6 месяца. Остальные LTV 6 когорт варьируются от 6.16 до 8.36\n",
    "\n",
    "    4. Информация по маркетинговым затратам.\n",
    "\n",
    "- Исходя из полученных данных таблицы `costs`, всего было потрачено на рекламу **329132**. На отдельные источники суммы распределились следующим образом: 141321.63 на 3 источник, 61073.60 на 4, 51757.10 на 5, 42806.04 на 2, 20833.27 на 1, 5822.49 на 10 и 5517.49 на 9. По месяцам максимальная сумма была потрачена в декабре 2017 года (38315.35), а также в ноябре (37907.88) и октябре (36322.88). Минимальная летом: в августе того же года (14790.54), затем следуют июнь (18015.00) и июль (18240.59). Максимальные затраты были за три месяца до Нового года и в течение трех месяце после.\n",
    "- Исходя из полученных данных таблицы `costs`, всего было потрачено на рекламу **329132**. На отдельные источники суммы распределились следующим образом: 141321.63 на 3 источник, 61073.60 на 4, 51757.10 на 5, 42806.04 на 2, 20833.27 на 1, 5822.49 на 10 и 5517.49 на 9. По месяцам максимальная сумма была потрачена в декабре 2017 года (38315.35), а также в ноябре (37907.88) и октябре (36322.88). Минимальная летом: в августе того же года (14790.54), затем следуют июнь (18015.00) и июль (18240.59). Максимальные затраты были за три месяца до Нового года и в течение трех месяце после.\n",
    "- Средние показатели привлечения одного покупателя (cac) по всем источникам равны 7. Однако распределение по отдельным источникам отличается: самые дорогие источники - №3 (13.8) и 2 (12.6), 5 и 1 стоят 7.7, 7.2 соответственно. Покупатели 4 источника обходятся в 6.2, 9 - 4.9, 10 - 4.3.\n",
    "- Средние показатели привлечения покупателя (cac) по устройствам выглядят следующим образом: desktop - 9.1, touch - 8.8.\n",
    "- В итоговой таблице проанализированы ROI источников 1, 2, 3, 4, 5, 9 и 10. За исследуемый период окупились рекламные источники № 1 (156%) и 9 (100%), тогда как 2 (99%), 5 (96%), 4 (93%) только приближаются к 100% окупаемости. Самый низкий показатель roi у источника № 3 (38%).\n",
    "- По устройствам за год показатели ROI следующие: touch - 57%, desktop - 72%\n",
    "\n",
    "    5. Рекомендации.\n",
    "    \n",
    "**В ходе анализа трех датасетов были изучены общая пользовательская активность, среднее количество покупок, продолжительность сессий, изменения среднего чека, коэффициент удержания, ценность клиента и стоимость его привлечения, а также общие затраты и окупаемость. Для этого были выделены когорты по месяцу первой покупки. Для более эффективной кампании важно обратить внимание на платформы для компьютера, т.к. roi для компьютеров выше, чем у других девайсов, хотя привлечение обойдется дороже(9.1). Среди рассмотренных источников за год окупились источники № 1 (156%) и 9 (100%), на которые важно сделать акцент. Стоимость привлечения одного покупателя этих источников составляет 7.2 (№1) и 4.9 (№9). Самый дорогой источник №3 показывает самый низкий уровень окупаемости (всего лишь 38%).</font>**"
   ]
  }
 ],
 "metadata": {
  "kernelspec": {
   "display_name": "Python 3",
   "language": "python",
   "name": "python3"
  },
  "language_info": {
   "codemirror_mode": {
    "name": "ipython",
    "version": 3
   },
   "file_extension": ".py",
   "mimetype": "text/x-python",
   "name": "python",
   "nbconvert_exporter": "python",
   "pygments_lexer": "ipython3",
   "version": "3.7.6"
  }
 },
 "nbformat": 4,
 "nbformat_minor": 2
}
